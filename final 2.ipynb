{
 "cells": [
  {
   "cell_type": "code",
   "execution_count": 31,
   "id": "d4584b2e",
   "metadata": {
    "_cell_guid": "b1076dfc-b9ad-4769-8c92-a6c4dae69d19",
    "_uuid": "8f2839f25d086af736a60e9eeb907d3b93b6e0e5",
    "execution": {
     "iopub.execute_input": "2023-04-04T22:22:15.539016Z",
     "iopub.status.busy": "2023-04-04T22:22:15.538449Z",
     "iopub.status.idle": "2023-04-04T22:22:19.424766Z",
     "shell.execute_reply": "2023-04-04T22:22:19.423079Z"
    },
    "papermill": {
     "duration": 3.89898,
     "end_time": "2023-04-04T22:22:19.428152",
     "exception": false,
     "start_time": "2023-04-04T22:22:15.529172",
     "status": "completed"
    },
    "tags": []
   },
   "outputs": [],
   "source": [
    "import numpy as np # linear algebra\n",
    "import pandas as pd # data processing, CSV file I/O (e.g. pd.read_csv)\n",
    "import matplotlib.pyplot as plt\n",
    "import seaborn as sns\n",
    "import plotly.express as px\n",
    "import plotly.graph_objects as go\n",
    "%matplotlib inline\n",
    "\n",
    "from sklearn.decomposition import PCA\n",
    "from sklearn.preprocessing import StandardScaler\n",
    "from sklearn.cluster import KMeans\n",
    "from sklearn.linear_model import LogisticRegression\n",
    "from sklearn.neighbors import KNeighborsClassifier\n",
    "from sklearn.tree import DecisionTreeClassifier\n",
    "from sklearn.model_selection import KFold, train_test_split, GridSearchCV, cross_val_score\n",
    "from sklearn.metrics import roc_auc_score, roc_curve, auc, classification_report, confusion_matrix\n",
    "from sklearn.impute import SimpleImputer\n",
    "from sklearn.pipeline import make_pipeline\n",
    "\n",
    "import os\n",
    "for dirname, _, filenames in os.walk('/kaggle/input'):\n",
    "    for filename in filenames:\n",
    "        print(os.path.join(dirname, filename))"
   ]
  },
  {
   "cell_type": "code",
   "execution_count": 7,
   "id": "2f22836b",
   "metadata": {
    "execution": {
     "iopub.execute_input": "2023-04-04T22:22:19.446399Z",
     "iopub.status.busy": "2023-04-04T22:22:19.445986Z",
     "iopub.status.idle": "2023-04-04T22:22:19.467551Z",
     "shell.execute_reply": "2023-04-04T22:22:19.466296Z"
    },
    "papermill": {
     "duration": 0.034002,
     "end_time": "2023-04-04T22:22:19.470450",
     "exception": false,
     "start_time": "2023-04-04T22:22:19.436448",
     "status": "completed"
    },
    "tags": []
   },
   "outputs": [],
   "source": [
    "df = pd.read_csv('C:\\\\Users\\\\user\\\\Desktop\\\\zz\\\\heart.csv')"
   ]
  },
  {
   "cell_type": "code",
   "execution_count": 8,
   "id": "1d0282f9",
   "metadata": {
    "execution": {
     "iopub.execute_input": "2023-04-04T22:22:19.488100Z",
     "iopub.status.busy": "2023-04-04T22:22:19.487457Z",
     "iopub.status.idle": "2023-04-04T22:22:19.497142Z",
     "shell.execute_reply": "2023-04-04T22:22:19.495692Z"
    },
    "papermill": {
     "duration": 0.021547,
     "end_time": "2023-04-04T22:22:19.499785",
     "exception": false,
     "start_time": "2023-04-04T22:22:19.478238",
     "status": "completed"
    },
    "tags": []
   },
   "outputs": [
    {
     "data": {
      "text/plain": [
       "(298, 19)"
      ]
     },
     "execution_count": 8,
     "metadata": {},
     "output_type": "execute_result"
    }
   ],
   "source": [
    "df.shape"
   ]
  },
  {
   "cell_type": "code",
   "execution_count": 9,
   "id": "3a538d05",
   "metadata": {
    "_kg_hide-input": false,
    "execution": {
     "iopub.execute_input": "2023-04-04T22:22:19.517654Z",
     "iopub.status.busy": "2023-04-04T22:22:19.517231Z",
     "iopub.status.idle": "2023-04-04T22:22:19.530704Z",
     "shell.execute_reply": "2023-04-04T22:22:19.529274Z"
    },
    "papermill": {
     "duration": 0.02576,
     "end_time": "2023-04-04T22:22:19.533313",
     "exception": false,
     "start_time": "2023-04-04T22:22:19.507553",
     "status": "completed"
    },
    "tags": []
   },
   "outputs": [
    {
     "data": {
      "text/plain": [
       "age                      int64\n",
       "sex                      int64\n",
       "cp                       int64\n",
       "trestbps                 int64\n",
       "chol                     int64\n",
       "fbs                      int64\n",
       "restecg                  int64\n",
       "thalach                  int64\n",
       "exang                    int64\n",
       "oldpeak                float64\n",
       "slope                    int64\n",
       "ca                       int64\n",
       "thal                     int64\n",
       "target                   int64\n",
       "normalized_age         float64\n",
       "normalized_chol          int64\n",
       "normalized_trestbps      int64\n",
       "normalized_thalach     float64\n",
       "normalized_oldpeak     float64\n",
       "dtype: object"
      ]
     },
     "execution_count": 9,
     "metadata": {},
     "output_type": "execute_result"
    }
   ],
   "source": [
    "df.dtypes"
   ]
  },
  {
   "attachments": {},
   "cell_type": "markdown",
   "id": "aadca183",
   "metadata": {
    "papermill": {
     "duration": 0.007665,
     "end_time": "2023-04-04T22:22:19.549708",
     "exception": false,
     "start_time": "2023-04-04T22:22:19.542043",
     "status": "completed"
    },
    "tags": []
   },
   "source": [
    "Data statistics such as the mean, median, and percentiles"
   ]
  },
  {
   "cell_type": "code",
   "execution_count": 10,
   "id": "bfe7856c",
   "metadata": {
    "_kg_hide-input": true,
    "execution": {
     "iopub.execute_input": "2023-04-04T22:22:19.568617Z",
     "iopub.status.busy": "2023-04-04T22:22:19.567784Z",
     "iopub.status.idle": "2023-04-04T22:22:19.647459Z",
     "shell.execute_reply": "2023-04-04T22:22:19.646028Z"
    },
    "papermill": {
     "duration": 0.091911,
     "end_time": "2023-04-04T22:22:19.650309",
     "exception": false,
     "start_time": "2023-04-04T22:22:19.558398",
     "status": "completed"
    },
    "tags": []
   },
   "outputs": [
    {
     "data": {
      "text/html": [
       "<div>\n",
       "<style scoped>\n",
       "    .dataframe tbody tr th:only-of-type {\n",
       "        vertical-align: middle;\n",
       "    }\n",
       "\n",
       "    .dataframe tbody tr th {\n",
       "        vertical-align: top;\n",
       "    }\n",
       "\n",
       "    .dataframe thead th {\n",
       "        text-align: right;\n",
       "    }\n",
       "</style>\n",
       "<table border=\"1\" class=\"dataframe\">\n",
       "  <thead>\n",
       "    <tr style=\"text-align: right;\">\n",
       "      <th></th>\n",
       "      <th>age</th>\n",
       "      <th>sex</th>\n",
       "      <th>cp</th>\n",
       "      <th>trestbps</th>\n",
       "      <th>chol</th>\n",
       "      <th>fbs</th>\n",
       "      <th>restecg</th>\n",
       "      <th>thalach</th>\n",
       "      <th>exang</th>\n",
       "      <th>oldpeak</th>\n",
       "      <th>slope</th>\n",
       "      <th>ca</th>\n",
       "      <th>thal</th>\n",
       "      <th>target</th>\n",
       "      <th>normalized_age</th>\n",
       "      <th>normalized_chol</th>\n",
       "      <th>normalized_trestbps</th>\n",
       "      <th>normalized_thalach</th>\n",
       "      <th>normalized_oldpeak</th>\n",
       "    </tr>\n",
       "  </thead>\n",
       "  <tbody>\n",
       "    <tr>\n",
       "      <th>count</th>\n",
       "      <td>298.000000</td>\n",
       "      <td>298.000000</td>\n",
       "      <td>298.000000</td>\n",
       "      <td>298.000000</td>\n",
       "      <td>298.000000</td>\n",
       "      <td>298.000000</td>\n",
       "      <td>298.000000</td>\n",
       "      <td>298.000000</td>\n",
       "      <td>298.000000</td>\n",
       "      <td>298.000000</td>\n",
       "      <td>298.000000</td>\n",
       "      <td>298.000000</td>\n",
       "      <td>298.000000</td>\n",
       "      <td>298.000000</td>\n",
       "      <td>298.000000</td>\n",
       "      <td>298.000000</td>\n",
       "      <td>298.000000</td>\n",
       "      <td>2.980000e+02</td>\n",
       "      <td>2.980000e+02</td>\n",
       "    </tr>\n",
       "    <tr>\n",
       "      <th>mean</th>\n",
       "      <td>54.510067</td>\n",
       "      <td>0.677852</td>\n",
       "      <td>0.959732</td>\n",
       "      <td>131.580537</td>\n",
       "      <td>246.906040</td>\n",
       "      <td>0.147651</td>\n",
       "      <td>0.523490</td>\n",
       "      <td>149.466443</td>\n",
       "      <td>0.328859</td>\n",
       "      <td>1.055369</td>\n",
       "      <td>1.395973</td>\n",
       "      <td>0.674497</td>\n",
       "      <td>2.312081</td>\n",
       "      <td>0.540268</td>\n",
       "      <td>0.224832</td>\n",
       "      <td>1.355705</td>\n",
       "      <td>2.426174</td>\n",
       "      <td>-1.490232e-17</td>\n",
       "      <td>5.960929e-17</td>\n",
       "    </tr>\n",
       "    <tr>\n",
       "      <th>std</th>\n",
       "      <td>9.030526</td>\n",
       "      <td>0.468085</td>\n",
       "      <td>1.033963</td>\n",
       "      <td>17.669293</td>\n",
       "      <td>51.893097</td>\n",
       "      <td>0.355350</td>\n",
       "      <td>0.526521</td>\n",
       "      <td>22.983830</td>\n",
       "      <td>0.470589</td>\n",
       "      <td>1.164162</td>\n",
       "      <td>0.617574</td>\n",
       "      <td>0.938202</td>\n",
       "      <td>0.614024</td>\n",
       "      <td>0.499214</td>\n",
       "      <td>0.312734</td>\n",
       "      <td>0.743763</td>\n",
       "      <td>1.410490</td>\n",
       "      <td>1.001682e+00</td>\n",
       "      <td>1.001682e+00</td>\n",
       "    </tr>\n",
       "    <tr>\n",
       "      <th>min</th>\n",
       "      <td>29.000000</td>\n",
       "      <td>0.000000</td>\n",
       "      <td>0.000000</td>\n",
       "      <td>94.000000</td>\n",
       "      <td>126.000000</td>\n",
       "      <td>0.000000</td>\n",
       "      <td>0.000000</td>\n",
       "      <td>71.000000</td>\n",
       "      <td>0.000000</td>\n",
       "      <td>0.000000</td>\n",
       "      <td>0.000000</td>\n",
       "      <td>0.000000</td>\n",
       "      <td>0.000000</td>\n",
       "      <td>0.000000</td>\n",
       "      <td>0.000000</td>\n",
       "      <td>0.000000</td>\n",
       "      <td>0.000000</td>\n",
       "      <td>-3.419727e+00</td>\n",
       "      <td>-9.080729e-01</td>\n",
       "    </tr>\n",
       "    <tr>\n",
       "      <th>25%</th>\n",
       "      <td>48.000000</td>\n",
       "      <td>0.000000</td>\n",
       "      <td>0.000000</td>\n",
       "      <td>120.000000</td>\n",
       "      <td>211.000000</td>\n",
       "      <td>0.000000</td>\n",
       "      <td>0.000000</td>\n",
       "      <td>133.000000</td>\n",
       "      <td>0.000000</td>\n",
       "      <td>0.000000</td>\n",
       "      <td>1.000000</td>\n",
       "      <td>0.000000</td>\n",
       "      <td>2.000000</td>\n",
       "      <td>0.000000</td>\n",
       "      <td>0.000000</td>\n",
       "      <td>1.000000</td>\n",
       "      <td>2.000000</td>\n",
       "      <td>-7.176411e-01</td>\n",
       "      <td>-9.080729e-01</td>\n",
       "    </tr>\n",
       "    <tr>\n",
       "      <th>50%</th>\n",
       "      <td>56.000000</td>\n",
       "      <td>1.000000</td>\n",
       "      <td>1.000000</td>\n",
       "      <td>130.000000</td>\n",
       "      <td>241.500000</td>\n",
       "      <td>0.000000</td>\n",
       "      <td>1.000000</td>\n",
       "      <td>152.500000</td>\n",
       "      <td>0.000000</td>\n",
       "      <td>0.800000</td>\n",
       "      <td>1.000000</td>\n",
       "      <td>0.000000</td>\n",
       "      <td>2.000000</td>\n",
       "      <td>1.000000</td>\n",
       "      <td>0.000000</td>\n",
       "      <td>2.000000</td>\n",
       "      <td>3.000000</td>\n",
       "      <td>1.322086e-01</td>\n",
       "      <td>-2.197277e-01</td>\n",
       "    </tr>\n",
       "    <tr>\n",
       "      <th>75%</th>\n",
       "      <td>61.000000</td>\n",
       "      <td>1.000000</td>\n",
       "      <td>2.000000</td>\n",
       "      <td>140.000000</td>\n",
       "      <td>275.000000</td>\n",
       "      <td>0.000000</td>\n",
       "      <td>1.000000</td>\n",
       "      <td>165.750000</td>\n",
       "      <td>1.000000</td>\n",
       "      <td>1.600000</td>\n",
       "      <td>2.000000</td>\n",
       "      <td>1.000000</td>\n",
       "      <td>3.000000</td>\n",
       "      <td>1.000000</td>\n",
       "      <td>0.333333</td>\n",
       "      <td>2.000000</td>\n",
       "      <td>4.000000</td>\n",
       "      <td>7.096706e-01</td>\n",
       "      <td>4.686176e-01</td>\n",
       "    </tr>\n",
       "    <tr>\n",
       "      <th>max</th>\n",
       "      <td>77.000000</td>\n",
       "      <td>1.000000</td>\n",
       "      <td>3.000000</td>\n",
       "      <td>200.000000</td>\n",
       "      <td>564.000000</td>\n",
       "      <td>1.000000</td>\n",
       "      <td>2.000000</td>\n",
       "      <td>202.000000</td>\n",
       "      <td>1.000000</td>\n",
       "      <td>6.200000</td>\n",
       "      <td>2.000000</td>\n",
       "      <td>3.000000</td>\n",
       "      <td>3.000000</td>\n",
       "      <td>1.000000</td>\n",
       "      <td>1.000000</td>\n",
       "      <td>2.000000</td>\n",
       "      <td>4.000000</td>\n",
       "      <td>2.289519e+00</td>\n",
       "      <td>4.426603e+00</td>\n",
       "    </tr>\n",
       "  </tbody>\n",
       "</table>\n",
       "</div>"
      ],
      "text/plain": [
       "              age         sex          cp    trestbps        chol         fbs  \\\n",
       "count  298.000000  298.000000  298.000000  298.000000  298.000000  298.000000   \n",
       "mean    54.510067    0.677852    0.959732  131.580537  246.906040    0.147651   \n",
       "std      9.030526    0.468085    1.033963   17.669293   51.893097    0.355350   \n",
       "min     29.000000    0.000000    0.000000   94.000000  126.000000    0.000000   \n",
       "25%     48.000000    0.000000    0.000000  120.000000  211.000000    0.000000   \n",
       "50%     56.000000    1.000000    1.000000  130.000000  241.500000    0.000000   \n",
       "75%     61.000000    1.000000    2.000000  140.000000  275.000000    0.000000   \n",
       "max     77.000000    1.000000    3.000000  200.000000  564.000000    1.000000   \n",
       "\n",
       "          restecg     thalach       exang     oldpeak       slope          ca  \\\n",
       "count  298.000000  298.000000  298.000000  298.000000  298.000000  298.000000   \n",
       "mean     0.523490  149.466443    0.328859    1.055369    1.395973    0.674497   \n",
       "std      0.526521   22.983830    0.470589    1.164162    0.617574    0.938202   \n",
       "min      0.000000   71.000000    0.000000    0.000000    0.000000    0.000000   \n",
       "25%      0.000000  133.000000    0.000000    0.000000    1.000000    0.000000   \n",
       "50%      1.000000  152.500000    0.000000    0.800000    1.000000    0.000000   \n",
       "75%      1.000000  165.750000    1.000000    1.600000    2.000000    1.000000   \n",
       "max      2.000000  202.000000    1.000000    6.200000    2.000000    3.000000   \n",
       "\n",
       "             thal      target  normalized_age  normalized_chol  \\\n",
       "count  298.000000  298.000000      298.000000       298.000000   \n",
       "mean     2.312081    0.540268        0.224832         1.355705   \n",
       "std      0.614024    0.499214        0.312734         0.743763   \n",
       "min      0.000000    0.000000        0.000000         0.000000   \n",
       "25%      2.000000    0.000000        0.000000         1.000000   \n",
       "50%      2.000000    1.000000        0.000000         2.000000   \n",
       "75%      3.000000    1.000000        0.333333         2.000000   \n",
       "max      3.000000    1.000000        1.000000         2.000000   \n",
       "\n",
       "       normalized_trestbps  normalized_thalach  normalized_oldpeak  \n",
       "count           298.000000        2.980000e+02        2.980000e+02  \n",
       "mean              2.426174       -1.490232e-17        5.960929e-17  \n",
       "std               1.410490        1.001682e+00        1.001682e+00  \n",
       "min               0.000000       -3.419727e+00       -9.080729e-01  \n",
       "25%               2.000000       -7.176411e-01       -9.080729e-01  \n",
       "50%               3.000000        1.322086e-01       -2.197277e-01  \n",
       "75%               4.000000        7.096706e-01        4.686176e-01  \n",
       "max               4.000000        2.289519e+00        4.426603e+00  "
      ]
     },
     "execution_count": 10,
     "metadata": {},
     "output_type": "execute_result"
    }
   ],
   "source": [
    "df.describe()"
   ]
  },
  {
   "attachments": {},
   "cell_type": "markdown",
   "id": "fa1f3e7b",
   "metadata": {
    "papermill": {
     "duration": 0.008471,
     "end_time": "2023-04-04T22:22:19.670110",
     "exception": false,
     "start_time": "2023-04-04T22:22:19.661639",
     "status": "completed"
    },
    "tags": []
   },
   "source": [
    "First 5 items in the dataset:"
   ]
  },
  {
   "cell_type": "code",
   "execution_count": 11,
   "id": "89b7e832",
   "metadata": {
    "_kg_hide-input": true,
    "execution": {
     "iopub.execute_input": "2023-04-04T22:22:19.688513Z",
     "iopub.status.busy": "2023-04-04T22:22:19.688117Z",
     "iopub.status.idle": "2023-04-04T22:22:19.703860Z",
     "shell.execute_reply": "2023-04-04T22:22:19.702499Z"
    },
    "papermill": {
     "duration": 0.028345,
     "end_time": "2023-04-04T22:22:19.706659",
     "exception": false,
     "start_time": "2023-04-04T22:22:19.678314",
     "status": "completed"
    },
    "tags": []
   },
   "outputs": [
    {
     "data": {
      "text/html": [
       "<div>\n",
       "<style scoped>\n",
       "    .dataframe tbody tr th:only-of-type {\n",
       "        vertical-align: middle;\n",
       "    }\n",
       "\n",
       "    .dataframe tbody tr th {\n",
       "        vertical-align: top;\n",
       "    }\n",
       "\n",
       "    .dataframe thead th {\n",
       "        text-align: right;\n",
       "    }\n",
       "</style>\n",
       "<table border=\"1\" class=\"dataframe\">\n",
       "  <thead>\n",
       "    <tr style=\"text-align: right;\">\n",
       "      <th></th>\n",
       "      <th>age</th>\n",
       "      <th>sex</th>\n",
       "      <th>cp</th>\n",
       "      <th>trestbps</th>\n",
       "      <th>chol</th>\n",
       "      <th>fbs</th>\n",
       "      <th>restecg</th>\n",
       "      <th>thalach</th>\n",
       "      <th>exang</th>\n",
       "      <th>oldpeak</th>\n",
       "      <th>slope</th>\n",
       "      <th>ca</th>\n",
       "      <th>thal</th>\n",
       "      <th>target</th>\n",
       "      <th>normalized_age</th>\n",
       "      <th>normalized_chol</th>\n",
       "      <th>normalized_trestbps</th>\n",
       "      <th>normalized_thalach</th>\n",
       "      <th>normalized_oldpeak</th>\n",
       "    </tr>\n",
       "  </thead>\n",
       "  <tbody>\n",
       "    <tr>\n",
       "      <th>0</th>\n",
       "      <td>52</td>\n",
       "      <td>1</td>\n",
       "      <td>0</td>\n",
       "      <td>125</td>\n",
       "      <td>212</td>\n",
       "      <td>0</td>\n",
       "      <td>1</td>\n",
       "      <td>168</td>\n",
       "      <td>0</td>\n",
       "      <td>1.0</td>\n",
       "      <td>2</td>\n",
       "      <td>2</td>\n",
       "      <td>3</td>\n",
       "      <td>0</td>\n",
       "      <td>0.666667</td>\n",
       "      <td>1</td>\n",
       "      <td>4</td>\n",
       "      <td>0.807730</td>\n",
       "      <td>-0.047641</td>\n",
       "    </tr>\n",
       "    <tr>\n",
       "      <th>1</th>\n",
       "      <td>53</td>\n",
       "      <td>1</td>\n",
       "      <td>0</td>\n",
       "      <td>140</td>\n",
       "      <td>203</td>\n",
       "      <td>1</td>\n",
       "      <td>0</td>\n",
       "      <td>155</td>\n",
       "      <td>1</td>\n",
       "      <td>3.1</td>\n",
       "      <td>0</td>\n",
       "      <td>0</td>\n",
       "      <td>3</td>\n",
       "      <td>0</td>\n",
       "      <td>0.000000</td>\n",
       "      <td>1</td>\n",
       "      <td>3</td>\n",
       "      <td>0.241164</td>\n",
       "      <td>1.759265</td>\n",
       "    </tr>\n",
       "    <tr>\n",
       "      <th>2</th>\n",
       "      <td>70</td>\n",
       "      <td>1</td>\n",
       "      <td>0</td>\n",
       "      <td>145</td>\n",
       "      <td>174</td>\n",
       "      <td>0</td>\n",
       "      <td>1</td>\n",
       "      <td>125</td>\n",
       "      <td>1</td>\n",
       "      <td>2.6</td>\n",
       "      <td>0</td>\n",
       "      <td>0</td>\n",
       "      <td>3</td>\n",
       "      <td>0</td>\n",
       "      <td>0.000000</td>\n",
       "      <td>0</td>\n",
       "      <td>3</td>\n",
       "      <td>-1.066297</td>\n",
       "      <td>1.329049</td>\n",
       "    </tr>\n",
       "    <tr>\n",
       "      <th>3</th>\n",
       "      <td>61</td>\n",
       "      <td>1</td>\n",
       "      <td>0</td>\n",
       "      <td>148</td>\n",
       "      <td>203</td>\n",
       "      <td>0</td>\n",
       "      <td>1</td>\n",
       "      <td>161</td>\n",
       "      <td>0</td>\n",
       "      <td>0.0</td>\n",
       "      <td>2</td>\n",
       "      <td>1</td>\n",
       "      <td>3</td>\n",
       "      <td>0</td>\n",
       "      <td>0.333333</td>\n",
       "      <td>1</td>\n",
       "      <td>3</td>\n",
       "      <td>0.502656</td>\n",
       "      <td>-0.908073</td>\n",
       "    </tr>\n",
       "    <tr>\n",
       "      <th>4</th>\n",
       "      <td>62</td>\n",
       "      <td>0</td>\n",
       "      <td>0</td>\n",
       "      <td>138</td>\n",
       "      <td>294</td>\n",
       "      <td>1</td>\n",
       "      <td>1</td>\n",
       "      <td>106</td>\n",
       "      <td>0</td>\n",
       "      <td>1.9</td>\n",
       "      <td>1</td>\n",
       "      <td>3</td>\n",
       "      <td>2</td>\n",
       "      <td>0</td>\n",
       "      <td>1.000000</td>\n",
       "      <td>2</td>\n",
       "      <td>2</td>\n",
       "      <td>-1.894356</td>\n",
       "      <td>0.726747</td>\n",
       "    </tr>\n",
       "  </tbody>\n",
       "</table>\n",
       "</div>"
      ],
      "text/plain": [
       "   age  sex  cp  trestbps  chol  fbs  restecg  thalach  exang  oldpeak  slope  \\\n",
       "0   52    1   0       125   212    0        1      168      0      1.0      2   \n",
       "1   53    1   0       140   203    1        0      155      1      3.1      0   \n",
       "2   70    1   0       145   174    0        1      125      1      2.6      0   \n",
       "3   61    1   0       148   203    0        1      161      0      0.0      2   \n",
       "4   62    0   0       138   294    1        1      106      0      1.9      1   \n",
       "\n",
       "   ca  thal  target  normalized_age  normalized_chol  normalized_trestbps  \\\n",
       "0   2     3       0        0.666667                1                    4   \n",
       "1   0     3       0        0.000000                1                    3   \n",
       "2   0     3       0        0.000000                0                    3   \n",
       "3   1     3       0        0.333333                1                    3   \n",
       "4   3     2       0        1.000000                2                    2   \n",
       "\n",
       "   normalized_thalach  normalized_oldpeak  \n",
       "0            0.807730           -0.047641  \n",
       "1            0.241164            1.759265  \n",
       "2           -1.066297            1.329049  \n",
       "3            0.502656           -0.908073  \n",
       "4           -1.894356            0.726747  "
      ]
     },
     "execution_count": 11,
     "metadata": {},
     "output_type": "execute_result"
    }
   ],
   "source": [
    "df.head()"
   ]
  },
  {
   "attachments": {},
   "cell_type": "markdown",
   "id": "99b51e28",
   "metadata": {
    "papermill": {
     "duration": 0.008365,
     "end_time": "2023-04-04T22:22:19.724079",
     "exception": false,
     "start_time": "2023-04-04T22:22:19.715714",
     "status": "completed"
    },
    "tags": []
   },
   "source": [
    "<hr style=\"border:none; height:0.9px;\" />\n",
    "\n",
    "# Preprocessing\n",
    "\n",
    "Cleaning data and scaling it for better performance."
   ]
  },
  {
   "cell_type": "code",
   "execution_count": 12,
   "id": "00603aac",
   "metadata": {
    "execution": {
     "iopub.execute_input": "2023-04-04T22:22:19.743802Z",
     "iopub.status.busy": "2023-04-04T22:22:19.743364Z",
     "iopub.status.idle": "2023-04-04T22:22:19.753273Z",
     "shell.execute_reply": "2023-04-04T22:22:19.751973Z"
    },
    "papermill": {
     "duration": 0.023118,
     "end_time": "2023-04-04T22:22:19.755682",
     "exception": false,
     "start_time": "2023-04-04T22:22:19.732564",
     "status": "completed"
    },
    "tags": []
   },
   "outputs": [
    {
     "data": {
      "text/plain": [
       "age                    0\n",
       "sex                    0\n",
       "cp                     0\n",
       "trestbps               0\n",
       "chol                   0\n",
       "fbs                    0\n",
       "restecg                0\n",
       "thalach                0\n",
       "exang                  0\n",
       "oldpeak                0\n",
       "slope                  0\n",
       "ca                     0\n",
       "thal                   0\n",
       "target                 0\n",
       "normalized_age         0\n",
       "normalized_chol        0\n",
       "normalized_trestbps    0\n",
       "normalized_thalach     0\n",
       "normalized_oldpeak     0\n",
       "dtype: int64"
      ]
     },
     "execution_count": 12,
     "metadata": {},
     "output_type": "execute_result"
    }
   ],
   "source": [
    "df.isna().sum()"
   ]
  },
  {
   "cell_type": "code",
   "execution_count": 13,
   "id": "53905420",
   "metadata": {
    "execution": {
     "iopub.execute_input": "2023-04-04T22:22:19.775033Z",
     "iopub.status.busy": "2023-04-04T22:22:19.774518Z",
     "iopub.status.idle": "2023-04-04T22:22:19.829365Z",
     "shell.execute_reply": "2023-04-04T22:22:19.828074Z"
    },
    "papermill": {
     "duration": 0.067806,
     "end_time": "2023-04-04T22:22:19.832357",
     "exception": false,
     "start_time": "2023-04-04T22:22:19.764551",
     "status": "completed"
    },
    "tags": []
   },
   "outputs": [],
   "source": [
    "cols = ['age', 'cp', 'trestbps', 'chol', 'fbs', 'restecg', 'thalach', 'exang', 'oldpeak', 'slope', 'ca', 'thal']\n",
    "\n",
    "scaler = StandardScaler()\n",
    "\n",
    "for col in cols:\n",
    "    df[[col]] = scaler.fit_transform(df[[col]])"
   ]
  },
  {
   "cell_type": "code",
   "execution_count": 14,
   "id": "bc8d25c0",
   "metadata": {
    "execution": {
     "iopub.execute_input": "2023-04-04T22:22:19.851759Z",
     "iopub.status.busy": "2023-04-04T22:22:19.851356Z",
     "iopub.status.idle": "2023-04-04T22:22:19.872903Z",
     "shell.execute_reply": "2023-04-04T22:22:19.871577Z"
    },
    "papermill": {
     "duration": 0.034155,
     "end_time": "2023-04-04T22:22:19.875387",
     "exception": false,
     "start_time": "2023-04-04T22:22:19.841232",
     "status": "completed"
    },
    "tags": []
   },
   "outputs": [
    {
     "data": {
      "text/html": [
       "<div>\n",
       "<style scoped>\n",
       "    .dataframe tbody tr th:only-of-type {\n",
       "        vertical-align: middle;\n",
       "    }\n",
       "\n",
       "    .dataframe tbody tr th {\n",
       "        vertical-align: top;\n",
       "    }\n",
       "\n",
       "    .dataframe thead th {\n",
       "        text-align: right;\n",
       "    }\n",
       "</style>\n",
       "<table border=\"1\" class=\"dataframe\">\n",
       "  <thead>\n",
       "    <tr style=\"text-align: right;\">\n",
       "      <th></th>\n",
       "      <th>age</th>\n",
       "      <th>sex</th>\n",
       "      <th>cp</th>\n",
       "      <th>trestbps</th>\n",
       "      <th>chol</th>\n",
       "      <th>fbs</th>\n",
       "      <th>restecg</th>\n",
       "      <th>thalach</th>\n",
       "      <th>exang</th>\n",
       "      <th>oldpeak</th>\n",
       "      <th>slope</th>\n",
       "      <th>ca</th>\n",
       "      <th>thal</th>\n",
       "      <th>target</th>\n",
       "      <th>normalized_age</th>\n",
       "      <th>normalized_chol</th>\n",
       "      <th>normalized_trestbps</th>\n",
       "      <th>normalized_thalach</th>\n",
       "      <th>normalized_oldpeak</th>\n",
       "    </tr>\n",
       "  </thead>\n",
       "  <tbody>\n",
       "    <tr>\n",
       "      <th>0</th>\n",
       "      <td>-0.278421</td>\n",
       "      <td>1</td>\n",
       "      <td>-0.929768</td>\n",
       "      <td>-0.373054</td>\n",
       "      <td>-0.673784</td>\n",
       "      <td>-0.416207</td>\n",
       "      <td>0.906539</td>\n",
       "      <td>0.807730</td>\n",
       "      <td>-0.700000</td>\n",
       "      <td>-0.047641</td>\n",
       "      <td>0.979709</td>\n",
       "      <td>1.415189</td>\n",
       "      <td>1.122231</td>\n",
       "      <td>0</td>\n",
       "      <td>0.666667</td>\n",
       "      <td>1</td>\n",
       "      <td>4</td>\n",
       "      <td>0.807730</td>\n",
       "      <td>-0.047641</td>\n",
       "    </tr>\n",
       "    <tr>\n",
       "      <th>1</th>\n",
       "      <td>-0.167499</td>\n",
       "      <td>1</td>\n",
       "      <td>-0.929768</td>\n",
       "      <td>0.477304</td>\n",
       "      <td>-0.847510</td>\n",
       "      <td>2.402650</td>\n",
       "      <td>-0.995916</td>\n",
       "      <td>0.241164</td>\n",
       "      <td>1.428571</td>\n",
       "      <td>1.759265</td>\n",
       "      <td>-2.264216</td>\n",
       "      <td>-0.720134</td>\n",
       "      <td>1.122231</td>\n",
       "      <td>0</td>\n",
       "      <td>0.000000</td>\n",
       "      <td>1</td>\n",
       "      <td>3</td>\n",
       "      <td>0.241164</td>\n",
       "      <td>1.759265</td>\n",
       "    </tr>\n",
       "    <tr>\n",
       "      <th>2</th>\n",
       "      <td>1.718171</td>\n",
       "      <td>1</td>\n",
       "      <td>-0.929768</td>\n",
       "      <td>0.760757</td>\n",
       "      <td>-1.407291</td>\n",
       "      <td>-0.416207</td>\n",
       "      <td>0.906539</td>\n",
       "      <td>-1.066297</td>\n",
       "      <td>1.428571</td>\n",
       "      <td>1.329049</td>\n",
       "      <td>-2.264216</td>\n",
       "      <td>-0.720134</td>\n",
       "      <td>1.122231</td>\n",
       "      <td>0</td>\n",
       "      <td>0.000000</td>\n",
       "      <td>0</td>\n",
       "      <td>3</td>\n",
       "      <td>-1.066297</td>\n",
       "      <td>1.329049</td>\n",
       "    </tr>\n",
       "    <tr>\n",
       "      <th>3</th>\n",
       "      <td>0.719875</td>\n",
       "      <td>1</td>\n",
       "      <td>-0.929768</td>\n",
       "      <td>0.930829</td>\n",
       "      <td>-0.847510</td>\n",
       "      <td>-0.416207</td>\n",
       "      <td>0.906539</td>\n",
       "      <td>0.502656</td>\n",
       "      <td>-0.700000</td>\n",
       "      <td>-0.908073</td>\n",
       "      <td>0.979709</td>\n",
       "      <td>0.347527</td>\n",
       "      <td>1.122231</td>\n",
       "      <td>0</td>\n",
       "      <td>0.333333</td>\n",
       "      <td>1</td>\n",
       "      <td>3</td>\n",
       "      <td>0.502656</td>\n",
       "      <td>-0.908073</td>\n",
       "    </tr>\n",
       "    <tr>\n",
       "      <th>4</th>\n",
       "      <td>0.830797</td>\n",
       "      <td>0</td>\n",
       "      <td>-0.929768</td>\n",
       "      <td>0.363923</td>\n",
       "      <td>0.909045</td>\n",
       "      <td>2.402650</td>\n",
       "      <td>0.906539</td>\n",
       "      <td>-1.894356</td>\n",
       "      <td>-0.700000</td>\n",
       "      <td>0.726747</td>\n",
       "      <td>-0.642254</td>\n",
       "      <td>2.482850</td>\n",
       "      <td>-0.509110</td>\n",
       "      <td>0</td>\n",
       "      <td>1.000000</td>\n",
       "      <td>2</td>\n",
       "      <td>2</td>\n",
       "      <td>-1.894356</td>\n",
       "      <td>0.726747</td>\n",
       "    </tr>\n",
       "  </tbody>\n",
       "</table>\n",
       "</div>"
      ],
      "text/plain": [
       "        age  sex        cp  trestbps      chol       fbs   restecg   thalach  \\\n",
       "0 -0.278421    1 -0.929768 -0.373054 -0.673784 -0.416207  0.906539  0.807730   \n",
       "1 -0.167499    1 -0.929768  0.477304 -0.847510  2.402650 -0.995916  0.241164   \n",
       "2  1.718171    1 -0.929768  0.760757 -1.407291 -0.416207  0.906539 -1.066297   \n",
       "3  0.719875    1 -0.929768  0.930829 -0.847510 -0.416207  0.906539  0.502656   \n",
       "4  0.830797    0 -0.929768  0.363923  0.909045  2.402650  0.906539 -1.894356   \n",
       "\n",
       "      exang   oldpeak     slope        ca      thal  target  normalized_age  \\\n",
       "0 -0.700000 -0.047641  0.979709  1.415189  1.122231       0        0.666667   \n",
       "1  1.428571  1.759265 -2.264216 -0.720134  1.122231       0        0.000000   \n",
       "2  1.428571  1.329049 -2.264216 -0.720134  1.122231       0        0.000000   \n",
       "3 -0.700000 -0.908073  0.979709  0.347527  1.122231       0        0.333333   \n",
       "4 -0.700000  0.726747 -0.642254  2.482850 -0.509110       0        1.000000   \n",
       "\n",
       "   normalized_chol  normalized_trestbps  normalized_thalach  \\\n",
       "0                1                    4            0.807730   \n",
       "1                1                    3            0.241164   \n",
       "2                0                    3           -1.066297   \n",
       "3                1                    3            0.502656   \n",
       "4                2                    2           -1.894356   \n",
       "\n",
       "   normalized_oldpeak  \n",
       "0           -0.047641  \n",
       "1            1.759265  \n",
       "2            1.329049  \n",
       "3           -0.908073  \n",
       "4            0.726747  "
      ]
     },
     "execution_count": 14,
     "metadata": {},
     "output_type": "execute_result"
    }
   ],
   "source": [
    "df.head()"
   ]
  },
  {
   "attachments": {},
   "cell_type": "markdown",
   "id": "852a3e6f",
   "metadata": {
    "papermill": {
     "duration": 0.008568,
     "end_time": "2023-04-04T22:22:19.892757",
     "exception": false,
     "start_time": "2023-04-04T22:22:19.884189",
     "status": "completed"
    },
    "tags": []
   },
   "source": [
    "Below I'll use a box plot to see if the data is imbalanced:"
   ]
  },
  {
   "cell_type": "code",
   "execution_count": 15,
   "id": "5c7b5865",
   "metadata": {
    "execution": {
     "iopub.execute_input": "2023-04-04T22:22:19.912469Z",
     "iopub.status.busy": "2023-04-04T22:22:19.911561Z",
     "iopub.status.idle": "2023-04-04T22:22:21.818147Z",
     "shell.execute_reply": "2023-04-04T22:22:21.816633Z"
    },
    "papermill": {
     "duration": 1.919819,
     "end_time": "2023-04-04T22:22:21.821213",
     "exception": false,
     "start_time": "2023-04-04T22:22:19.901394",
     "status": "completed"
    },
    "tags": []
   },
   "outputs": [
    {
     "data": {
      "application/vnd.plotly.v1+json": {
       "config": {
        "plotlyServerURL": "https://plot.ly"
       },
       "data": [
        {
         "alignmentgroup": "True",
         "bingroup": "x",
         "hovertemplate": "target=%{x}<br>count=%{y}<extra></extra>",
         "legendgroup": "",
         "marker": {
          "color": "#636efa",
          "pattern": {
           "shape": ""
          }
         },
         "name": "",
         "nbinsx": 2,
         "offsetgroup": "",
         "orientation": "v",
         "showlegend": false,
         "type": "histogram",
         "x": [
          0,
          0,
          0,
          0,
          0,
          1,
          0,
          0,
          0,
          0,
          1,
          0,
          1,
          0,
          0,
          1,
          0,
          1,
          1,
          0,
          1,
          1,
          1,
          1,
          0,
          1,
          0,
          0,
          0,
          0,
          0,
          0,
          1,
          0,
          1,
          1,
          1,
          0,
          1,
          1,
          0,
          1,
          1,
          1,
          0,
          1,
          0,
          1,
          0,
          0,
          0,
          1,
          1,
          0,
          0,
          1,
          0,
          1,
          0,
          1,
          0,
          1,
          0,
          0,
          0,
          0,
          0,
          0,
          1,
          1,
          0,
          1,
          0,
          0,
          1,
          0,
          0,
          0,
          1,
          1,
          1,
          1,
          1,
          0,
          0,
          1,
          1,
          1,
          1,
          1,
          0,
          0,
          0,
          0,
          0,
          0,
          1,
          0,
          0,
          0,
          0,
          1,
          0,
          1,
          0,
          1,
          1,
          1,
          1,
          0,
          1,
          1,
          0,
          0,
          0,
          1,
          1,
          0,
          1,
          0,
          1,
          1,
          0,
          0,
          0,
          1,
          1,
          1,
          0,
          1,
          0,
          0,
          1,
          1,
          1,
          1,
          0,
          1,
          1,
          0,
          0,
          0,
          0,
          1,
          0,
          1,
          1,
          0,
          0,
          1,
          1,
          1,
          0,
          0,
          1,
          1,
          0,
          1,
          1,
          1,
          0,
          1,
          0,
          0,
          0,
          1,
          1,
          1,
          1,
          1,
          0,
          1,
          1,
          0,
          0,
          1,
          1,
          1,
          1,
          0,
          0,
          1,
          1,
          0,
          1,
          1,
          0,
          0,
          1,
          1,
          1,
          1,
          1,
          1,
          1,
          1,
          1,
          1,
          1,
          1,
          0,
          1,
          0,
          1,
          1,
          1,
          1,
          0,
          1,
          1,
          1,
          1,
          1,
          0,
          0,
          0,
          0,
          0,
          1,
          1,
          0,
          1,
          0,
          1,
          1,
          0,
          1,
          1,
          0,
          0,
          1,
          1,
          0,
          0,
          1,
          1,
          0,
          1,
          1,
          1,
          0,
          0,
          0,
          1,
          0,
          0,
          1,
          1,
          0,
          1,
          1,
          0,
          0,
          1,
          0,
          1,
          0,
          0,
          1,
          0,
          1,
          1,
          0,
          1,
          1,
          0,
          1,
          1,
          0,
          1,
          1,
          1,
          1,
          0,
          1,
          1,
          1,
          1,
          0,
          1,
          0,
          0,
          1,
          1,
          0,
          0,
          1,
          1,
          1,
          0,
          1,
          1,
          0,
          1,
          1,
          0,
          0,
          0
         ],
         "xaxis": "x",
         "yaxis": "y"
        }
       ],
       "layout": {
        "barmode": "relative",
        "height": 400,
        "legend": {
         "tracegroupgap": 0
        },
        "margin": {
         "t": 60
        },
        "template": {
         "data": {
          "bar": [
           {
            "error_x": {
             "color": "#f2f5fa"
            },
            "error_y": {
             "color": "#f2f5fa"
            },
            "marker": {
             "line": {
              "color": "rgb(17,17,17)",
              "width": 0.5
             },
             "pattern": {
              "fillmode": "overlay",
              "size": 10,
              "solidity": 0.2
             }
            },
            "type": "bar"
           }
          ],
          "barpolar": [
           {
            "marker": {
             "line": {
              "color": "rgb(17,17,17)",
              "width": 0.5
             },
             "pattern": {
              "fillmode": "overlay",
              "size": 10,
              "solidity": 0.2
             }
            },
            "type": "barpolar"
           }
          ],
          "carpet": [
           {
            "aaxis": {
             "endlinecolor": "#A2B1C6",
             "gridcolor": "#506784",
             "linecolor": "#506784",
             "minorgridcolor": "#506784",
             "startlinecolor": "#A2B1C6"
            },
            "baxis": {
             "endlinecolor": "#A2B1C6",
             "gridcolor": "#506784",
             "linecolor": "#506784",
             "minorgridcolor": "#506784",
             "startlinecolor": "#A2B1C6"
            },
            "type": "carpet"
           }
          ],
          "choropleth": [
           {
            "colorbar": {
             "outlinewidth": 0,
             "ticks": ""
            },
            "type": "choropleth"
           }
          ],
          "contour": [
           {
            "colorbar": {
             "outlinewidth": 0,
             "ticks": ""
            },
            "colorscale": [
             [
              0,
              "#0d0887"
             ],
             [
              0.1111111111111111,
              "#46039f"
             ],
             [
              0.2222222222222222,
              "#7201a8"
             ],
             [
              0.3333333333333333,
              "#9c179e"
             ],
             [
              0.4444444444444444,
              "#bd3786"
             ],
             [
              0.5555555555555556,
              "#d8576b"
             ],
             [
              0.6666666666666666,
              "#ed7953"
             ],
             [
              0.7777777777777778,
              "#fb9f3a"
             ],
             [
              0.8888888888888888,
              "#fdca26"
             ],
             [
              1,
              "#f0f921"
             ]
            ],
            "type": "contour"
           }
          ],
          "contourcarpet": [
           {
            "colorbar": {
             "outlinewidth": 0,
             "ticks": ""
            },
            "type": "contourcarpet"
           }
          ],
          "heatmap": [
           {
            "colorbar": {
             "outlinewidth": 0,
             "ticks": ""
            },
            "colorscale": [
             [
              0,
              "#0d0887"
             ],
             [
              0.1111111111111111,
              "#46039f"
             ],
             [
              0.2222222222222222,
              "#7201a8"
             ],
             [
              0.3333333333333333,
              "#9c179e"
             ],
             [
              0.4444444444444444,
              "#bd3786"
             ],
             [
              0.5555555555555556,
              "#d8576b"
             ],
             [
              0.6666666666666666,
              "#ed7953"
             ],
             [
              0.7777777777777778,
              "#fb9f3a"
             ],
             [
              0.8888888888888888,
              "#fdca26"
             ],
             [
              1,
              "#f0f921"
             ]
            ],
            "type": "heatmap"
           }
          ],
          "heatmapgl": [
           {
            "colorbar": {
             "outlinewidth": 0,
             "ticks": ""
            },
            "colorscale": [
             [
              0,
              "#0d0887"
             ],
             [
              0.1111111111111111,
              "#46039f"
             ],
             [
              0.2222222222222222,
              "#7201a8"
             ],
             [
              0.3333333333333333,
              "#9c179e"
             ],
             [
              0.4444444444444444,
              "#bd3786"
             ],
             [
              0.5555555555555556,
              "#d8576b"
             ],
             [
              0.6666666666666666,
              "#ed7953"
             ],
             [
              0.7777777777777778,
              "#fb9f3a"
             ],
             [
              0.8888888888888888,
              "#fdca26"
             ],
             [
              1,
              "#f0f921"
             ]
            ],
            "type": "heatmapgl"
           }
          ],
          "histogram": [
           {
            "marker": {
             "pattern": {
              "fillmode": "overlay",
              "size": 10,
              "solidity": 0.2
             }
            },
            "type": "histogram"
           }
          ],
          "histogram2d": [
           {
            "colorbar": {
             "outlinewidth": 0,
             "ticks": ""
            },
            "colorscale": [
             [
              0,
              "#0d0887"
             ],
             [
              0.1111111111111111,
              "#46039f"
             ],
             [
              0.2222222222222222,
              "#7201a8"
             ],
             [
              0.3333333333333333,
              "#9c179e"
             ],
             [
              0.4444444444444444,
              "#bd3786"
             ],
             [
              0.5555555555555556,
              "#d8576b"
             ],
             [
              0.6666666666666666,
              "#ed7953"
             ],
             [
              0.7777777777777778,
              "#fb9f3a"
             ],
             [
              0.8888888888888888,
              "#fdca26"
             ],
             [
              1,
              "#f0f921"
             ]
            ],
            "type": "histogram2d"
           }
          ],
          "histogram2dcontour": [
           {
            "colorbar": {
             "outlinewidth": 0,
             "ticks": ""
            },
            "colorscale": [
             [
              0,
              "#0d0887"
             ],
             [
              0.1111111111111111,
              "#46039f"
             ],
             [
              0.2222222222222222,
              "#7201a8"
             ],
             [
              0.3333333333333333,
              "#9c179e"
             ],
             [
              0.4444444444444444,
              "#bd3786"
             ],
             [
              0.5555555555555556,
              "#d8576b"
             ],
             [
              0.6666666666666666,
              "#ed7953"
             ],
             [
              0.7777777777777778,
              "#fb9f3a"
             ],
             [
              0.8888888888888888,
              "#fdca26"
             ],
             [
              1,
              "#f0f921"
             ]
            ],
            "type": "histogram2dcontour"
           }
          ],
          "mesh3d": [
           {
            "colorbar": {
             "outlinewidth": 0,
             "ticks": ""
            },
            "type": "mesh3d"
           }
          ],
          "parcoords": [
           {
            "line": {
             "colorbar": {
              "outlinewidth": 0,
              "ticks": ""
             }
            },
            "type": "parcoords"
           }
          ],
          "pie": [
           {
            "automargin": true,
            "type": "pie"
           }
          ],
          "scatter": [
           {
            "marker": {
             "line": {
              "color": "#283442"
             }
            },
            "type": "scatter"
           }
          ],
          "scatter3d": [
           {
            "line": {
             "colorbar": {
              "outlinewidth": 0,
              "ticks": ""
             }
            },
            "marker": {
             "colorbar": {
              "outlinewidth": 0,
              "ticks": ""
             }
            },
            "type": "scatter3d"
           }
          ],
          "scattercarpet": [
           {
            "marker": {
             "colorbar": {
              "outlinewidth": 0,
              "ticks": ""
             }
            },
            "type": "scattercarpet"
           }
          ],
          "scattergeo": [
           {
            "marker": {
             "colorbar": {
              "outlinewidth": 0,
              "ticks": ""
             }
            },
            "type": "scattergeo"
           }
          ],
          "scattergl": [
           {
            "marker": {
             "line": {
              "color": "#283442"
             }
            },
            "type": "scattergl"
           }
          ],
          "scattermapbox": [
           {
            "marker": {
             "colorbar": {
              "outlinewidth": 0,
              "ticks": ""
             }
            },
            "type": "scattermapbox"
           }
          ],
          "scatterpolar": [
           {
            "marker": {
             "colorbar": {
              "outlinewidth": 0,
              "ticks": ""
             }
            },
            "type": "scatterpolar"
           }
          ],
          "scatterpolargl": [
           {
            "marker": {
             "colorbar": {
              "outlinewidth": 0,
              "ticks": ""
             }
            },
            "type": "scatterpolargl"
           }
          ],
          "scatterternary": [
           {
            "marker": {
             "colorbar": {
              "outlinewidth": 0,
              "ticks": ""
             }
            },
            "type": "scatterternary"
           }
          ],
          "surface": [
           {
            "colorbar": {
             "outlinewidth": 0,
             "ticks": ""
            },
            "colorscale": [
             [
              0,
              "#0d0887"
             ],
             [
              0.1111111111111111,
              "#46039f"
             ],
             [
              0.2222222222222222,
              "#7201a8"
             ],
             [
              0.3333333333333333,
              "#9c179e"
             ],
             [
              0.4444444444444444,
              "#bd3786"
             ],
             [
              0.5555555555555556,
              "#d8576b"
             ],
             [
              0.6666666666666666,
              "#ed7953"
             ],
             [
              0.7777777777777778,
              "#fb9f3a"
             ],
             [
              0.8888888888888888,
              "#fdca26"
             ],
             [
              1,
              "#f0f921"
             ]
            ],
            "type": "surface"
           }
          ],
          "table": [
           {
            "cells": {
             "fill": {
              "color": "#506784"
             },
             "line": {
              "color": "rgb(17,17,17)"
             }
            },
            "header": {
             "fill": {
              "color": "#2a3f5f"
             },
             "line": {
              "color": "rgb(17,17,17)"
             }
            },
            "type": "table"
           }
          ]
         },
         "layout": {
          "annotationdefaults": {
           "arrowcolor": "#f2f5fa",
           "arrowhead": 0,
           "arrowwidth": 1
          },
          "autotypenumbers": "strict",
          "coloraxis": {
           "colorbar": {
            "outlinewidth": 0,
            "ticks": ""
           }
          },
          "colorscale": {
           "diverging": [
            [
             0,
             "#8e0152"
            ],
            [
             0.1,
             "#c51b7d"
            ],
            [
             0.2,
             "#de77ae"
            ],
            [
             0.3,
             "#f1b6da"
            ],
            [
             0.4,
             "#fde0ef"
            ],
            [
             0.5,
             "#f7f7f7"
            ],
            [
             0.6,
             "#e6f5d0"
            ],
            [
             0.7,
             "#b8e186"
            ],
            [
             0.8,
             "#7fbc41"
            ],
            [
             0.9,
             "#4d9221"
            ],
            [
             1,
             "#276419"
            ]
           ],
           "sequential": [
            [
             0,
             "#0d0887"
            ],
            [
             0.1111111111111111,
             "#46039f"
            ],
            [
             0.2222222222222222,
             "#7201a8"
            ],
            [
             0.3333333333333333,
             "#9c179e"
            ],
            [
             0.4444444444444444,
             "#bd3786"
            ],
            [
             0.5555555555555556,
             "#d8576b"
            ],
            [
             0.6666666666666666,
             "#ed7953"
            ],
            [
             0.7777777777777778,
             "#fb9f3a"
            ],
            [
             0.8888888888888888,
             "#fdca26"
            ],
            [
             1,
             "#f0f921"
            ]
           ],
           "sequentialminus": [
            [
             0,
             "#0d0887"
            ],
            [
             0.1111111111111111,
             "#46039f"
            ],
            [
             0.2222222222222222,
             "#7201a8"
            ],
            [
             0.3333333333333333,
             "#9c179e"
            ],
            [
             0.4444444444444444,
             "#bd3786"
            ],
            [
             0.5555555555555556,
             "#d8576b"
            ],
            [
             0.6666666666666666,
             "#ed7953"
            ],
            [
             0.7777777777777778,
             "#fb9f3a"
            ],
            [
             0.8888888888888888,
             "#fdca26"
            ],
            [
             1,
             "#f0f921"
            ]
           ]
          },
          "colorway": [
           "#636efa",
           "#EF553B",
           "#00cc96",
           "#ab63fa",
           "#FFA15A",
           "#19d3f3",
           "#FF6692",
           "#B6E880",
           "#FF97FF",
           "#FECB52"
          ],
          "font": {
           "color": "#f2f5fa"
          },
          "geo": {
           "bgcolor": "rgb(17,17,17)",
           "lakecolor": "rgb(17,17,17)",
           "landcolor": "rgb(17,17,17)",
           "showlakes": true,
           "showland": true,
           "subunitcolor": "#506784"
          },
          "hoverlabel": {
           "align": "left"
          },
          "hovermode": "closest",
          "mapbox": {
           "style": "dark"
          },
          "paper_bgcolor": "rgb(17,17,17)",
          "plot_bgcolor": "rgb(17,17,17)",
          "polar": {
           "angularaxis": {
            "gridcolor": "#506784",
            "linecolor": "#506784",
            "ticks": ""
           },
           "bgcolor": "rgb(17,17,17)",
           "radialaxis": {
            "gridcolor": "#506784",
            "linecolor": "#506784",
            "ticks": ""
           }
          },
          "scene": {
           "xaxis": {
            "backgroundcolor": "rgb(17,17,17)",
            "gridcolor": "#506784",
            "gridwidth": 2,
            "linecolor": "#506784",
            "showbackground": true,
            "ticks": "",
            "zerolinecolor": "#C8D4E3"
           },
           "yaxis": {
            "backgroundcolor": "rgb(17,17,17)",
            "gridcolor": "#506784",
            "gridwidth": 2,
            "linecolor": "#506784",
            "showbackground": true,
            "ticks": "",
            "zerolinecolor": "#C8D4E3"
           },
           "zaxis": {
            "backgroundcolor": "rgb(17,17,17)",
            "gridcolor": "#506784",
            "gridwidth": 2,
            "linecolor": "#506784",
            "showbackground": true,
            "ticks": "",
            "zerolinecolor": "#C8D4E3"
           }
          },
          "shapedefaults": {
           "line": {
            "color": "#f2f5fa"
           }
          },
          "sliderdefaults": {
           "bgcolor": "#C8D4E3",
           "bordercolor": "rgb(17,17,17)",
           "borderwidth": 1,
           "tickwidth": 0
          },
          "ternary": {
           "aaxis": {
            "gridcolor": "#506784",
            "linecolor": "#506784",
            "ticks": ""
           },
           "baxis": {
            "gridcolor": "#506784",
            "linecolor": "#506784",
            "ticks": ""
           },
           "bgcolor": "rgb(17,17,17)",
           "caxis": {
            "gridcolor": "#506784",
            "linecolor": "#506784",
            "ticks": ""
           }
          },
          "title": {
           "x": 0.05
          },
          "updatemenudefaults": {
           "bgcolor": "#506784",
           "borderwidth": 0
          },
          "xaxis": {
           "automargin": true,
           "gridcolor": "#283442",
           "linecolor": "#506784",
           "ticks": "",
           "title": {
            "standoff": 15
           },
           "zerolinecolor": "#283442",
           "zerolinewidth": 2
          },
          "yaxis": {
           "automargin": true,
           "gridcolor": "#283442",
           "linecolor": "#506784",
           "ticks": "",
           "title": {
            "standoff": 15
           },
           "zerolinecolor": "#283442",
           "zerolinewidth": 2
          }
         }
        },
        "title": {
         "text": "Data balance"
        },
        "width": 800,
        "xaxis": {
         "anchor": "y",
         "domain": [
          0,
          1
         ],
         "title": {
          "text": "target"
         }
        },
        "yaxis": {
         "anchor": "x",
         "domain": [
          0,
          1
         ],
         "title": {
          "text": "count"
         }
        }
       }
      }
     },
     "metadata": {},
     "output_type": "display_data"
    }
   ],
   "source": [
    "fig = px.histogram(df, x=df['target'], template='plotly_dark', nbins=2, width=800, height=400)\n",
    "fig.update_layout(title='Data balance')\n",
    "fig.show()"
   ]
  },
  {
   "attachments": {},
   "cell_type": "markdown",
   "id": "43d57ae6",
   "metadata": {
    "papermill": {
     "duration": 0.008839,
     "end_time": "2023-04-04T22:22:21.839442",
     "exception": false,
     "start_time": "2023-04-04T22:22:21.830603",
     "status": "completed"
    },
    "tags": []
   },
   "source": [
    "As we can see, the proportions aren't very off and the data seems to be balanced well."
   ]
  },
  {
   "attachments": {},
   "cell_type": "markdown",
   "id": "10b1ba97",
   "metadata": {
    "papermill": {
     "duration": 0.008908,
     "end_time": "2023-04-04T22:22:21.857545",
     "exception": false,
     "start_time": "2023-04-04T22:22:21.848637",
     "status": "completed"
    },
    "tags": []
   },
   "source": [
    "<hr style=\"border:none; height:0.9px;\" />\n",
    "\n",
    "# Dimension Reduction\n",
    "\n",
    "Reducing the data dimension and noise to cluster targets using KMeans in a later graph."
   ]
  },
  {
   "cell_type": "code",
   "execution_count": 16,
   "id": "9854354b",
   "metadata": {
    "execution": {
     "iopub.execute_input": "2023-04-04T22:22:21.878211Z",
     "iopub.status.busy": "2023-04-04T22:22:21.877550Z",
     "iopub.status.idle": "2023-04-04T22:22:22.052106Z",
     "shell.execute_reply": "2023-04-04T22:22:22.050451Z"
    },
    "papermill": {
     "duration": 0.188606,
     "end_time": "2023-04-04T22:22:22.055359",
     "exception": false,
     "start_time": "2023-04-04T22:22:21.866753",
     "status": "completed"
    },
    "tags": []
   },
   "outputs": [
    {
     "data": {
      "application/vnd.plotly.v1+json": {
       "config": {
        "plotlyServerURL": "https://plot.ly"
       },
       "data": [
        {
         "alignmentgroup": "True",
         "hovertemplate": "x=%{x}<br>y=%{y}<extra></extra>",
         "legendgroup": "",
         "marker": {
          "color": "#636efa",
          "pattern": {
           "shape": ""
          }
         },
         "name": "",
         "offsetgroup": "",
         "orientation": "v",
         "showlegend": false,
         "textposition": "auto",
         "type": "bar",
         "x": [
          0,
          1,
          2,
          3,
          4
         ],
         "xaxis": "x",
         "y": [
          4.059105659941453,
          2.3115964649954766,
          1.6253305885850107,
          1.4613572486851434,
          1.3004972513306354
         ],
         "yaxis": "y"
        }
       ],
       "layout": {
        "barmode": "relative",
        "legend": {
         "tracegroupgap": 0
        },
        "margin": {
         "t": 60
        },
        "template": {
         "data": {
          "bar": [
           {
            "error_x": {
             "color": "#f2f5fa"
            },
            "error_y": {
             "color": "#f2f5fa"
            },
            "marker": {
             "line": {
              "color": "rgb(17,17,17)",
              "width": 0.5
             },
             "pattern": {
              "fillmode": "overlay",
              "size": 10,
              "solidity": 0.2
             }
            },
            "type": "bar"
           }
          ],
          "barpolar": [
           {
            "marker": {
             "line": {
              "color": "rgb(17,17,17)",
              "width": 0.5
             },
             "pattern": {
              "fillmode": "overlay",
              "size": 10,
              "solidity": 0.2
             }
            },
            "type": "barpolar"
           }
          ],
          "carpet": [
           {
            "aaxis": {
             "endlinecolor": "#A2B1C6",
             "gridcolor": "#506784",
             "linecolor": "#506784",
             "minorgridcolor": "#506784",
             "startlinecolor": "#A2B1C6"
            },
            "baxis": {
             "endlinecolor": "#A2B1C6",
             "gridcolor": "#506784",
             "linecolor": "#506784",
             "minorgridcolor": "#506784",
             "startlinecolor": "#A2B1C6"
            },
            "type": "carpet"
           }
          ],
          "choropleth": [
           {
            "colorbar": {
             "outlinewidth": 0,
             "ticks": ""
            },
            "type": "choropleth"
           }
          ],
          "contour": [
           {
            "colorbar": {
             "outlinewidth": 0,
             "ticks": ""
            },
            "colorscale": [
             [
              0,
              "#0d0887"
             ],
             [
              0.1111111111111111,
              "#46039f"
             ],
             [
              0.2222222222222222,
              "#7201a8"
             ],
             [
              0.3333333333333333,
              "#9c179e"
             ],
             [
              0.4444444444444444,
              "#bd3786"
             ],
             [
              0.5555555555555556,
              "#d8576b"
             ],
             [
              0.6666666666666666,
              "#ed7953"
             ],
             [
              0.7777777777777778,
              "#fb9f3a"
             ],
             [
              0.8888888888888888,
              "#fdca26"
             ],
             [
              1,
              "#f0f921"
             ]
            ],
            "type": "contour"
           }
          ],
          "contourcarpet": [
           {
            "colorbar": {
             "outlinewidth": 0,
             "ticks": ""
            },
            "type": "contourcarpet"
           }
          ],
          "heatmap": [
           {
            "colorbar": {
             "outlinewidth": 0,
             "ticks": ""
            },
            "colorscale": [
             [
              0,
              "#0d0887"
             ],
             [
              0.1111111111111111,
              "#46039f"
             ],
             [
              0.2222222222222222,
              "#7201a8"
             ],
             [
              0.3333333333333333,
              "#9c179e"
             ],
             [
              0.4444444444444444,
              "#bd3786"
             ],
             [
              0.5555555555555556,
              "#d8576b"
             ],
             [
              0.6666666666666666,
              "#ed7953"
             ],
             [
              0.7777777777777778,
              "#fb9f3a"
             ],
             [
              0.8888888888888888,
              "#fdca26"
             ],
             [
              1,
              "#f0f921"
             ]
            ],
            "type": "heatmap"
           }
          ],
          "heatmapgl": [
           {
            "colorbar": {
             "outlinewidth": 0,
             "ticks": ""
            },
            "colorscale": [
             [
              0,
              "#0d0887"
             ],
             [
              0.1111111111111111,
              "#46039f"
             ],
             [
              0.2222222222222222,
              "#7201a8"
             ],
             [
              0.3333333333333333,
              "#9c179e"
             ],
             [
              0.4444444444444444,
              "#bd3786"
             ],
             [
              0.5555555555555556,
              "#d8576b"
             ],
             [
              0.6666666666666666,
              "#ed7953"
             ],
             [
              0.7777777777777778,
              "#fb9f3a"
             ],
             [
              0.8888888888888888,
              "#fdca26"
             ],
             [
              1,
              "#f0f921"
             ]
            ],
            "type": "heatmapgl"
           }
          ],
          "histogram": [
           {
            "marker": {
             "pattern": {
              "fillmode": "overlay",
              "size": 10,
              "solidity": 0.2
             }
            },
            "type": "histogram"
           }
          ],
          "histogram2d": [
           {
            "colorbar": {
             "outlinewidth": 0,
             "ticks": ""
            },
            "colorscale": [
             [
              0,
              "#0d0887"
             ],
             [
              0.1111111111111111,
              "#46039f"
             ],
             [
              0.2222222222222222,
              "#7201a8"
             ],
             [
              0.3333333333333333,
              "#9c179e"
             ],
             [
              0.4444444444444444,
              "#bd3786"
             ],
             [
              0.5555555555555556,
              "#d8576b"
             ],
             [
              0.6666666666666666,
              "#ed7953"
             ],
             [
              0.7777777777777778,
              "#fb9f3a"
             ],
             [
              0.8888888888888888,
              "#fdca26"
             ],
             [
              1,
              "#f0f921"
             ]
            ],
            "type": "histogram2d"
           }
          ],
          "histogram2dcontour": [
           {
            "colorbar": {
             "outlinewidth": 0,
             "ticks": ""
            },
            "colorscale": [
             [
              0,
              "#0d0887"
             ],
             [
              0.1111111111111111,
              "#46039f"
             ],
             [
              0.2222222222222222,
              "#7201a8"
             ],
             [
              0.3333333333333333,
              "#9c179e"
             ],
             [
              0.4444444444444444,
              "#bd3786"
             ],
             [
              0.5555555555555556,
              "#d8576b"
             ],
             [
              0.6666666666666666,
              "#ed7953"
             ],
             [
              0.7777777777777778,
              "#fb9f3a"
             ],
             [
              0.8888888888888888,
              "#fdca26"
             ],
             [
              1,
              "#f0f921"
             ]
            ],
            "type": "histogram2dcontour"
           }
          ],
          "mesh3d": [
           {
            "colorbar": {
             "outlinewidth": 0,
             "ticks": ""
            },
            "type": "mesh3d"
           }
          ],
          "parcoords": [
           {
            "line": {
             "colorbar": {
              "outlinewidth": 0,
              "ticks": ""
             }
            },
            "type": "parcoords"
           }
          ],
          "pie": [
           {
            "automargin": true,
            "type": "pie"
           }
          ],
          "scatter": [
           {
            "marker": {
             "line": {
              "color": "#283442"
             }
            },
            "type": "scatter"
           }
          ],
          "scatter3d": [
           {
            "line": {
             "colorbar": {
              "outlinewidth": 0,
              "ticks": ""
             }
            },
            "marker": {
             "colorbar": {
              "outlinewidth": 0,
              "ticks": ""
             }
            },
            "type": "scatter3d"
           }
          ],
          "scattercarpet": [
           {
            "marker": {
             "colorbar": {
              "outlinewidth": 0,
              "ticks": ""
             }
            },
            "type": "scattercarpet"
           }
          ],
          "scattergeo": [
           {
            "marker": {
             "colorbar": {
              "outlinewidth": 0,
              "ticks": ""
             }
            },
            "type": "scattergeo"
           }
          ],
          "scattergl": [
           {
            "marker": {
             "line": {
              "color": "#283442"
             }
            },
            "type": "scattergl"
           }
          ],
          "scattermapbox": [
           {
            "marker": {
             "colorbar": {
              "outlinewidth": 0,
              "ticks": ""
             }
            },
            "type": "scattermapbox"
           }
          ],
          "scatterpolar": [
           {
            "marker": {
             "colorbar": {
              "outlinewidth": 0,
              "ticks": ""
             }
            },
            "type": "scatterpolar"
           }
          ],
          "scatterpolargl": [
           {
            "marker": {
             "colorbar": {
              "outlinewidth": 0,
              "ticks": ""
             }
            },
            "type": "scatterpolargl"
           }
          ],
          "scatterternary": [
           {
            "marker": {
             "colorbar": {
              "outlinewidth": 0,
              "ticks": ""
             }
            },
            "type": "scatterternary"
           }
          ],
          "surface": [
           {
            "colorbar": {
             "outlinewidth": 0,
             "ticks": ""
            },
            "colorscale": [
             [
              0,
              "#0d0887"
             ],
             [
              0.1111111111111111,
              "#46039f"
             ],
             [
              0.2222222222222222,
              "#7201a8"
             ],
             [
              0.3333333333333333,
              "#9c179e"
             ],
             [
              0.4444444444444444,
              "#bd3786"
             ],
             [
              0.5555555555555556,
              "#d8576b"
             ],
             [
              0.6666666666666666,
              "#ed7953"
             ],
             [
              0.7777777777777778,
              "#fb9f3a"
             ],
             [
              0.8888888888888888,
              "#fdca26"
             ],
             [
              1,
              "#f0f921"
             ]
            ],
            "type": "surface"
           }
          ],
          "table": [
           {
            "cells": {
             "fill": {
              "color": "#506784"
             },
             "line": {
              "color": "rgb(17,17,17)"
             }
            },
            "header": {
             "fill": {
              "color": "#2a3f5f"
             },
             "line": {
              "color": "rgb(17,17,17)"
             }
            },
            "type": "table"
           }
          ]
         },
         "layout": {
          "annotationdefaults": {
           "arrowcolor": "#f2f5fa",
           "arrowhead": 0,
           "arrowwidth": 1
          },
          "autotypenumbers": "strict",
          "coloraxis": {
           "colorbar": {
            "outlinewidth": 0,
            "ticks": ""
           }
          },
          "colorscale": {
           "diverging": [
            [
             0,
             "#8e0152"
            ],
            [
             0.1,
             "#c51b7d"
            ],
            [
             0.2,
             "#de77ae"
            ],
            [
             0.3,
             "#f1b6da"
            ],
            [
             0.4,
             "#fde0ef"
            ],
            [
             0.5,
             "#f7f7f7"
            ],
            [
             0.6,
             "#e6f5d0"
            ],
            [
             0.7,
             "#b8e186"
            ],
            [
             0.8,
             "#7fbc41"
            ],
            [
             0.9,
             "#4d9221"
            ],
            [
             1,
             "#276419"
            ]
           ],
           "sequential": [
            [
             0,
             "#0d0887"
            ],
            [
             0.1111111111111111,
             "#46039f"
            ],
            [
             0.2222222222222222,
             "#7201a8"
            ],
            [
             0.3333333333333333,
             "#9c179e"
            ],
            [
             0.4444444444444444,
             "#bd3786"
            ],
            [
             0.5555555555555556,
             "#d8576b"
            ],
            [
             0.6666666666666666,
             "#ed7953"
            ],
            [
             0.7777777777777778,
             "#fb9f3a"
            ],
            [
             0.8888888888888888,
             "#fdca26"
            ],
            [
             1,
             "#f0f921"
            ]
           ],
           "sequentialminus": [
            [
             0,
             "#0d0887"
            ],
            [
             0.1111111111111111,
             "#46039f"
            ],
            [
             0.2222222222222222,
             "#7201a8"
            ],
            [
             0.3333333333333333,
             "#9c179e"
            ],
            [
             0.4444444444444444,
             "#bd3786"
            ],
            [
             0.5555555555555556,
             "#d8576b"
            ],
            [
             0.6666666666666666,
             "#ed7953"
            ],
            [
             0.7777777777777778,
             "#fb9f3a"
            ],
            [
             0.8888888888888888,
             "#fdca26"
            ],
            [
             1,
             "#f0f921"
            ]
           ]
          },
          "colorway": [
           "#636efa",
           "#EF553B",
           "#00cc96",
           "#ab63fa",
           "#FFA15A",
           "#19d3f3",
           "#FF6692",
           "#B6E880",
           "#FF97FF",
           "#FECB52"
          ],
          "font": {
           "color": "#f2f5fa"
          },
          "geo": {
           "bgcolor": "rgb(17,17,17)",
           "lakecolor": "rgb(17,17,17)",
           "landcolor": "rgb(17,17,17)",
           "showlakes": true,
           "showland": true,
           "subunitcolor": "#506784"
          },
          "hoverlabel": {
           "align": "left"
          },
          "hovermode": "closest",
          "mapbox": {
           "style": "dark"
          },
          "paper_bgcolor": "rgb(17,17,17)",
          "plot_bgcolor": "rgb(17,17,17)",
          "polar": {
           "angularaxis": {
            "gridcolor": "#506784",
            "linecolor": "#506784",
            "ticks": ""
           },
           "bgcolor": "rgb(17,17,17)",
           "radialaxis": {
            "gridcolor": "#506784",
            "linecolor": "#506784",
            "ticks": ""
           }
          },
          "scene": {
           "xaxis": {
            "backgroundcolor": "rgb(17,17,17)",
            "gridcolor": "#506784",
            "gridwidth": 2,
            "linecolor": "#506784",
            "showbackground": true,
            "ticks": "",
            "zerolinecolor": "#C8D4E3"
           },
           "yaxis": {
            "backgroundcolor": "rgb(17,17,17)",
            "gridcolor": "#506784",
            "gridwidth": 2,
            "linecolor": "#506784",
            "showbackground": true,
            "ticks": "",
            "zerolinecolor": "#C8D4E3"
           },
           "zaxis": {
            "backgroundcolor": "rgb(17,17,17)",
            "gridcolor": "#506784",
            "gridwidth": 2,
            "linecolor": "#506784",
            "showbackground": true,
            "ticks": "",
            "zerolinecolor": "#C8D4E3"
           }
          },
          "shapedefaults": {
           "line": {
            "color": "#f2f5fa"
           }
          },
          "sliderdefaults": {
           "bgcolor": "#C8D4E3",
           "bordercolor": "rgb(17,17,17)",
           "borderwidth": 1,
           "tickwidth": 0
          },
          "ternary": {
           "aaxis": {
            "gridcolor": "#506784",
            "linecolor": "#506784",
            "ticks": ""
           },
           "baxis": {
            "gridcolor": "#506784",
            "linecolor": "#506784",
            "ticks": ""
           },
           "bgcolor": "rgb(17,17,17)",
           "caxis": {
            "gridcolor": "#506784",
            "linecolor": "#506784",
            "ticks": ""
           }
          },
          "title": {
           "x": 0.05
          },
          "updatemenudefaults": {
           "bgcolor": "#506784",
           "borderwidth": 0
          },
          "xaxis": {
           "automargin": true,
           "gridcolor": "#283442",
           "linecolor": "#506784",
           "ticks": "",
           "title": {
            "standoff": 15
           },
           "zerolinecolor": "#283442",
           "zerolinewidth": 2
          },
          "yaxis": {
           "automargin": true,
           "gridcolor": "#283442",
           "linecolor": "#506784",
           "ticks": "",
           "title": {
            "standoff": 15
           },
           "zerolinecolor": "#283442",
           "zerolinewidth": 2
          }
         }
        },
        "title": {
         "text": "PCA Features"
        },
        "width": 700,
        "xaxis": {
         "anchor": "y",
         "domain": [
          0,
          1
         ],
         "title": {
          "text": "x"
         }
        },
        "yaxis": {
         "anchor": "x",
         "domain": [
          0,
          1
         ],
         "title": {
          "text": "y"
         }
        }
       }
      }
     },
     "metadata": {},
     "output_type": "display_data"
    }
   ],
   "source": [
    "pca = PCA(n_components=5)\n",
    "ndf = df.drop(labels='target', axis=1)\n",
    "\n",
    "pca_df = pca.fit_transform(ndf)\n",
    "\n",
    "# create range enumerating pca feats\n",
    "features = range(pca.n_components_)\n",
    "\n",
    "fig = px.bar(x=features, y=pca.explained_variance_, template='plotly_dark', width=700)\n",
    "fig.update_layout(title='PCA Features')\n",
    "fig.show()"
   ]
  },
  {
   "attachments": {},
   "cell_type": "markdown",
   "id": "a11750d7",
   "metadata": {
    "papermill": {
     "duration": 0.008984,
     "end_time": "2023-04-04T22:22:22.073969",
     "exception": false,
     "start_time": "2023-04-04T22:22:22.064985",
     "status": "completed"
    },
    "tags": []
   },
   "source": [
    "<hr style=\"border:none; height:0.9px;\" />\n",
    "\n",
    "# Choosing a model\n",
    "\n",
    "Evaluating performance of models to choose from. Note decision tree classifier performed well but I'll use logisic regression instead"
   ]
  },
  {
   "cell_type": "code",
   "execution_count": 17,
   "id": "181fb40e",
   "metadata": {
    "execution": {
     "iopub.execute_input": "2023-04-04T22:22:22.098295Z",
     "iopub.status.busy": "2023-04-04T22:22:22.097362Z",
     "iopub.status.idle": "2023-04-04T22:22:22.107805Z",
     "shell.execute_reply": "2023-04-04T22:22:22.106480Z"
    },
    "papermill": {
     "duration": 0.023905,
     "end_time": "2023-04-04T22:22:22.110248",
     "exception": false,
     "start_time": "2023-04-04T22:22:22.086343",
     "status": "completed"
    },
    "tags": []
   },
   "outputs": [],
   "source": [
    "X = df.drop(labels='target', axis=1).values\n",
    "y = df['target'].values\n",
    "\n",
    "X_train, X_test, y_train, y_test = train_test_split(X, y, random_state=12, test_size=0.2)"
   ]
  },
  {
   "cell_type": "code",
   "execution_count": 33,
   "id": "7d1494b4",
   "metadata": {
    "execution": {
     "iopub.execute_input": "2023-04-04T22:22:22.132284Z",
     "iopub.status.busy": "2023-04-04T22:22:22.131838Z",
     "iopub.status.idle": "2023-04-04T22:22:22.409704Z",
     "shell.execute_reply": "2023-04-04T22:22:22.408390Z"
    },
    "papermill": {
     "duration": 0.292927,
     "end_time": "2023-04-04T22:22:22.412947",
     "exception": false,
     "start_time": "2023-04-04T22:22:22.120020",
     "status": "completed"
    },
    "tags": []
   },
   "outputs": [
    {
     "data": {
      "application/vnd.plotly.v1+json": {
       "config": {
        "plotlyServerURL": "https://plot.ly"
       },
       "data": [
        {
         "alignmentgroup": "True",
         "hovertemplate": "Models=%{x}<br>Scores=%{y}<extra></extra>",
         "legendgroup": "",
         "marker": {
          "color": "#636efa"
         },
         "name": "",
         "notched": false,
         "offsetgroup": "",
         "orientation": "v",
         "showlegend": false,
         "type": "box",
         "x": [
          "Linear Regression",
          "Linear Regression",
          "Linear Regression",
          "Linear Regression",
          "Linear Regression"
         ],
         "x0": " ",
         "xaxis": "x",
         "y": [
          0.3964305212552729,
          0.3713701775875115,
          0.41588264195990876,
          0.3944850496957019,
          0.42935554112324825
         ],
         "y0": " ",
         "yaxis": "y"
        },
        {
         "alignmentgroup": "True",
         "hovertemplate": "Models=%{x}<br>Scores=%{y}<extra></extra>",
         "legendgroup": "",
         "marker": {
          "color": "#636efa"
         },
         "name": "",
         "notched": false,
         "offsetgroup": "",
         "orientation": "v",
         "showlegend": false,
         "type": "box",
         "x": [
          "KNN Regression",
          "KNN Regression",
          "KNN Regression",
          "KNN Regression",
          "KNN Regression"
         ],
         "x0": " ",
         "xaxis": "x2",
         "y": [
          0.4609772228646444,
          0.3818813079129867,
          0.469041575982343,
          0.4063328475261672,
          0.4307341580297725
         ],
         "y0": " ",
         "yaxis": "y2"
        },
        {
         "alignmentgroup": "True",
         "hovertemplate": "Models=%{x}<br>Scores=%{y}<extra></extra>",
         "legendgroup": "",
         "marker": {
          "color": "#636efa"
         },
         "name": "",
         "notched": false,
         "offsetgroup": "",
         "orientation": "v",
         "showlegend": false,
         "type": "box",
         "x": [
          "SVM Regression",
          "SVM Regression",
          "SVM Regression",
          "SVM Regression",
          "SVM Regression"
         ],
         "x0": " ",
         "xaxis": "x3",
         "y": [
          0.4927541475118027,
          0.3968352503529544,
          0.4279727815422784,
          0.3704798576552533,
          0.42135116897085356
         ],
         "y0": " ",
         "yaxis": "y3"
        },
        {
         "alignmentgroup": "True",
         "hovertemplate": "Models=%{x}<br>Scores=%{y}<extra></extra>",
         "legendgroup": "",
         "marker": {
          "color": "#636efa"
         },
         "name": "",
         "notched": false,
         "offsetgroup": "",
         "orientation": "v",
         "showlegend": false,
         "type": "box",
         "x": [
          "Random Forest Regression",
          "Random Forest Regression",
          "Random Forest Regression",
          "Random Forest Regression",
          "Random Forest Regression"
         ],
         "x0": " ",
         "xaxis": "x4",
         "y": [
          0.46848124327953333,
          0.4054513830927049,
          0.4605852316609754,
          0.43393555883688223,
          0.4714563266631158
         ],
         "y0": " ",
         "yaxis": "y4"
        }
       ],
       "layout": {
        "annotations": [
         {
          "font": {},
          "showarrow": false,
          "text": "Models=Linear Regression",
          "x": 0.1175,
          "xanchor": "center",
          "xref": "paper",
          "y": 1,
          "yanchor": "bottom",
          "yref": "paper"
         },
         {
          "font": {},
          "showarrow": false,
          "text": "Models=KNN Regression",
          "x": 0.3725,
          "xanchor": "center",
          "xref": "paper",
          "y": 1,
          "yanchor": "bottom",
          "yref": "paper"
         },
         {
          "font": {},
          "showarrow": false,
          "text": "Models=SVM Regression",
          "x": 0.6275,
          "xanchor": "center",
          "xref": "paper",
          "y": 1,
          "yanchor": "bottom",
          "yref": "paper"
         },
         {
          "font": {},
          "showarrow": false,
          "text": "Models=Random Forest Regression",
          "x": 0.8824999999999998,
          "xanchor": "center",
          "xref": "paper",
          "y": 1,
          "yanchor": "bottom",
          "yref": "paper"
         }
        ],
        "boxmode": "group",
        "legend": {
         "tracegroupgap": 0
        },
        "margin": {
         "t": 60
        },
        "template": {
         "data": {
          "bar": [
           {
            "error_x": {
             "color": "#f2f5fa"
            },
            "error_y": {
             "color": "#f2f5fa"
            },
            "marker": {
             "line": {
              "color": "rgb(17,17,17)",
              "width": 0.5
             },
             "pattern": {
              "fillmode": "overlay",
              "size": 10,
              "solidity": 0.2
             }
            },
            "type": "bar"
           }
          ],
          "barpolar": [
           {
            "marker": {
             "line": {
              "color": "rgb(17,17,17)",
              "width": 0.5
             },
             "pattern": {
              "fillmode": "overlay",
              "size": 10,
              "solidity": 0.2
             }
            },
            "type": "barpolar"
           }
          ],
          "carpet": [
           {
            "aaxis": {
             "endlinecolor": "#A2B1C6",
             "gridcolor": "#506784",
             "linecolor": "#506784",
             "minorgridcolor": "#506784",
             "startlinecolor": "#A2B1C6"
            },
            "baxis": {
             "endlinecolor": "#A2B1C6",
             "gridcolor": "#506784",
             "linecolor": "#506784",
             "minorgridcolor": "#506784",
             "startlinecolor": "#A2B1C6"
            },
            "type": "carpet"
           }
          ],
          "choropleth": [
           {
            "colorbar": {
             "outlinewidth": 0,
             "ticks": ""
            },
            "type": "choropleth"
           }
          ],
          "contour": [
           {
            "colorbar": {
             "outlinewidth": 0,
             "ticks": ""
            },
            "colorscale": [
             [
              0,
              "#0d0887"
             ],
             [
              0.1111111111111111,
              "#46039f"
             ],
             [
              0.2222222222222222,
              "#7201a8"
             ],
             [
              0.3333333333333333,
              "#9c179e"
             ],
             [
              0.4444444444444444,
              "#bd3786"
             ],
             [
              0.5555555555555556,
              "#d8576b"
             ],
             [
              0.6666666666666666,
              "#ed7953"
             ],
             [
              0.7777777777777778,
              "#fb9f3a"
             ],
             [
              0.8888888888888888,
              "#fdca26"
             ],
             [
              1,
              "#f0f921"
             ]
            ],
            "type": "contour"
           }
          ],
          "contourcarpet": [
           {
            "colorbar": {
             "outlinewidth": 0,
             "ticks": ""
            },
            "type": "contourcarpet"
           }
          ],
          "heatmap": [
           {
            "colorbar": {
             "outlinewidth": 0,
             "ticks": ""
            },
            "colorscale": [
             [
              0,
              "#0d0887"
             ],
             [
              0.1111111111111111,
              "#46039f"
             ],
             [
              0.2222222222222222,
              "#7201a8"
             ],
             [
              0.3333333333333333,
              "#9c179e"
             ],
             [
              0.4444444444444444,
              "#bd3786"
             ],
             [
              0.5555555555555556,
              "#d8576b"
             ],
             [
              0.6666666666666666,
              "#ed7953"
             ],
             [
              0.7777777777777778,
              "#fb9f3a"
             ],
             [
              0.8888888888888888,
              "#fdca26"
             ],
             [
              1,
              "#f0f921"
             ]
            ],
            "type": "heatmap"
           }
          ],
          "heatmapgl": [
           {
            "colorbar": {
             "outlinewidth": 0,
             "ticks": ""
            },
            "colorscale": [
             [
              0,
              "#0d0887"
             ],
             [
              0.1111111111111111,
              "#46039f"
             ],
             [
              0.2222222222222222,
              "#7201a8"
             ],
             [
              0.3333333333333333,
              "#9c179e"
             ],
             [
              0.4444444444444444,
              "#bd3786"
             ],
             [
              0.5555555555555556,
              "#d8576b"
             ],
             [
              0.6666666666666666,
              "#ed7953"
             ],
             [
              0.7777777777777778,
              "#fb9f3a"
             ],
             [
              0.8888888888888888,
              "#fdca26"
             ],
             [
              1,
              "#f0f921"
             ]
            ],
            "type": "heatmapgl"
           }
          ],
          "histogram": [
           {
            "marker": {
             "pattern": {
              "fillmode": "overlay",
              "size": 10,
              "solidity": 0.2
             }
            },
            "type": "histogram"
           }
          ],
          "histogram2d": [
           {
            "colorbar": {
             "outlinewidth": 0,
             "ticks": ""
            },
            "colorscale": [
             [
              0,
              "#0d0887"
             ],
             [
              0.1111111111111111,
              "#46039f"
             ],
             [
              0.2222222222222222,
              "#7201a8"
             ],
             [
              0.3333333333333333,
              "#9c179e"
             ],
             [
              0.4444444444444444,
              "#bd3786"
             ],
             [
              0.5555555555555556,
              "#d8576b"
             ],
             [
              0.6666666666666666,
              "#ed7953"
             ],
             [
              0.7777777777777778,
              "#fb9f3a"
             ],
             [
              0.8888888888888888,
              "#fdca26"
             ],
             [
              1,
              "#f0f921"
             ]
            ],
            "type": "histogram2d"
           }
          ],
          "histogram2dcontour": [
           {
            "colorbar": {
             "outlinewidth": 0,
             "ticks": ""
            },
            "colorscale": [
             [
              0,
              "#0d0887"
             ],
             [
              0.1111111111111111,
              "#46039f"
             ],
             [
              0.2222222222222222,
              "#7201a8"
             ],
             [
              0.3333333333333333,
              "#9c179e"
             ],
             [
              0.4444444444444444,
              "#bd3786"
             ],
             [
              0.5555555555555556,
              "#d8576b"
             ],
             [
              0.6666666666666666,
              "#ed7953"
             ],
             [
              0.7777777777777778,
              "#fb9f3a"
             ],
             [
              0.8888888888888888,
              "#fdca26"
             ],
             [
              1,
              "#f0f921"
             ]
            ],
            "type": "histogram2dcontour"
           }
          ],
          "mesh3d": [
           {
            "colorbar": {
             "outlinewidth": 0,
             "ticks": ""
            },
            "type": "mesh3d"
           }
          ],
          "parcoords": [
           {
            "line": {
             "colorbar": {
              "outlinewidth": 0,
              "ticks": ""
             }
            },
            "type": "parcoords"
           }
          ],
          "pie": [
           {
            "automargin": true,
            "type": "pie"
           }
          ],
          "scatter": [
           {
            "marker": {
             "line": {
              "color": "#283442"
             }
            },
            "type": "scatter"
           }
          ],
          "scatter3d": [
           {
            "line": {
             "colorbar": {
              "outlinewidth": 0,
              "ticks": ""
             }
            },
            "marker": {
             "colorbar": {
              "outlinewidth": 0,
              "ticks": ""
             }
            },
            "type": "scatter3d"
           }
          ],
          "scattercarpet": [
           {
            "marker": {
             "colorbar": {
              "outlinewidth": 0,
              "ticks": ""
             }
            },
            "type": "scattercarpet"
           }
          ],
          "scattergeo": [
           {
            "marker": {
             "colorbar": {
              "outlinewidth": 0,
              "ticks": ""
             }
            },
            "type": "scattergeo"
           }
          ],
          "scattergl": [
           {
            "marker": {
             "line": {
              "color": "#283442"
             }
            },
            "type": "scattergl"
           }
          ],
          "scattermapbox": [
           {
            "marker": {
             "colorbar": {
              "outlinewidth": 0,
              "ticks": ""
             }
            },
            "type": "scattermapbox"
           }
          ],
          "scatterpolar": [
           {
            "marker": {
             "colorbar": {
              "outlinewidth": 0,
              "ticks": ""
             }
            },
            "type": "scatterpolar"
           }
          ],
          "scatterpolargl": [
           {
            "marker": {
             "colorbar": {
              "outlinewidth": 0,
              "ticks": ""
             }
            },
            "type": "scatterpolargl"
           }
          ],
          "scatterternary": [
           {
            "marker": {
             "colorbar": {
              "outlinewidth": 0,
              "ticks": ""
             }
            },
            "type": "scatterternary"
           }
          ],
          "surface": [
           {
            "colorbar": {
             "outlinewidth": 0,
             "ticks": ""
            },
            "colorscale": [
             [
              0,
              "#0d0887"
             ],
             [
              0.1111111111111111,
              "#46039f"
             ],
             [
              0.2222222222222222,
              "#7201a8"
             ],
             [
              0.3333333333333333,
              "#9c179e"
             ],
             [
              0.4444444444444444,
              "#bd3786"
             ],
             [
              0.5555555555555556,
              "#d8576b"
             ],
             [
              0.6666666666666666,
              "#ed7953"
             ],
             [
              0.7777777777777778,
              "#fb9f3a"
             ],
             [
              0.8888888888888888,
              "#fdca26"
             ],
             [
              1,
              "#f0f921"
             ]
            ],
            "type": "surface"
           }
          ],
          "table": [
           {
            "cells": {
             "fill": {
              "color": "#506784"
             },
             "line": {
              "color": "rgb(17,17,17)"
             }
            },
            "header": {
             "fill": {
              "color": "#2a3f5f"
             },
             "line": {
              "color": "rgb(17,17,17)"
             }
            },
            "type": "table"
           }
          ]
         },
         "layout": {
          "annotationdefaults": {
           "arrowcolor": "#f2f5fa",
           "arrowhead": 0,
           "arrowwidth": 1
          },
          "autotypenumbers": "strict",
          "coloraxis": {
           "colorbar": {
            "outlinewidth": 0,
            "ticks": ""
           }
          },
          "colorscale": {
           "diverging": [
            [
             0,
             "#8e0152"
            ],
            [
             0.1,
             "#c51b7d"
            ],
            [
             0.2,
             "#de77ae"
            ],
            [
             0.3,
             "#f1b6da"
            ],
            [
             0.4,
             "#fde0ef"
            ],
            [
             0.5,
             "#f7f7f7"
            ],
            [
             0.6,
             "#e6f5d0"
            ],
            [
             0.7,
             "#b8e186"
            ],
            [
             0.8,
             "#7fbc41"
            ],
            [
             0.9,
             "#4d9221"
            ],
            [
             1,
             "#276419"
            ]
           ],
           "sequential": [
            [
             0,
             "#0d0887"
            ],
            [
             0.1111111111111111,
             "#46039f"
            ],
            [
             0.2222222222222222,
             "#7201a8"
            ],
            [
             0.3333333333333333,
             "#9c179e"
            ],
            [
             0.4444444444444444,
             "#bd3786"
            ],
            [
             0.5555555555555556,
             "#d8576b"
            ],
            [
             0.6666666666666666,
             "#ed7953"
            ],
            [
             0.7777777777777778,
             "#fb9f3a"
            ],
            [
             0.8888888888888888,
             "#fdca26"
            ],
            [
             1,
             "#f0f921"
            ]
           ],
           "sequentialminus": [
            [
             0,
             "#0d0887"
            ],
            [
             0.1111111111111111,
             "#46039f"
            ],
            [
             0.2222222222222222,
             "#7201a8"
            ],
            [
             0.3333333333333333,
             "#9c179e"
            ],
            [
             0.4444444444444444,
             "#bd3786"
            ],
            [
             0.5555555555555556,
             "#d8576b"
            ],
            [
             0.6666666666666666,
             "#ed7953"
            ],
            [
             0.7777777777777778,
             "#fb9f3a"
            ],
            [
             0.8888888888888888,
             "#fdca26"
            ],
            [
             1,
             "#f0f921"
            ]
           ]
          },
          "colorway": [
           "#636efa",
           "#EF553B",
           "#00cc96",
           "#ab63fa",
           "#FFA15A",
           "#19d3f3",
           "#FF6692",
           "#B6E880",
           "#FF97FF",
           "#FECB52"
          ],
          "font": {
           "color": "#f2f5fa"
          },
          "geo": {
           "bgcolor": "rgb(17,17,17)",
           "lakecolor": "rgb(17,17,17)",
           "landcolor": "rgb(17,17,17)",
           "showlakes": true,
           "showland": true,
           "subunitcolor": "#506784"
          },
          "hoverlabel": {
           "align": "left"
          },
          "hovermode": "closest",
          "mapbox": {
           "style": "dark"
          },
          "paper_bgcolor": "rgb(17,17,17)",
          "plot_bgcolor": "rgb(17,17,17)",
          "polar": {
           "angularaxis": {
            "gridcolor": "#506784",
            "linecolor": "#506784",
            "ticks": ""
           },
           "bgcolor": "rgb(17,17,17)",
           "radialaxis": {
            "gridcolor": "#506784",
            "linecolor": "#506784",
            "ticks": ""
           }
          },
          "scene": {
           "xaxis": {
            "backgroundcolor": "rgb(17,17,17)",
            "gridcolor": "#506784",
            "gridwidth": 2,
            "linecolor": "#506784",
            "showbackground": true,
            "ticks": "",
            "zerolinecolor": "#C8D4E3"
           },
           "yaxis": {
            "backgroundcolor": "rgb(17,17,17)",
            "gridcolor": "#506784",
            "gridwidth": 2,
            "linecolor": "#506784",
            "showbackground": true,
            "ticks": "",
            "zerolinecolor": "#C8D4E3"
           },
           "zaxis": {
            "backgroundcolor": "rgb(17,17,17)",
            "gridcolor": "#506784",
            "gridwidth": 2,
            "linecolor": "#506784",
            "showbackground": true,
            "ticks": "",
            "zerolinecolor": "#C8D4E3"
           }
          },
          "shapedefaults": {
           "line": {
            "color": "#f2f5fa"
           }
          },
          "sliderdefaults": {
           "bgcolor": "#C8D4E3",
           "bordercolor": "rgb(17,17,17)",
           "borderwidth": 1,
           "tickwidth": 0
          },
          "ternary": {
           "aaxis": {
            "gridcolor": "#506784",
            "linecolor": "#506784",
            "ticks": ""
           },
           "baxis": {
            "gridcolor": "#506784",
            "linecolor": "#506784",
            "ticks": ""
           },
           "bgcolor": "rgb(17,17,17)",
           "caxis": {
            "gridcolor": "#506784",
            "linecolor": "#506784",
            "ticks": ""
           }
          },
          "title": {
           "x": 0.05
          },
          "updatemenudefaults": {
           "bgcolor": "#506784",
           "borderwidth": 0
          },
          "xaxis": {
           "automargin": true,
           "gridcolor": "#283442",
           "linecolor": "#506784",
           "ticks": "",
           "title": {
            "standoff": 15
           },
           "zerolinecolor": "#283442",
           "zerolinewidth": 2
          },
          "yaxis": {
           "automargin": true,
           "gridcolor": "#283442",
           "linecolor": "#506784",
           "ticks": "",
           "title": {
            "standoff": 15
           },
           "zerolinecolor": "#283442",
           "zerolinewidth": 2
          }
         }
        },
        "title": {
         "text": "Regression Model Comparison"
        },
        "xaxis": {
         "anchor": "y",
         "categoryarray": [
          "Linear Regression",
          "KNN Regression",
          "SVM Regression",
          "Random Forest Regression"
         ],
         "categoryorder": "array",
         "domain": [
          0,
          0.235
         ],
         "showticklabels": false,
         "title": {
          "text": "Models"
         }
        },
        "xaxis2": {
         "anchor": "y2",
         "categoryarray": [
          "Linear Regression",
          "KNN Regression",
          "SVM Regression",
          "Random Forest Regression"
         ],
         "categoryorder": "array",
         "domain": [
          0.255,
          0.49
         ],
         "matches": "x",
         "showticklabels": false,
         "title": {
          "text": "Models"
         }
        },
        "xaxis3": {
         "anchor": "y3",
         "categoryarray": [
          "Linear Regression",
          "KNN Regression",
          "SVM Regression",
          "Random Forest Regression"
         ],
         "categoryorder": "array",
         "domain": [
          0.51,
          0.745
         ],
         "matches": "x",
         "showticklabels": false,
         "title": {
          "text": "Models"
         }
        },
        "xaxis4": {
         "anchor": "y4",
         "categoryarray": [
          "Linear Regression",
          "KNN Regression",
          "SVM Regression",
          "Random Forest Regression"
         ],
         "categoryorder": "array",
         "domain": [
          0.7649999999999999,
          0.9999999999999999
         ],
         "matches": "x",
         "showticklabels": false,
         "title": {
          "text": "Models"
         }
        },
        "yaxis": {
         "anchor": "x",
         "domain": [
          0,
          1
         ],
         "title": {
          "text": "RMSE"
         }
        },
        "yaxis2": {
         "anchor": "x2",
         "domain": [
          0,
          1
         ],
         "matches": "y",
         "showticklabels": false
        },
        "yaxis3": {
         "anchor": "x3",
         "domain": [
          0,
          1
         ],
         "matches": "y",
         "showticklabels": false
        },
        "yaxis4": {
         "anchor": "x4",
         "domain": [
          0,
          1
         ],
         "matches": "y",
         "showticklabels": false
        }
       }
      }
     },
     "metadata": {},
     "output_type": "display_data"
    }
   ],
   "source": [
    "from sklearn.linear_model import LinearRegression\n",
    "from sklearn.neighbors import KNeighborsRegressor\n",
    "from sklearn.svm import SVR\n",
    "from sklearn.ensemble import RandomForestRegressor\n",
    "import plotly.express as px\n",
    "# Dictionary to store regression models\n",
    "models = {\n",
    "    'Linear Regression': LinearRegression(),\n",
    "    'KNN Regression': KNeighborsRegressor(),\n",
    "    'SVM Regression': SVR(kernel='rbf'),\n",
    "    'Random Forest Regression': RandomForestRegressor(n_estimators=100, random_state=12)\n",
    "}\n",
    "\n",
    "results = []\n",
    "\n",
    "# Train and evaluate each model using cross-validation\n",
    "for name, model in models.items():\n",
    "    kf = KFold(n_splits=5, shuffle=True, random_state=12)\n",
    "    cv_results = cross_val_score(model, X_train, y_train, cv=kf, scoring='neg_mean_squared_error')\n",
    "    cv_results = np.sqrt(-cv_results)  # Convert negative MSE to RMSE\n",
    "    results.append(cv_results)\n",
    "\n",
    "# Create a DataFrame for the results\n",
    "df = pd.DataFrame(results).T\n",
    "df.columns = models.keys()\n",
    "\n",
    "# Melt the DataFrame for visualization\n",
    "df_melted = pd.melt(df, var_name='Models', value_name='Scores')\n",
    "\n",
    "# Plot the results\n",
    "fig = px.box(df_melted, x='Models', y='Scores', facet_col='Models', template='plotly_dark')\n",
    "fig.update_xaxes(showticklabels=False)\n",
    "fig.update_layout(title='Regression Model Comparison', yaxis_title='RMSE')\n",
    "fig.show()"
   ]
  },
  {
   "attachments": {},
   "cell_type": "markdown",
   "id": "f258bf01",
   "metadata": {
    "papermill": {
     "duration": 0.009404,
     "end_time": "2023-04-04T22:22:22.432437",
     "exception": false,
     "start_time": "2023-04-04T22:22:22.423033",
     "status": "completed"
    },
    "tags": []
   },
   "source": [
    "In the chart above, we can see each model's bar diagram along with the median score depicted by the orange line.\n",
    "\n",
    "KNN and LogisitcRegression both have accuracies ranging between 84 and 86%, while the decision tree seems to be up around 98%."
   ]
  },
  {
   "attachments": {},
   "cell_type": "markdown",
   "id": "d284297e",
   "metadata": {
    "papermill": {
     "duration": 0.009924,
     "end_time": "2023-04-04T22:22:22.452115",
     "exception": false,
     "start_time": "2023-04-04T22:22:22.442191",
     "status": "completed"
    },
    "tags": []
   },
   "source": [
    "<hr style=\"border:none; height:0.9px;\" />\n",
    "\n",
    "# Logisitc Regression"
   ]
  },
  {
   "cell_type": "code",
   "execution_count": 19,
   "id": "71e054b1",
   "metadata": {
    "execution": {
     "iopub.execute_input": "2023-04-04T22:22:22.473885Z",
     "iopub.status.busy": "2023-04-04T22:22:22.473471Z",
     "iopub.status.idle": "2023-04-04T22:22:22.478667Z",
     "shell.execute_reply": "2023-04-04T22:22:22.477188Z"
    },
    "papermill": {
     "duration": 0.019726,
     "end_time": "2023-04-04T22:22:22.481542",
     "exception": false,
     "start_time": "2023-04-04T22:22:22.461816",
     "status": "completed"
    },
    "tags": []
   },
   "outputs": [],
   "source": [
    "logreg = LogisticRegression()\n",
    "scaler = StandardScaler()"
   ]
  },
  {
   "cell_type": "code",
   "execution_count": 20,
   "id": "1fd01d6c",
   "metadata": {
    "execution": {
     "iopub.execute_input": "2023-04-04T22:22:22.503125Z",
     "iopub.status.busy": "2023-04-04T22:22:22.502611Z",
     "iopub.status.idle": "2023-04-04T22:22:22.543114Z",
     "shell.execute_reply": "2023-04-04T22:22:22.541340Z"
    },
    "papermill": {
     "duration": 0.05655,
     "end_time": "2023-04-04T22:22:22.547824",
     "exception": false,
     "start_time": "2023-04-04T22:22:22.491274",
     "status": "completed"
    },
    "tags": []
   },
   "outputs": [
    {
     "name": "stdout",
     "output_type": "stream",
     "text": [
      "              precision    recall  f1-score   support\n",
      "\n",
      "           0       0.72      0.82      0.77        22\n",
      "           1       0.89      0.82      0.85        38\n",
      "\n",
      "    accuracy                           0.82        60\n",
      "   macro avg       0.80      0.82      0.81        60\n",
      "weighted avg       0.82      0.82      0.82        60\n",
      "\n",
      "\n",
      "\n",
      "Training accuracy: 0.8781512605042017\n",
      "Testing accuracy: 0.8166666666666667\n"
     ]
    }
   ],
   "source": [
    "pipeline = make_pipeline(scaler, logreg)\n",
    "\n",
    "pipeline.fit(X_train, y_train)\n",
    "\n",
    "y_pred = pipeline.predict(X_test)\n",
    "\n",
    "y_pred_proba = pipeline.predict_proba(X_test)[:, 1] # slice second class positive\n",
    "\n",
    "testing_accuracy = pipeline.score(X_test, y_test)\n",
    "training_accuracy = pipeline.score(X_train, y_train)\n",
    "\n",
    "print(classification_report(y_test, y_pred))\n",
    "print('\\n')\n",
    "print(f'Training accuracy: {training_accuracy}')\n",
    "print(f'Testing accuracy: {testing_accuracy}')"
   ]
  },
  {
   "attachments": {},
   "cell_type": "markdown",
   "id": "08076361",
   "metadata": {
    "papermill": {
     "duration": 0.02444,
     "end_time": "2023-04-04T22:22:22.597213",
     "exception": false,
     "start_time": "2023-04-04T22:22:22.572773",
     "status": "completed"
    },
    "tags": []
   },
   "source": [
    "The precision and recall aren't terrible but definitely could be improved.\n",
    "\n",
    "Below I'll create a ROC curve and find the AUC as well as plot a confusion matrix."
   ]
  },
  {
   "cell_type": "code",
   "execution_count": 21,
   "id": "4cb6864b",
   "metadata": {
    "execution": {
     "iopub.execute_input": "2023-04-04T22:22:22.650606Z",
     "iopub.status.busy": "2023-04-04T22:22:22.650151Z",
     "iopub.status.idle": "2023-04-04T22:22:22.767755Z",
     "shell.execute_reply": "2023-04-04T22:22:22.766404Z"
    },
    "papermill": {
     "duration": 0.148501,
     "end_time": "2023-04-04T22:22:22.770562",
     "exception": false,
     "start_time": "2023-04-04T22:22:22.622061",
     "status": "completed"
    },
    "tags": []
   },
   "outputs": [
    {
     "data": {
      "application/vnd.plotly.v1+json": {
       "config": {
        "plotlyServerURL": "https://plot.ly"
       },
       "data": [
        {
         "fillpattern": {
          "shape": ""
         },
         "hovertemplate": "False Positive Rate=%{x}<br>True Positive Rate=%{y}<extra></extra>",
         "legendgroup": "",
         "line": {
          "color": "#636efa"
         },
         "marker": {
          "symbol": "circle"
         },
         "mode": "lines",
         "name": "",
         "orientation": "v",
         "showlegend": false,
         "stackgroup": "1",
         "type": "scatter",
         "x": [
          0,
          0,
          0,
          0.045454545454545456,
          0.045454545454545456,
          0.09090909090909091,
          0.09090909090909091,
          0.18181818181818182,
          0.18181818181818182,
          0.22727272727272727,
          0.22727272727272727,
          0.3181818181818182,
          0.3181818181818182,
          0.45454545454545453,
          0.45454545454545453,
          0.5,
          0.5,
          1
         ],
         "xaxis": "x",
         "y": [
          0,
          0.02631578947368421,
          0.23684210526315788,
          0.23684210526315788,
          0.5263157894736842,
          0.5263157894736842,
          0.7368421052631579,
          0.7368421052631579,
          0.8947368421052632,
          0.8947368421052632,
          0.9210526315789473,
          0.9210526315789473,
          0.9473684210526315,
          0.9473684210526315,
          0.9736842105263158,
          0.9736842105263158,
          1,
          1
         ],
         "yaxis": "y"
        }
       ],
       "layout": {
        "height": 500,
        "legend": {
         "tracegroupgap": 0
        },
        "shapes": [
         {
          "line": {
           "dash": "dash"
          },
          "type": "line",
          "x0": 0,
          "x1": 1,
          "y0": 0,
          "y1": 1
         }
        ],
        "template": {
         "data": {
          "bar": [
           {
            "error_x": {
             "color": "#f2f5fa"
            },
            "error_y": {
             "color": "#f2f5fa"
            },
            "marker": {
             "line": {
              "color": "rgb(17,17,17)",
              "width": 0.5
             },
             "pattern": {
              "fillmode": "overlay",
              "size": 10,
              "solidity": 0.2
             }
            },
            "type": "bar"
           }
          ],
          "barpolar": [
           {
            "marker": {
             "line": {
              "color": "rgb(17,17,17)",
              "width": 0.5
             },
             "pattern": {
              "fillmode": "overlay",
              "size": 10,
              "solidity": 0.2
             }
            },
            "type": "barpolar"
           }
          ],
          "carpet": [
           {
            "aaxis": {
             "endlinecolor": "#A2B1C6",
             "gridcolor": "#506784",
             "linecolor": "#506784",
             "minorgridcolor": "#506784",
             "startlinecolor": "#A2B1C6"
            },
            "baxis": {
             "endlinecolor": "#A2B1C6",
             "gridcolor": "#506784",
             "linecolor": "#506784",
             "minorgridcolor": "#506784",
             "startlinecolor": "#A2B1C6"
            },
            "type": "carpet"
           }
          ],
          "choropleth": [
           {
            "colorbar": {
             "outlinewidth": 0,
             "ticks": ""
            },
            "type": "choropleth"
           }
          ],
          "contour": [
           {
            "colorbar": {
             "outlinewidth": 0,
             "ticks": ""
            },
            "colorscale": [
             [
              0,
              "#0d0887"
             ],
             [
              0.1111111111111111,
              "#46039f"
             ],
             [
              0.2222222222222222,
              "#7201a8"
             ],
             [
              0.3333333333333333,
              "#9c179e"
             ],
             [
              0.4444444444444444,
              "#bd3786"
             ],
             [
              0.5555555555555556,
              "#d8576b"
             ],
             [
              0.6666666666666666,
              "#ed7953"
             ],
             [
              0.7777777777777778,
              "#fb9f3a"
             ],
             [
              0.8888888888888888,
              "#fdca26"
             ],
             [
              1,
              "#f0f921"
             ]
            ],
            "type": "contour"
           }
          ],
          "contourcarpet": [
           {
            "colorbar": {
             "outlinewidth": 0,
             "ticks": ""
            },
            "type": "contourcarpet"
           }
          ],
          "heatmap": [
           {
            "colorbar": {
             "outlinewidth": 0,
             "ticks": ""
            },
            "colorscale": [
             [
              0,
              "#0d0887"
             ],
             [
              0.1111111111111111,
              "#46039f"
             ],
             [
              0.2222222222222222,
              "#7201a8"
             ],
             [
              0.3333333333333333,
              "#9c179e"
             ],
             [
              0.4444444444444444,
              "#bd3786"
             ],
             [
              0.5555555555555556,
              "#d8576b"
             ],
             [
              0.6666666666666666,
              "#ed7953"
             ],
             [
              0.7777777777777778,
              "#fb9f3a"
             ],
             [
              0.8888888888888888,
              "#fdca26"
             ],
             [
              1,
              "#f0f921"
             ]
            ],
            "type": "heatmap"
           }
          ],
          "heatmapgl": [
           {
            "colorbar": {
             "outlinewidth": 0,
             "ticks": ""
            },
            "colorscale": [
             [
              0,
              "#0d0887"
             ],
             [
              0.1111111111111111,
              "#46039f"
             ],
             [
              0.2222222222222222,
              "#7201a8"
             ],
             [
              0.3333333333333333,
              "#9c179e"
             ],
             [
              0.4444444444444444,
              "#bd3786"
             ],
             [
              0.5555555555555556,
              "#d8576b"
             ],
             [
              0.6666666666666666,
              "#ed7953"
             ],
             [
              0.7777777777777778,
              "#fb9f3a"
             ],
             [
              0.8888888888888888,
              "#fdca26"
             ],
             [
              1,
              "#f0f921"
             ]
            ],
            "type": "heatmapgl"
           }
          ],
          "histogram": [
           {
            "marker": {
             "pattern": {
              "fillmode": "overlay",
              "size": 10,
              "solidity": 0.2
             }
            },
            "type": "histogram"
           }
          ],
          "histogram2d": [
           {
            "colorbar": {
             "outlinewidth": 0,
             "ticks": ""
            },
            "colorscale": [
             [
              0,
              "#0d0887"
             ],
             [
              0.1111111111111111,
              "#46039f"
             ],
             [
              0.2222222222222222,
              "#7201a8"
             ],
             [
              0.3333333333333333,
              "#9c179e"
             ],
             [
              0.4444444444444444,
              "#bd3786"
             ],
             [
              0.5555555555555556,
              "#d8576b"
             ],
             [
              0.6666666666666666,
              "#ed7953"
             ],
             [
              0.7777777777777778,
              "#fb9f3a"
             ],
             [
              0.8888888888888888,
              "#fdca26"
             ],
             [
              1,
              "#f0f921"
             ]
            ],
            "type": "histogram2d"
           }
          ],
          "histogram2dcontour": [
           {
            "colorbar": {
             "outlinewidth": 0,
             "ticks": ""
            },
            "colorscale": [
             [
              0,
              "#0d0887"
             ],
             [
              0.1111111111111111,
              "#46039f"
             ],
             [
              0.2222222222222222,
              "#7201a8"
             ],
             [
              0.3333333333333333,
              "#9c179e"
             ],
             [
              0.4444444444444444,
              "#bd3786"
             ],
             [
              0.5555555555555556,
              "#d8576b"
             ],
             [
              0.6666666666666666,
              "#ed7953"
             ],
             [
              0.7777777777777778,
              "#fb9f3a"
             ],
             [
              0.8888888888888888,
              "#fdca26"
             ],
             [
              1,
              "#f0f921"
             ]
            ],
            "type": "histogram2dcontour"
           }
          ],
          "mesh3d": [
           {
            "colorbar": {
             "outlinewidth": 0,
             "ticks": ""
            },
            "type": "mesh3d"
           }
          ],
          "parcoords": [
           {
            "line": {
             "colorbar": {
              "outlinewidth": 0,
              "ticks": ""
             }
            },
            "type": "parcoords"
           }
          ],
          "pie": [
           {
            "automargin": true,
            "type": "pie"
           }
          ],
          "scatter": [
           {
            "marker": {
             "line": {
              "color": "#283442"
             }
            },
            "type": "scatter"
           }
          ],
          "scatter3d": [
           {
            "line": {
             "colorbar": {
              "outlinewidth": 0,
              "ticks": ""
             }
            },
            "marker": {
             "colorbar": {
              "outlinewidth": 0,
              "ticks": ""
             }
            },
            "type": "scatter3d"
           }
          ],
          "scattercarpet": [
           {
            "marker": {
             "colorbar": {
              "outlinewidth": 0,
              "ticks": ""
             }
            },
            "type": "scattercarpet"
           }
          ],
          "scattergeo": [
           {
            "marker": {
             "colorbar": {
              "outlinewidth": 0,
              "ticks": ""
             }
            },
            "type": "scattergeo"
           }
          ],
          "scattergl": [
           {
            "marker": {
             "line": {
              "color": "#283442"
             }
            },
            "type": "scattergl"
           }
          ],
          "scattermapbox": [
           {
            "marker": {
             "colorbar": {
              "outlinewidth": 0,
              "ticks": ""
             }
            },
            "type": "scattermapbox"
           }
          ],
          "scatterpolar": [
           {
            "marker": {
             "colorbar": {
              "outlinewidth": 0,
              "ticks": ""
             }
            },
            "type": "scatterpolar"
           }
          ],
          "scatterpolargl": [
           {
            "marker": {
             "colorbar": {
              "outlinewidth": 0,
              "ticks": ""
             }
            },
            "type": "scatterpolargl"
           }
          ],
          "scatterternary": [
           {
            "marker": {
             "colorbar": {
              "outlinewidth": 0,
              "ticks": ""
             }
            },
            "type": "scatterternary"
           }
          ],
          "surface": [
           {
            "colorbar": {
             "outlinewidth": 0,
             "ticks": ""
            },
            "colorscale": [
             [
              0,
              "#0d0887"
             ],
             [
              0.1111111111111111,
              "#46039f"
             ],
             [
              0.2222222222222222,
              "#7201a8"
             ],
             [
              0.3333333333333333,
              "#9c179e"
             ],
             [
              0.4444444444444444,
              "#bd3786"
             ],
             [
              0.5555555555555556,
              "#d8576b"
             ],
             [
              0.6666666666666666,
              "#ed7953"
             ],
             [
              0.7777777777777778,
              "#fb9f3a"
             ],
             [
              0.8888888888888888,
              "#fdca26"
             ],
             [
              1,
              "#f0f921"
             ]
            ],
            "type": "surface"
           }
          ],
          "table": [
           {
            "cells": {
             "fill": {
              "color": "#506784"
             },
             "line": {
              "color": "rgb(17,17,17)"
             }
            },
            "header": {
             "fill": {
              "color": "#2a3f5f"
             },
             "line": {
              "color": "rgb(17,17,17)"
             }
            },
            "type": "table"
           }
          ]
         },
         "layout": {
          "annotationdefaults": {
           "arrowcolor": "#f2f5fa",
           "arrowhead": 0,
           "arrowwidth": 1
          },
          "autotypenumbers": "strict",
          "coloraxis": {
           "colorbar": {
            "outlinewidth": 0,
            "ticks": ""
           }
          },
          "colorscale": {
           "diverging": [
            [
             0,
             "#8e0152"
            ],
            [
             0.1,
             "#c51b7d"
            ],
            [
             0.2,
             "#de77ae"
            ],
            [
             0.3,
             "#f1b6da"
            ],
            [
             0.4,
             "#fde0ef"
            ],
            [
             0.5,
             "#f7f7f7"
            ],
            [
             0.6,
             "#e6f5d0"
            ],
            [
             0.7,
             "#b8e186"
            ],
            [
             0.8,
             "#7fbc41"
            ],
            [
             0.9,
             "#4d9221"
            ],
            [
             1,
             "#276419"
            ]
           ],
           "sequential": [
            [
             0,
             "#0d0887"
            ],
            [
             0.1111111111111111,
             "#46039f"
            ],
            [
             0.2222222222222222,
             "#7201a8"
            ],
            [
             0.3333333333333333,
             "#9c179e"
            ],
            [
             0.4444444444444444,
             "#bd3786"
            ],
            [
             0.5555555555555556,
             "#d8576b"
            ],
            [
             0.6666666666666666,
             "#ed7953"
            ],
            [
             0.7777777777777778,
             "#fb9f3a"
            ],
            [
             0.8888888888888888,
             "#fdca26"
            ],
            [
             1,
             "#f0f921"
            ]
           ],
           "sequentialminus": [
            [
             0,
             "#0d0887"
            ],
            [
             0.1111111111111111,
             "#46039f"
            ],
            [
             0.2222222222222222,
             "#7201a8"
            ],
            [
             0.3333333333333333,
             "#9c179e"
            ],
            [
             0.4444444444444444,
             "#bd3786"
            ],
            [
             0.5555555555555556,
             "#d8576b"
            ],
            [
             0.6666666666666666,
             "#ed7953"
            ],
            [
             0.7777777777777778,
             "#fb9f3a"
            ],
            [
             0.8888888888888888,
             "#fdca26"
            ],
            [
             1,
             "#f0f921"
            ]
           ]
          },
          "colorway": [
           "#636efa",
           "#EF553B",
           "#00cc96",
           "#ab63fa",
           "#FFA15A",
           "#19d3f3",
           "#FF6692",
           "#B6E880",
           "#FF97FF",
           "#FECB52"
          ],
          "font": {
           "color": "#f2f5fa"
          },
          "geo": {
           "bgcolor": "rgb(17,17,17)",
           "lakecolor": "rgb(17,17,17)",
           "landcolor": "rgb(17,17,17)",
           "showlakes": true,
           "showland": true,
           "subunitcolor": "#506784"
          },
          "hoverlabel": {
           "align": "left"
          },
          "hovermode": "closest",
          "mapbox": {
           "style": "dark"
          },
          "paper_bgcolor": "rgb(17,17,17)",
          "plot_bgcolor": "rgb(17,17,17)",
          "polar": {
           "angularaxis": {
            "gridcolor": "#506784",
            "linecolor": "#506784",
            "ticks": ""
           },
           "bgcolor": "rgb(17,17,17)",
           "radialaxis": {
            "gridcolor": "#506784",
            "linecolor": "#506784",
            "ticks": ""
           }
          },
          "scene": {
           "xaxis": {
            "backgroundcolor": "rgb(17,17,17)",
            "gridcolor": "#506784",
            "gridwidth": 2,
            "linecolor": "#506784",
            "showbackground": true,
            "ticks": "",
            "zerolinecolor": "#C8D4E3"
           },
           "yaxis": {
            "backgroundcolor": "rgb(17,17,17)",
            "gridcolor": "#506784",
            "gridwidth": 2,
            "linecolor": "#506784",
            "showbackground": true,
            "ticks": "",
            "zerolinecolor": "#C8D4E3"
           },
           "zaxis": {
            "backgroundcolor": "rgb(17,17,17)",
            "gridcolor": "#506784",
            "gridwidth": 2,
            "linecolor": "#506784",
            "showbackground": true,
            "ticks": "",
            "zerolinecolor": "#C8D4E3"
           }
          },
          "shapedefaults": {
           "line": {
            "color": "#f2f5fa"
           }
          },
          "sliderdefaults": {
           "bgcolor": "#C8D4E3",
           "bordercolor": "rgb(17,17,17)",
           "borderwidth": 1,
           "tickwidth": 0
          },
          "ternary": {
           "aaxis": {
            "gridcolor": "#506784",
            "linecolor": "#506784",
            "ticks": ""
           },
           "baxis": {
            "gridcolor": "#506784",
            "linecolor": "#506784",
            "ticks": ""
           },
           "bgcolor": "rgb(17,17,17)",
           "caxis": {
            "gridcolor": "#506784",
            "linecolor": "#506784",
            "ticks": ""
           }
          },
          "title": {
           "x": 0.05
          },
          "updatemenudefaults": {
           "bgcolor": "#506784",
           "borderwidth": 0
          },
          "xaxis": {
           "automargin": true,
           "gridcolor": "#283442",
           "linecolor": "#506784",
           "ticks": "",
           "title": {
            "standoff": 15
           },
           "zerolinecolor": "#283442",
           "zerolinewidth": 2
          },
          "yaxis": {
           "automargin": true,
           "gridcolor": "#283442",
           "linecolor": "#506784",
           "ticks": "",
           "title": {
            "standoff": 15
           },
           "zerolinecolor": "#283442",
           "zerolinewidth": 2
          }
         }
        },
        "title": {
         "text": "ROC Curve (AUC=0.8995)"
        },
        "width": 700,
        "xaxis": {
         "anchor": "y",
         "constrain": "domain",
         "domain": [
          0,
          1
         ],
         "title": {
          "text": "False Positive Rate"
         }
        },
        "yaxis": {
         "anchor": "x",
         "domain": [
          0,
          1
         ],
         "scaleanchor": "x",
         "scaleratio": 1,
         "title": {
          "text": "True Positive Rate"
         }
        }
       }
      }
     },
     "metadata": {},
     "output_type": "display_data"
    }
   ],
   "source": [
    "fpr, tpr, thresholds = roc_curve(y_test, y_pred_proba)\n",
    "\n",
    "fig = px.area(\n",
    "    x=fpr, y=tpr,\n",
    "    title=f'ROC Curve (AUC={auc(fpr, tpr):.4f})',\n",
    "    labels=dict(x='False Positive Rate', y='True Positive Rate'),\n",
    "    width=700, height=500, template='plotly_dark'\n",
    ")\n",
    "fig.add_shape(\n",
    "    type='line', line=dict(dash='dash'),\n",
    "    x0=0, x1=1, y0=0, y1=1\n",
    ")\n",
    "\n",
    "fig.update_yaxes(scaleanchor=\"x\", scaleratio=1)\n",
    "fig.update_xaxes(constrain='domain')\n",
    "fig.show()"
   ]
  },
  {
   "cell_type": "code",
   "execution_count": 22,
   "id": "4881e6e8",
   "metadata": {
    "execution": {
     "iopub.execute_input": "2023-04-04T22:22:22.793258Z",
     "iopub.status.busy": "2023-04-04T22:22:22.792091Z",
     "iopub.status.idle": "2023-04-04T22:22:22.801572Z",
     "shell.execute_reply": "2023-04-04T22:22:22.800029Z"
    },
    "papermill": {
     "duration": 0.023715,
     "end_time": "2023-04-04T22:22:22.804477",
     "exception": false,
     "start_time": "2023-04-04T22:22:22.780762",
     "status": "completed"
    },
    "tags": []
   },
   "outputs": [
    {
     "name": "stdout",
     "output_type": "stream",
     "text": [
      "AUC score: 1.0\n"
     ]
    }
   ],
   "source": [
    "print(f'AUC score: {roc_auc_score(y_pred, y_pred_proba)}')"
   ]
  },
  {
   "cell_type": "code",
   "execution_count": 23,
   "id": "5eae45b8",
   "metadata": {
    "execution": {
     "iopub.execute_input": "2023-04-04T22:22:22.827403Z",
     "iopub.status.busy": "2023-04-04T22:22:22.826728Z",
     "iopub.status.idle": "2023-04-04T22:22:23.116305Z",
     "shell.execute_reply": "2023-04-04T22:22:23.114859Z"
    },
    "papermill": {
     "duration": 0.304619,
     "end_time": "2023-04-04T22:22:23.119317",
     "exception": false,
     "start_time": "2023-04-04T22:22:22.814698",
     "status": "completed"
    },
    "tags": []
   },
   "outputs": [
    {
     "data": {
      "image/png": "[encoded data removed]",
      "text/plain": [
       "<Figure size 640x480 with 2 Axes>"
      ]
     },
     "metadata": {},
     "output_type": "display_data"
    }
   ],
   "source": [
    "cm = confusion_matrix(y_test, y_pred)\n",
    "\n",
    "sns.heatmap(cm, annot=True, cmap='rocket_r')\n",
    "plt.show()"
   ]
  },
  {
   "attachments": {},
   "cell_type": "markdown",
   "id": "5e0e27cb",
   "metadata": {
    "papermill": {
     "duration": 0.015572,
     "end_time": "2023-04-04T22:22:23.147155",
     "exception": false,
     "start_time": "2023-04-04T22:22:23.131583",
     "status": "completed"
    },
    "tags": []
   },
   "source": [
    "<hr style=\"border:none; height:0.9px;\" />\n",
    "\n",
    "# Clustering positive and negative cases"
   ]
  },
  {
   "attachments": {},
   "cell_type": "markdown",
   "id": "23f16e5e",
   "metadata": {
    "papermill": {
     "duration": 0.010689,
     "end_time": "2023-04-04T22:22:23.169502",
     "exception": false,
     "start_time": "2023-04-04T22:22:23.158813",
     "status": "completed"
    },
    "tags": []
   },
   "source": [
    "By using the elbow method below, I found the optimal number of clusters with the inertia lowering gradually to be 3. In this case however, I'll use two clusters for binary classification as I'm only interested in clustering positive and negative cases."
   ]
  },
  {
   "cell_type": "code",
   "execution_count": 34,
   "id": "9abf4af9",
   "metadata": {
    "execution": {
     "iopub.execute_input": "2023-04-04T22:22:23.198673Z",
     "iopub.status.busy": "2023-04-04T22:22:23.197782Z",
     "iopub.status.idle": "2023-04-04T22:22:23.669938Z",
     "shell.execute_reply": "2023-04-04T22:22:23.668464Z"
    },
    "papermill": {
     "duration": 0.487513,
     "end_time": "2023-04-04T22:22:23.672800",
     "exception": false,
     "start_time": "2023-04-04T22:22:23.185287",
     "status": "completed"
    },
    "tags": []
   },
   "outputs": [
    {
     "data": {
      "application/vnd.plotly.v1+json": {
       "config": {
        "plotlyServerURL": "https://plot.ly"
       },
       "data": [
        {
         "hovertemplate": "x=%{x}<br>y=%{y}<extra></extra>",
         "legendgroup": "",
         "line": {
          "color": "#636efa",
          "dash": "solid"
         },
         "marker": {
          "symbol": "circle"
         },
         "mode": "lines+markers",
         "name": "",
         "orientation": "v",
         "showlegend": false,
         "type": "scatter",
         "x": [
          1,
          2,
          3,
          4,
          5
         ],
         "xaxis": "x",
         "y": [
          3195.0925024207013,
          2340.6805348752905,
          1875.4705215842955,
          1716.1706183132892,
          1591.5451269984378
         ],
         "yaxis": "y"
        }
       ],
       "layout": {
        "legend": {
         "tracegroupgap": 0
        },
        "template": {
         "data": {
          "bar": [
           {
            "error_x": {
             "color": "#f2f5fa"
            },
            "error_y": {
             "color": "#f2f5fa"
            },
            "marker": {
             "line": {
              "color": "rgb(17,17,17)",
              "width": 0.5
             },
             "pattern": {
              "fillmode": "overlay",
              "size": 10,
              "solidity": 0.2
             }
            },
            "type": "bar"
           }
          ],
          "barpolar": [
           {
            "marker": {
             "line": {
              "color": "rgb(17,17,17)",
              "width": 0.5
             },
             "pattern": {
              "fillmode": "overlay",
              "size": 10,
              "solidity": 0.2
             }
            },
            "type": "barpolar"
           }
          ],
          "carpet": [
           {
            "aaxis": {
             "endlinecolor": "#A2B1C6",
             "gridcolor": "#506784",
             "linecolor": "#506784",
             "minorgridcolor": "#506784",
             "startlinecolor": "#A2B1C6"
            },
            "baxis": {
             "endlinecolor": "#A2B1C6",
             "gridcolor": "#506784",
             "linecolor": "#506784",
             "minorgridcolor": "#506784",
             "startlinecolor": "#A2B1C6"
            },
            "type": "carpet"
           }
          ],
          "choropleth": [
           {
            "colorbar": {
             "outlinewidth": 0,
             "ticks": ""
            },
            "type": "choropleth"
           }
          ],
          "contour": [
           {
            "colorbar": {
             "outlinewidth": 0,
             "ticks": ""
            },
            "colorscale": [
             [
              0,
              "#0d0887"
             ],
             [
              0.1111111111111111,
              "#46039f"
             ],
             [
              0.2222222222222222,
              "#7201a8"
             ],
             [
              0.3333333333333333,
              "#9c179e"
             ],
             [
              0.4444444444444444,
              "#bd3786"
             ],
             [
              0.5555555555555556,
              "#d8576b"
             ],
             [
              0.6666666666666666,
              "#ed7953"
             ],
             [
              0.7777777777777778,
              "#fb9f3a"
             ],
             [
              0.8888888888888888,
              "#fdca26"
             ],
             [
              1,
              "#f0f921"
             ]
            ],
            "type": "contour"
           }
          ],
          "contourcarpet": [
           {
            "colorbar": {
             "outlinewidth": 0,
             "ticks": ""
            },
            "type": "contourcarpet"
           }
          ],
          "heatmap": [
           {
            "colorbar": {
             "outlinewidth": 0,
             "ticks": ""
            },
            "colorscale": [
             [
              0,
              "#0d0887"
             ],
             [
              0.1111111111111111,
              "#46039f"
             ],
             [
              0.2222222222222222,
              "#7201a8"
             ],
             [
              0.3333333333333333,
              "#9c179e"
             ],
             [
              0.4444444444444444,
              "#bd3786"
             ],
             [
              0.5555555555555556,
              "#d8576b"
             ],
             [
              0.6666666666666666,
              "#ed7953"
             ],
             [
              0.7777777777777778,
              "#fb9f3a"
             ],
             [
              0.8888888888888888,
              "#fdca26"
             ],
             [
              1,
              "#f0f921"
             ]
            ],
            "type": "heatmap"
           }
          ],
          "heatmapgl": [
           {
            "colorbar": {
             "outlinewidth": 0,
             "ticks": ""
            },
            "colorscale": [
             [
              0,
              "#0d0887"
             ],
             [
              0.1111111111111111,
              "#46039f"
             ],
             [
              0.2222222222222222,
              "#7201a8"
             ],
             [
              0.3333333333333333,
              "#9c179e"
             ],
             [
              0.4444444444444444,
              "#bd3786"
             ],
             [
              0.5555555555555556,
              "#d8576b"
             ],
             [
              0.6666666666666666,
              "#ed7953"
             ],
             [
              0.7777777777777778,
              "#fb9f3a"
             ],
             [
              0.8888888888888888,
              "#fdca26"
             ],
             [
              1,
              "#f0f921"
             ]
            ],
            "type": "heatmapgl"
           }
          ],
          "histogram": [
           {
            "marker": {
             "pattern": {
              "fillmode": "overlay",
              "size": 10,
              "solidity": 0.2
             }
            },
            "type": "histogram"
           }
          ],
          "histogram2d": [
           {
            "colorbar": {
             "outlinewidth": 0,
             "ticks": ""
            },
            "colorscale": [
             [
              0,
              "#0d0887"
             ],
             [
              0.1111111111111111,
              "#46039f"
             ],
             [
              0.2222222222222222,
              "#7201a8"
             ],
             [
              0.3333333333333333,
              "#9c179e"
             ],
             [
              0.4444444444444444,
              "#bd3786"
             ],
             [
              0.5555555555555556,
              "#d8576b"
             ],
             [
              0.6666666666666666,
              "#ed7953"
             ],
             [
              0.7777777777777778,
              "#fb9f3a"
             ],
             [
              0.8888888888888888,
              "#fdca26"
             ],
             [
              1,
              "#f0f921"
             ]
            ],
            "type": "histogram2d"
           }
          ],
          "histogram2dcontour": [
           {
            "colorbar": {
             "outlinewidth": 0,
             "ticks": ""
            },
            "colorscale": [
             [
              0,
              "#0d0887"
             ],
             [
              0.1111111111111111,
              "#46039f"
             ],
             [
              0.2222222222222222,
              "#7201a8"
             ],
             [
              0.3333333333333333,
              "#9c179e"
             ],
             [
              0.4444444444444444,
              "#bd3786"
             ],
             [
              0.5555555555555556,
              "#d8576b"
             ],
             [
              0.6666666666666666,
              "#ed7953"
             ],
             [
              0.7777777777777778,
              "#fb9f3a"
             ],
             [
              0.8888888888888888,
              "#fdca26"
             ],
             [
              1,
              "#f0f921"
             ]
            ],
            "type": "histogram2dcontour"
           }
          ],
          "mesh3d": [
           {
            "colorbar": {
             "outlinewidth": 0,
             "ticks": ""
            },
            "type": "mesh3d"
           }
          ],
          "parcoords": [
           {
            "line": {
             "colorbar": {
              "outlinewidth": 0,
              "ticks": ""
             }
            },
            "type": "parcoords"
           }
          ],
          "pie": [
           {
            "automargin": true,
            "type": "pie"
           }
          ],
          "scatter": [
           {
            "marker": {
             "line": {
              "color": "#283442"
             }
            },
            "type": "scatter"
           }
          ],
          "scatter3d": [
           {
            "line": {
             "colorbar": {
              "outlinewidth": 0,
              "ticks": ""
             }
            },
            "marker": {
             "colorbar": {
              "outlinewidth": 0,
              "ticks": ""
             }
            },
            "type": "scatter3d"
           }
          ],
          "scattercarpet": [
           {
            "marker": {
             "colorbar": {
              "outlinewidth": 0,
              "ticks": ""
             }
            },
            "type": "scattercarpet"
           }
          ],
          "scattergeo": [
           {
            "marker": {
             "colorbar": {
              "outlinewidth": 0,
              "ticks": ""
             }
            },
            "type": "scattergeo"
           }
          ],
          "scattergl": [
           {
            "marker": {
             "line": {
              "color": "#283442"
             }
            },
            "type": "scattergl"
           }
          ],
          "scattermapbox": [
           {
            "marker": {
             "colorbar": {
              "outlinewidth": 0,
              "ticks": ""
             }
            },
            "type": "scattermapbox"
           }
          ],
          "scatterpolar": [
           {
            "marker": {
             "colorbar": {
              "outlinewidth": 0,
              "ticks": ""
             }
            },
            "type": "scatterpolar"
           }
          ],
          "scatterpolargl": [
           {
            "marker": {
             "colorbar": {
              "outlinewidth": 0,
              "ticks": ""
             }
            },
            "type": "scatterpolargl"
           }
          ],
          "scatterternary": [
           {
            "marker": {
             "colorbar": {
              "outlinewidth": 0,
              "ticks": ""
             }
            },
            "type": "scatterternary"
           }
          ],
          "surface": [
           {
            "colorbar": {
             "outlinewidth": 0,
             "ticks": ""
            },
            "colorscale": [
             [
              0,
              "#0d0887"
             ],
             [
              0.1111111111111111,
              "#46039f"
             ],
             [
              0.2222222222222222,
              "#7201a8"
             ],
             [
              0.3333333333333333,
              "#9c179e"
             ],
             [
              0.4444444444444444,
              "#bd3786"
             ],
             [
              0.5555555555555556,
              "#d8576b"
             ],
             [
              0.6666666666666666,
              "#ed7953"
             ],
             [
              0.7777777777777778,
              "#fb9f3a"
             ],
             [
              0.8888888888888888,
              "#fdca26"
             ],
             [
              1,
              "#f0f921"
             ]
            ],
            "type": "surface"
           }
          ],
          "table": [
           {
            "cells": {
             "fill": {
              "color": "#506784"
             },
             "line": {
              "color": "rgb(17,17,17)"
             }
            },
            "header": {
             "fill": {
              "color": "#2a3f5f"
             },
             "line": {
              "color": "rgb(17,17,17)"
             }
            },
            "type": "table"
           }
          ]
         },
         "layout": {
          "annotationdefaults": {
           "arrowcolor": "#f2f5fa",
           "arrowhead": 0,
           "arrowwidth": 1
          },
          "autotypenumbers": "strict",
          "coloraxis": {
           "colorbar": {
            "outlinewidth": 0,
            "ticks": ""
           }
          },
          "colorscale": {
           "diverging": [
            [
             0,
             "#8e0152"
            ],
            [
             0.1,
             "#c51b7d"
            ],
            [
             0.2,
             "#de77ae"
            ],
            [
             0.3,
             "#f1b6da"
            ],
            [
             0.4,
             "#fde0ef"
            ],
            [
             0.5,
             "#f7f7f7"
            ],
            [
             0.6,
             "#e6f5d0"
            ],
            [
             0.7,
             "#b8e186"
            ],
            [
             0.8,
             "#7fbc41"
            ],
            [
             0.9,
             "#4d9221"
            ],
            [
             1,
             "#276419"
            ]
           ],
           "sequential": [
            [
             0,
             "#0d0887"
            ],
            [
             0.1111111111111111,
             "#46039f"
            ],
            [
             0.2222222222222222,
             "#7201a8"
            ],
            [
             0.3333333333333333,
             "#9c179e"
            ],
            [
             0.4444444444444444,
             "#bd3786"
            ],
            [
             0.5555555555555556,
             "#d8576b"
            ],
            [
             0.6666666666666666,
             "#ed7953"
            ],
            [
             0.7777777777777778,
             "#fb9f3a"
            ],
            [
             0.8888888888888888,
             "#fdca26"
            ],
            [
             1,
             "#f0f921"
            ]
           ],
           "sequentialminus": [
            [
             0,
             "#0d0887"
            ],
            [
             0.1111111111111111,
             "#46039f"
            ],
            [
             0.2222222222222222,
             "#7201a8"
            ],
            [
             0.3333333333333333,
             "#9c179e"
            ],
            [
             0.4444444444444444,
             "#bd3786"
            ],
            [
             0.5555555555555556,
             "#d8576b"
            ],
            [
             0.6666666666666666,
             "#ed7953"
            ],
            [
             0.7777777777777778,
             "#fb9f3a"
            ],
            [
             0.8888888888888888,
             "#fdca26"
            ],
            [
             1,
             "#f0f921"
            ]
           ]
          },
          "colorway": [
           "#636efa",
           "#EF553B",
           "#00cc96",
           "#ab63fa",
           "#FFA15A",
           "#19d3f3",
           "#FF6692",
           "#B6E880",
           "#FF97FF",
           "#FECB52"
          ],
          "font": {
           "color": "#f2f5fa"
          },
          "geo": {
           "bgcolor": "rgb(17,17,17)",
           "lakecolor": "rgb(17,17,17)",
           "landcolor": "rgb(17,17,17)",
           "showlakes": true,
           "showland": true,
           "subunitcolor": "#506784"
          },
          "hoverlabel": {
           "align": "left"
          },
          "hovermode": "closest",
          "mapbox": {
           "style": "dark"
          },
          "paper_bgcolor": "rgb(17,17,17)",
          "plot_bgcolor": "rgb(17,17,17)",
          "polar": {
           "angularaxis": {
            "gridcolor": "#506784",
            "linecolor": "#506784",
            "ticks": ""
           },
           "bgcolor": "rgb(17,17,17)",
           "radialaxis": {
            "gridcolor": "#506784",
            "linecolor": "#506784",
            "ticks": ""
           }
          },
          "scene": {
           "xaxis": {
            "backgroundcolor": "rgb(17,17,17)",
            "gridcolor": "#506784",
            "gridwidth": 2,
            "linecolor": "#506784",
            "showbackground": true,
            "ticks": "",
            "zerolinecolor": "#C8D4E3"
           },
           "yaxis": {
            "backgroundcolor": "rgb(17,17,17)",
            "gridcolor": "#506784",
            "gridwidth": 2,
            "linecolor": "#506784",
            "showbackground": true,
            "ticks": "",
            "zerolinecolor": "#C8D4E3"
           },
           "zaxis": {
            "backgroundcolor": "rgb(17,17,17)",
            "gridcolor": "#506784",
            "gridwidth": 2,
            "linecolor": "#506784",
            "showbackground": true,
            "ticks": "",
            "zerolinecolor": "#C8D4E3"
           }
          },
          "shapedefaults": {
           "line": {
            "color": "#f2f5fa"
           }
          },
          "sliderdefaults": {
           "bgcolor": "#C8D4E3",
           "bordercolor": "rgb(17,17,17)",
           "borderwidth": 1,
           "tickwidth": 0
          },
          "ternary": {
           "aaxis": {
            "gridcolor": "#506784",
            "linecolor": "#506784",
            "ticks": ""
           },
           "baxis": {
            "gridcolor": "#506784",
            "linecolor": "#506784",
            "ticks": ""
           },
           "bgcolor": "rgb(17,17,17)",
           "caxis": {
            "gridcolor": "#506784",
            "linecolor": "#506784",
            "ticks": ""
           }
          },
          "title": {
           "x": 0.05
          },
          "updatemenudefaults": {
           "bgcolor": "#506784",
           "borderwidth": 0
          },
          "xaxis": {
           "automargin": true,
           "gridcolor": "#283442",
           "linecolor": "#506784",
           "ticks": "",
           "title": {
            "standoff": 15
           },
           "zerolinecolor": "#283442",
           "zerolinewidth": 2
          },
          "yaxis": {
           "automargin": true,
           "gridcolor": "#283442",
           "linecolor": "#506784",
           "ticks": "",
           "title": {
            "standoff": 15
           },
           "zerolinecolor": "#283442",
           "zerolinewidth": 2
          }
         }
        },
        "title": {
         "text": "Number of clusters vs Inertia"
        },
        "xaxis": {
         "anchor": "y",
         "domain": [
          0,
          1
         ],
         "title": {
          "text": "Number of clusters"
         }
        },
        "yaxis": {
         "anchor": "x",
         "domain": [
          0,
          1
         ],
         "title": {
          "text": "Inertia"
         }
        }
       }
      }
     },
     "metadata": {},
     "output_type": "display_data"
    }
   ],
   "source": [
    "ks = range(1, 6)\n",
    "inertias = []\n",
    "\n",
    "for k in ks:\n",
    "    model = KMeans(n_clusters=k)\n",
    "    \n",
    "    model.fit(pca_df)\n",
    "    \n",
    "    # Append the inertia to the list of inertias\n",
    "    inertias.append(model.inertia_)\n",
    "\n",
    "fig = px.line(x=ks, y=inertias, markers=True, title='Optimal number of clusters', template='plotly_dark')\n",
    "fig.update_layout(title='Number of clusters vs Inertia')\n",
    "fig.update_xaxes(title_text=\"Number of clusters\")\n",
    "fig.update_yaxes(title_text=\"Inertia\")\n",
    "fig.show()"
   ]
  },
  {
   "attachments": {},
   "cell_type": "markdown",
   "id": "8a5416a7",
   "metadata": {},
   "source": [
    "#### K Means"
   ]
  },
  {
   "cell_type": "code",
   "execution_count": 25,
   "id": "8a792ac8",
   "metadata": {
    "_kg_hide-input": true,
    "execution": {
     "iopub.execute_input": "2023-04-04T22:22:23.697149Z",
     "iopub.status.busy": "2023-04-04T22:22:23.695852Z",
     "iopub.status.idle": "2023-04-04T22:22:23.901798Z",
     "shell.execute_reply": "2023-04-04T22:22:23.900409Z"
    },
    "papermill": {
     "duration": 0.220801,
     "end_time": "2023-04-04T22:22:23.904367",
     "exception": false,
     "start_time": "2023-04-04T22:22:23.683566",
     "status": "completed"
    },
    "tags": []
   },
   "outputs": [
    {
     "data": {
      "application/vnd.plotly.v1+json": {
       "config": {
        "plotlyServerURL": "https://plot.ly"
       },
       "data": [
        {
         "hovertemplate": "x=%{x}<br>y=%{y}<br>color=%{marker.color}<extra></extra>",
         "legendgroup": "",
         "marker": {
          "color": [
           1,
           0,
           0,
           1,
           0,
           1,
           0,
           0,
           1,
           0,
           0,
           0,
           1,
           0,
           1,
           1,
           0,
           1,
           1,
           0,
           1,
           0,
           1,
           1,
           0,
           1,
           1,
           1,
           0,
           0,
           0,
           0,
           1,
           0,
           0,
           1,
           0,
           1,
           1,
           1,
           1,
           1,
           1,
           1,
           0,
           1,
           1,
           1,
           0,
           0,
           0,
           1,
           1,
           1,
           1,
           1,
           0,
           1,
           1,
           1,
           0,
           1,
           0,
           0,
           0,
           0,
           1,
           1,
           1,
           1,
           0,
           1,
           1,
           1,
           1,
           0,
           0,
           0,
           1,
           1,
           1,
           1,
           1,
           0,
           1,
           0,
           1,
           1,
           1,
           1,
           0,
           1,
           0,
           1,
           0,
           1,
           0,
           0,
           0,
           0,
           0,
           1,
           0,
           1,
           0,
           1,
           1,
           1,
           1,
           0,
           1,
           1,
           0,
           0,
           0,
           1,
           1,
           0,
           1,
           1,
           1,
           1,
           1,
           1,
           0,
           1,
           1,
           1,
           0,
           1,
           1,
           0,
           1,
           1,
           1,
           1,
           0,
           1,
           1,
           0,
           0,
           0,
           0,
           1,
           1,
           1,
           1,
           0,
           0,
           1,
           1,
           1,
           0,
           1,
           1,
           1,
           0,
           1,
           1,
           1,
           0,
           1,
           0,
           0,
           1,
           1,
           1,
           1,
           1,
           1,
           0,
           1,
           1,
           1,
           0,
           1,
           1,
           1,
           1,
           0,
           0,
           1,
           1,
           0,
           1,
           1,
           0,
           1,
           1,
           1,
           1,
           0,
           1,
           1,
           1,
           1,
           1,
           1,
           1,
           1,
           0,
           0,
           0,
           1,
           1,
           1,
           1,
           0,
           1,
           0,
           1,
           1,
           1,
           0,
           0,
           0,
           0,
           0,
           1,
           1,
           0,
           1,
           0,
           1,
           1,
           0,
           0,
           1,
           0,
           1,
           0,
           1,
           1,
           1,
           1,
           1,
           1,
           1,
           1,
           0,
           0,
           0,
           1,
           0,
           1,
           0,
           1,
           1,
           0,
           1,
           1,
           1,
           0,
           1,
           0,
           1,
           1,
           0,
           1,
           0,
           1,
           1,
           0,
           1,
           1,
           1,
           1,
           0,
           0,
           1,
           1,
           1,
           1,
           1,
           1,
           1,
           1,
           1,
           0,
           1,
           1,
           0,
           1,
           1,
           1,
           0,
           1,
           0,
           1,
           1,
           1,
           1,
           1,
           0,
           1,
           1,
           1,
           0
          ],
          "coloraxis": "coloraxis",
          "symbol": "circle"
         },
         "mode": "markers",
         "name": "",
         "orientation": "v",
         "showlegend": false,
         "type": "scatter",
         "x": [
          -0.3064454655794499,
          2.65655233506875,
          3.447667296489485,
          -0.7840072255605354,
          2.9856474476231813,
          0.013056082189751277,
          2.7367628044263843,
          1.566707927321065,
          -0.20194233940582607,
          3.908842121105084,
          0.4017675556643875,
          2.321585600085516,
          -3.819200836059154,
          4.6150521429504066,
          0.0021211625153320915,
          0.16420070291632652,
          3.435103647079999,
          -1.0504756189332287,
          -1.661408973852078,
          0.937181351560958,
          -0.9376507450601436,
          0.6212672651098786,
          -2.0807135780951826,
          -2.1151837517246794,
          1.4085313879124643,
          -2.27288007132385,
          -0.6152481431319917,
          0.2621264294043348,
          3.829675974389051,
          1.7499090227491498,
          1.8019565096989996,
          3.8778864068726704,
          -2.7695630581542185,
          1.2707211928707742,
          0.9348524266505713,
          -2.07611365939044,
          2.444531176487003,
          0.08563006203504414,
          -0.1760641321516604,
          -0.1652862595895456,
          -1.6226198661036504,
          -1.19268449862266,
          -2.4195050003688015,
          -1.233656234019718,
          1.6540074907464644,
          -0.1862798310924207,
          0.07430518037311595,
          -0.8550692968738988,
          1.2169870720552682,
          1.4671078457947537,
          5.4812106013128234,
          0.010700248232463527,
          -1.9858861650354016,
          0.31983991010191537,
          -1.1637288543034794,
          -3.9642154851188893,
          1.3115470734539125,
          -0.3776423324856057,
          -0.40530382195685805,
          -0.026964285576232504,
          1.1407993801811933,
          -2.6539782361639808,
          5.452507556083686,
          3.9069478179147317,
          1.7894782814274914,
          1.6087630341750068,
          -0.4946640061345776,
          -0.00167161961728311,
          -1.9612088321675158,
          -1.6411118507989368,
          3.2117686281105002,
          -1.2288322584284903,
          -0.6505275520214105,
          -0.5675431501288433,
          -2.2496326587771835,
          0.6251743667089608,
          2.8349698972717396,
          3.0545261740948684,
          -2.9172128941349897,
          -1.3471496565831282,
          -0.46077687513578913,
          -0.4672810680040448,
          -0.71089168028256,
          3.874313433942045,
          -1.2540280518235611,
          1.1100619651149852,
          -1.677436663460893,
          -1.5155847362419061,
          -2.2024902047376442,
          -3.7163513290765584,
          0.8230148637957507,
          -0.018176316559984078,
          2.590058905193293,
          -2.2146055593307756,
          0.5316217936426273,
          -3.0539413048366506,
          0.9611104627627874,
          1.8024938818558398,
          1.2928341899777083,
          0.9657212959446482,
          2.4153728018560776,
          -1.8860639584412096,
          3.213743571579885,
          -0.07311714583959003,
          3.36963778922656,
          -1.4837306837415196,
          0.22345328566580985,
          -0.6277631229883738,
          -1.4094080265417166,
          2.771221560103078,
          0.33790171273622766,
          -2.8575160424531805,
          3.4478045632890875,
          0.5188622665370142,
          1.082987107617715,
          -3.984401620367359,
          -2.159027678667974,
          1.0962709260845813,
          -1.147118587831994,
          -2.6111576477870693,
          -0.7293856790183463,
          -2.646223484903352,
          -1.2320641301654116,
          -0.5570798045070312,
          2.5481507370128242,
          -1.397066036594127,
          -0.02412904240214712,
          -2.8623283017742187,
          0.855093103367066,
          -0.7253856499694494,
          -0.4565498945133148,
          2.434050232785375,
          -0.31649096903947316,
          -0.8851835348538637,
          -1.937669183757152,
          -1.0124919466698334,
          3.2438005953685765,
          -0.7935058762734385,
          -4.205697753975661,
          1.9289199292512271,
          5.583782473294886,
          4.320239881515607,
          2.076924912807881,
          0.044571324486563924,
          0.7058773385083729,
          -2.350876723051673,
          -1.8167619567921072,
          2.603922471240832,
          2.071069255639514,
          -3.762402778945603,
          -1.7021808190909,
          0.6318420603858533,
          3.840072877368025,
          -1.820357513228509,
          -3.3064115526057316,
          -2.370082598916458,
          1.4674126773142087,
          -0.023220858367385633,
          -1.5754526397507025,
          -1.2656142152988608,
          2.13476920192974,
          -2.0211208764173807,
          2.6142237788744516,
          2.7249900287480737,
          -1.485157232530123,
          -1.6278664438299475,
          -0.49476396978375226,
          -1.729708318733734,
          -2.2795220869595703,
          -1.6223416829144317,
          2.976333197617031,
          -1.893088937116151,
          -2.001416513631658,
          -0.37564094609045845,
          1.0187076373866015,
          -0.7649939352453637,
          0.3665002333515477,
          -3.0752764531468393,
          -1.8275713309906305,
          1.6697221807837264,
          1.1840351434234786,
          0.5114907842560747,
          -2.243678944101933,
          0.6229167819195807,
          -2.3838371102559055,
          -2.308116887427069,
          2.8880494261579734,
          0.5147362952318503,
          -0.841046195852209,
          -2.6767503888725597,
          -1.9877656866609983,
          1.1181911558839155,
          -1.2473416232811654,
          -3.2395034929779505,
          -1.7452032815972305,
          -2.7037392038004153,
          -1.7923305877498652,
          -0.19451400266440844,
          -0.11369786584881712,
          -1.8835580693207958,
          3.706859632665039,
          1.0740731216061283,
          1.8199780711752844,
          -1.7460261580698342,
          -3.441710933416313,
          -1.8910512796754018,
          -1.9062639075235657,
          3.8178404202584377,
          0.2059440494975578,
          1.3431401756560886,
          -0.7195411335139952,
          -0.36289779208574513,
          -1.480038791870636,
          1.1053854117428237,
          1.8449438791888033,
          1.9390906893465145,
          3.433393550228936,
          0.2599513489265162,
          -0.18063399287905318,
          -1.3422884363624525,
          2.706152771369071,
          0.3537001745358453,
          0.8838596082496801,
          -0.4087051736818396,
          -1.0557595872768413,
          1.8941806448591065,
          0.3560784947547514,
          -0.5067842856893238,
          2.6960644884406464,
          -1.2276547565030378,
          1.207247142010941,
          -1.4680308737151526,
          -0.14459826586574384,
          -1.2523328533126157,
          -0.7591801489993302,
          -1.554363251426174,
          0.41802976938395814,
          0.38223792863679673,
          -1.1308208409200868,
          2.124924097567705,
          2.7088171174780267,
          0.6628400726378846,
          -0.7502815345511822,
          1.120148033597455,
          -0.8134577342675484,
          2.2219580989298993,
          -0.31733716882270835,
          -0.6503171387208859,
          0.8451988415957092,
          -1.5409304349059665,
          -1.2226496541330456,
          -2.788690240989742,
          2.689663367779147,
          -2.8504485231840686,
          3.5544746138909225,
          -2.9150642514512977,
          -2.305650500547353,
          3.6405931206740436,
          -1.598992471227706,
          2.105331656253614,
          -0.055201494405996816,
          -0.9092978297354128,
          3.315870097778219,
          -0.6201306548866035,
          -0.7132064638666584,
          -2.0277838168103544,
          -1.3733852006713796,
          3.1875370794352698,
          2.0484160039161425,
          -1.680106532704133,
          -0.36180834057275074,
          -2.6252021988581165,
          -0.8482461038964193,
          0.5046041095653733,
          -2.425694906875183,
          -2.197672840188616,
          -2.641445231898005,
          -1.7401860254868942,
          1.9372995822150025,
          -1.6055343316768422,
          -0.29970773949526136,
          2.2631520781327534,
          -2.0273979018517374,
          0.38656230430858557,
          -0.3443329416372523,
          3.1860103650147074,
          -0.15056608802881424,
          2.5263901759219514,
          -0.3749822624642994,
          -0.7501422143147868,
          0.3622968260673293,
          -0.9404177112784816,
          -1.2982154042985816,
          1.5686726443805252,
          -2.9943605922807723,
          -0.31281274047067004,
          -0.32317745642848067,
          1.8400523598883178
         ],
         "xaxis": "x",
         "y": [
          -1.04843696327686,
          -0.13969555270390774,
          0.7422969863352489,
          -0.9807669691136705,
          0.7479805528575647,
          3.065920321243504,
          3.3400579340279815,
          -0.875095212805483,
          -0.9502023025966799,
          0.20775448722741163,
          3.3321867504094187,
          0.5380504911880081,
          1.6495835720898226,
          0.7845183686855568,
          -1.0218034940454594,
          -1.00000295120913,
          0.12372568568544491,
          -1.309592766769795,
          -1.7618557008840416,
          -0.36842982712390504,
          2.643487476454308,
          3.4677506856659925,
          -0.8880673598945921,
          -1.35746807358779,
          -0.7069432466224659,
          -0.07467542957567211,
          -0.8345887365640654,
          -0.012239644283210064,
          -1.2017359292658814,
          0.5435569949968597,
          1.9982267150042428,
          -0.27480794164967076,
          0.8635424751703009,
          -0.36656958322791816,
          -0.6321069684591407,
          -0.8145119975507651,
          -0.19482556882452878,
          -1.3305323247947873,
          -2.1059334838412656,
          -1.3281365309224122,
          -0.6123311706271735,
          -0.43764618881633216,
          -1.021239414133579,
          0.7622008040276619,
          -1.6887357616382412,
          -1.4556875596801906,
          2.144060812961021,
          -2.300010998000573,
          0.04101961050294474,
          -0.13203726851388445,
          1.4815938951212866,
          -1.1038242368674058,
          -0.3596647475996504,
          -1.1789072694854263,
          -1.490346263251413,
          -0.49540790329624296,
          3.1445289188088563,
          -1.5106839792668547,
          -2.2728746344299444,
          0.20662912499653358,
          1.080849128594222,
          -1.4333175036066859,
          0.527151551598768,
          -0.6743324212317949,
          0.026295601782502006,
          -1.0528074585128573,
          -0.34428072514269903,
          0.058253312885885436,
          -0.5061264643414922,
          -2.2379026402544366,
          0.4696200639903193,
          0.24605168727377813,
          -0.8578349807977558,
          2.902311106089701,
          -1.347004171618629,
          -1.1887735333215335,
          -0.28030980753675805,
          -0.11995549031247485,
          1.4419666031036382,
          -1.3376839798510276,
          -1.6939263130933775,
          0.5062787178925263,
          -1.7567117489249238,
          0.5021540107854463,
          2.046195292342384,
          0.022265130439582826,
          -1.2562792229032933,
          -1.5451594672862894,
          1.7993404550486587,
          1.3282114478448586,
          3.2653255211448164,
          -0.870909491151843,
          -0.3344585094342885,
          -1.3260006410009681,
          3.5359189314810395,
          2.1720162371239735,
          0.12092473286697238,
          2.9676803237895077,
          -1.0160016092668747,
          0.44075818717514037,
          0.6289594796962882,
          -1.5285923317173642,
          -0.1261941045217842,
          -2.257062877272459,
          -0.05057883451357138,
          -1.8394165651165673,
          -1.341719698105503,
          -0.21012387930801238,
          -0.17460281178973472,
          -0.9097818840917677,
          -2.742103378935585,
          2.2814991757732046,
          0.5092484416593906,
          -0.31015907211012683,
          0.4716145247551529,
          1.6485097974227094,
          2.610655986933799,
          4.061789689348041,
          -1.732424334212777,
          2.5467572622817083,
          -2.28137561300635,
          -1.8900178531712746,
          -3.945662225798786,
          -1.8140523413777143,
          0.3376467367363361,
          -0.8085021942799543,
          0.7919959704812053,
          -1.2178841876693733,
          -1.5602113181298465,
          3.0632288626015147,
          -1.4077829306969971,
          2.0035793972175533,
          -1.4012167743558448,
          -0.07965233580980699,
          2.9427480433731277,
          -1.0957097981069746,
          1.1610951907364422,
          -1.3092549361128927,
          2.2773487539872685,
          3.6710189815507013,
          -2.1022366016171996,
          0.5613734706575585,
          0.27890143017510005,
          2.526224235670084,
          -1.0248528069853406,
          0.4228837188163468,
          -2.0410477244982084,
          -1.147282883925916,
          -0.8474783544059393,
          1.4570733045038868,
          -0.14952282941827783,
          -1.7385469178192074,
          -0.10970493162853272,
          2.5264130218091783,
          1.4113974797071784,
          1.6687883565958637,
          0.22341128547320288,
          -1.8928351782589186,
          -1.716807029631242,
          -2.044634240351307,
          -0.1841521151643989,
          -0.2637230960062909,
          0.8681534152304505,
          0.39756562003191537,
          -0.1875732138994855,
          -1.3475050975326786,
          -1.355001654544572,
          2.0889513576826078,
          -2.2353049239611615,
          -1.53796000819859,
          -0.40666753278375833,
          -1.7276155262117214,
          -0.08573460019019678,
          -1.26671339316883,
          -0.6144900122531431,
          -0.5462589351234275,
          -1.8132560613277202,
          -0.4543851338207616,
          0.1377677166686639,
          0.7756484514085157,
          0.4503924356121364,
          -1.2665424501829976,
          0.25418128318991157,
          -0.8414672265424356,
          -1.50503309361578,
          -1.6779493349776247,
          0.5661694033615688,
          0.06551632246402442,
          1.517912026002775,
          2.35024122073262,
          -1.6462950331329065,
          -0.8125874145034289,
          0.264002291746358,
          2.414045682258755,
          -0.04334807669175556,
          -1.1653266493695704,
          0.10096546982657997,
          -1.1474588680312465,
          -1.8517730135236088,
          -2.1825463774028995,
          -0.17120072742288103,
          -1.0771448588654031,
          -0.2479539092128862,
          -1.8677920624338145,
          2.088336597632155,
          2.713771755394881,
          -0.15668560655449723,
          0.42096892081628196,
          -0.9782640764628052,
          -0.863037180989088,
          -0.9482294365393248,
          0.34892341387250836,
          0.04244198536959789,
          -0.43273233809277106,
          -0.46821672007484433,
          -0.07729242939984368,
          1.1125076703312515,
          2.5522374880349648,
          0.2502011750126112,
          2.3542678592798088,
          1.4636607366677878,
          -1.335409949663578,
          0.7240168456852086,
          -1.552159048146376,
          -2.054058174547604,
          1.048173988404443,
          3.4839259331650934,
          0.32372329456218035,
          -0.04107295277371785,
          -0.15795719768563746,
          0.6462744515139417,
          -0.8656996247221624,
          2.204342827231566,
          2.4457358299153724,
          2.2996717882857762,
          2.933514378451166,
          -1.3015582248361288,
          -0.18625768184556246,
          -0.8533651755525233,
          0.9739517437058556,
          0.5068378360555225,
          2.977029982233775,
          -1.1603897193639778,
          -1.2110790488782117,
          2.4351855718435464,
          -2.9755362324191648,
          -1.5317551490554988,
          3.0762254160776927,
          0.7504711482742825,
          -1.5530725196633477,
          -1.122026796985178,
          1.9808608352695358,
          0.0032495265859931164,
          1.6416169412347217,
          0.08686833281093037,
          -0.5944960546902779,
          2.2321705609404514,
          -0.870739959422088,
          -0.16273161661523564,
          -0.7117443037087258,
          1.0890187114112162,
          0.2579262444501831,
          -0.00019046383354950262,
          0.20885341722027226,
          -0.6865354993181133,
          2.028220041644073,
          -2.005389117630115,
          -1.3801792110979836,
          -0.7306651750408306,
          -0.1537699033198951,
          -0.9618743442324776,
          -1.5327331300804585,
          1.658735317812463,
          -1.7394650131650644,
          1.9311659128379681,
          -1.2126943565666548,
          2.208392097876888,
          -0.12867490297666806,
          -0.038186857540674066,
          -1.0958497287265576,
          2.775460023069725,
          0.12999007519036074,
          1.8376564055620483,
          -0.9571405620253863,
          -1.2129373954039324,
          1.7457111192107804,
          -0.5768762006143322,
          -0.1537648848610288,
          -0.066500269809492,
          2.8969147565017344,
          -0.5672759670227149,
          2.276887784587119,
          -1.664211051412071,
          -0.5058153888211082,
          2.3922793776600666,
          -1.2177631729062377,
          -1.5930516289890688,
          0.36280963713256975
         ],
         "yaxis": "y"
        },
        {
         "marker": {
          "color": "red",
          "size": 6
         },
         "mode": "markers",
         "type": "scatter",
         "x": [
          2.21422309932618,
          -1.258611024880145
         ],
         "y": [
          0.3350025743568173,
          -0.1904225159501906
         ]
        }
       ],
       "layout": {
        "coloraxis": {
         "colorbar": {
          "title": {
           "text": "color"
          }
         },
         "colorscale": [
          [
           0,
           "#0d0887"
          ],
          [
           0.1111111111111111,
           "#46039f"
          ],
          [
           0.2222222222222222,
           "#7201a8"
          ],
          [
           0.3333333333333333,
           "#9c179e"
          ],
          [
           0.4444444444444444,
           "#bd3786"
          ],
          [
           0.5555555555555556,
           "#d8576b"
          ],
          [
           0.6666666666666666,
           "#ed7953"
          ],
          [
           0.7777777777777778,
           "#fb9f3a"
          ],
          [
           0.8888888888888888,
           "#fdca26"
          ],
          [
           1,
           "#f0f921"
          ]
         ]
        },
        "legend": {
         "tracegroupgap": 0
        },
        "margin": {
         "t": 60
        },
        "template": {
         "data": {
          "bar": [
           {
            "error_x": {
             "color": "#f2f5fa"
            },
            "error_y": {
             "color": "#f2f5fa"
            },
            "marker": {
             "line": {
              "color": "rgb(17,17,17)",
              "width": 0.5
             },
             "pattern": {
              "fillmode": "overlay",
              "size": 10,
              "solidity": 0.2
             }
            },
            "type": "bar"
           }
          ],
          "barpolar": [
           {
            "marker": {
             "line": {
              "color": "rgb(17,17,17)",
              "width": 0.5
             },
             "pattern": {
              "fillmode": "overlay",
              "size": 10,
              "solidity": 0.2
             }
            },
            "type": "barpolar"
           }
          ],
          "carpet": [
           {
            "aaxis": {
             "endlinecolor": "#A2B1C6",
             "gridcolor": "#506784",
             "linecolor": "#506784",
             "minorgridcolor": "#506784",
             "startlinecolor": "#A2B1C6"
            },
            "baxis": {
             "endlinecolor": "#A2B1C6",
             "gridcolor": "#506784",
             "linecolor": "#506784",
             "minorgridcolor": "#506784",
             "startlinecolor": "#A2B1C6"
            },
            "type": "carpet"
           }
          ],
          "choropleth": [
           {
            "colorbar": {
             "outlinewidth": 0,
             "ticks": ""
            },
            "type": "choropleth"
           }
          ],
          "contour": [
           {
            "colorbar": {
             "outlinewidth": 0,
             "ticks": ""
            },
            "colorscale": [
             [
              0,
              "#0d0887"
             ],
             [
              0.1111111111111111,
              "#46039f"
             ],
             [
              0.2222222222222222,
              "#7201a8"
             ],
             [
              0.3333333333333333,
              "#9c179e"
             ],
             [
              0.4444444444444444,
              "#bd3786"
             ],
             [
              0.5555555555555556,
              "#d8576b"
             ],
             [
              0.6666666666666666,
              "#ed7953"
             ],
             [
              0.7777777777777778,
              "#fb9f3a"
             ],
             [
              0.8888888888888888,
              "#fdca26"
             ],
             [
              1,
              "#f0f921"
             ]
            ],
            "type": "contour"
           }
          ],
          "contourcarpet": [
           {
            "colorbar": {
             "outlinewidth": 0,
             "ticks": ""
            },
            "type": "contourcarpet"
           }
          ],
          "heatmap": [
           {
            "colorbar": {
             "outlinewidth": 0,
             "ticks": ""
            },
            "colorscale": [
             [
              0,
              "#0d0887"
             ],
             [
              0.1111111111111111,
              "#46039f"
             ],
             [
              0.2222222222222222,
              "#7201a8"
             ],
             [
              0.3333333333333333,
              "#9c179e"
             ],
             [
              0.4444444444444444,
              "#bd3786"
             ],
             [
              0.5555555555555556,
              "#d8576b"
             ],
             [
              0.6666666666666666,
              "#ed7953"
             ],
             [
              0.7777777777777778,
              "#fb9f3a"
             ],
             [
              0.8888888888888888,
              "#fdca26"
             ],
             [
              1,
              "#f0f921"
             ]
            ],
            "type": "heatmap"
           }
          ],
          "heatmapgl": [
           {
            "colorbar": {
             "outlinewidth": 0,
             "ticks": ""
            },
            "colorscale": [
             [
              0,
              "#0d0887"
             ],
             [
              0.1111111111111111,
              "#46039f"
             ],
             [
              0.2222222222222222,
              "#7201a8"
             ],
             [
              0.3333333333333333,
              "#9c179e"
             ],
             [
              0.4444444444444444,
              "#bd3786"
             ],
             [
              0.5555555555555556,
              "#d8576b"
             ],
             [
              0.6666666666666666,
              "#ed7953"
             ],
             [
              0.7777777777777778,
              "#fb9f3a"
             ],
             [
              0.8888888888888888,
              "#fdca26"
             ],
             [
              1,
              "#f0f921"
             ]
            ],
            "type": "heatmapgl"
           }
          ],
          "histogram": [
           {
            "marker": {
             "pattern": {
              "fillmode": "overlay",
              "size": 10,
              "solidity": 0.2
             }
            },
            "type": "histogram"
           }
          ],
          "histogram2d": [
           {
            "colorbar": {
             "outlinewidth": 0,
             "ticks": ""
            },
            "colorscale": [
             [
              0,
              "#0d0887"
             ],
             [
              0.1111111111111111,
              "#46039f"
             ],
             [
              0.2222222222222222,
              "#7201a8"
             ],
             [
              0.3333333333333333,
              "#9c179e"
             ],
             [
              0.4444444444444444,
              "#bd3786"
             ],
             [
              0.5555555555555556,
              "#d8576b"
             ],
             [
              0.6666666666666666,
              "#ed7953"
             ],
             [
              0.7777777777777778,
              "#fb9f3a"
             ],
             [
              0.8888888888888888,
              "#fdca26"
             ],
             [
              1,
              "#f0f921"
             ]
            ],
            "type": "histogram2d"
           }
          ],
          "histogram2dcontour": [
           {
            "colorbar": {
             "outlinewidth": 0,
             "ticks": ""
            },
            "colorscale": [
             [
              0,
              "#0d0887"
             ],
             [
              0.1111111111111111,
              "#46039f"
             ],
             [
              0.2222222222222222,
              "#7201a8"
             ],
             [
              0.3333333333333333,
              "#9c179e"
             ],
             [
              0.4444444444444444,
              "#bd3786"
             ],
             [
              0.5555555555555556,
              "#d8576b"
             ],
             [
              0.6666666666666666,
              "#ed7953"
             ],
             [
              0.7777777777777778,
              "#fb9f3a"
             ],
             [
              0.8888888888888888,
              "#fdca26"
             ],
             [
              1,
              "#f0f921"
             ]
            ],
            "type": "histogram2dcontour"
           }
          ],
          "mesh3d": [
           {
            "colorbar": {
             "outlinewidth": 0,
             "ticks": ""
            },
            "type": "mesh3d"
           }
          ],
          "parcoords": [
           {
            "line": {
             "colorbar": {
              "outlinewidth": 0,
              "ticks": ""
             }
            },
            "type": "parcoords"
           }
          ],
          "pie": [
           {
            "automargin": true,
            "type": "pie"
           }
          ],
          "scatter": [
           {
            "marker": {
             "line": {
              "color": "#283442"
             }
            },
            "type": "scatter"
           }
          ],
          "scatter3d": [
           {
            "line": {
             "colorbar": {
              "outlinewidth": 0,
              "ticks": ""
             }
            },
            "marker": {
             "colorbar": {
              "outlinewidth": 0,
              "ticks": ""
             }
            },
            "type": "scatter3d"
           }
          ],
          "scattercarpet": [
           {
            "marker": {
             "colorbar": {
              "outlinewidth": 0,
              "ticks": ""
             }
            },
            "type": "scattercarpet"
           }
          ],
          "scattergeo": [
           {
            "marker": {
             "colorbar": {
              "outlinewidth": 0,
              "ticks": ""
             }
            },
            "type": "scattergeo"
           }
          ],
          "scattergl": [
           {
            "marker": {
             "line": {
              "color": "#283442"
             }
            },
            "type": "scattergl"
           }
          ],
          "scattermapbox": [
           {
            "marker": {
             "colorbar": {
              "outlinewidth": 0,
              "ticks": ""
             }
            },
            "type": "scattermapbox"
           }
          ],
          "scatterpolar": [
           {
            "marker": {
             "colorbar": {
              "outlinewidth": 0,
              "ticks": ""
             }
            },
            "type": "scatterpolar"
           }
          ],
          "scatterpolargl": [
           {
            "marker": {
             "colorbar": {
              "outlinewidth": 0,
              "ticks": ""
             }
            },
            "type": "scatterpolargl"
           }
          ],
          "scatterternary": [
           {
            "marker": {
             "colorbar": {
              "outlinewidth": 0,
              "ticks": ""
             }
            },
            "type": "scatterternary"
           }
          ],
          "surface": [
           {
            "colorbar": {
             "outlinewidth": 0,
             "ticks": ""
            },
            "colorscale": [
             [
              0,
              "#0d0887"
             ],
             [
              0.1111111111111111,
              "#46039f"
             ],
             [
              0.2222222222222222,
              "#7201a8"
             ],
             [
              0.3333333333333333,
              "#9c179e"
             ],
             [
              0.4444444444444444,
              "#bd3786"
             ],
             [
              0.5555555555555556,
              "#d8576b"
             ],
             [
              0.6666666666666666,
              "#ed7953"
             ],
             [
              0.7777777777777778,
              "#fb9f3a"
             ],
             [
              0.8888888888888888,
              "#fdca26"
             ],
             [
              1,
              "#f0f921"
             ]
            ],
            "type": "surface"
           }
          ],
          "table": [
           {
            "cells": {
             "fill": {
              "color": "#506784"
             },
             "line": {
              "color": "rgb(17,17,17)"
             }
            },
            "header": {
             "fill": {
              "color": "#2a3f5f"
             },
             "line": {
              "color": "rgb(17,17,17)"
             }
            },
            "type": "table"
           }
          ]
         },
         "layout": {
          "annotationdefaults": {
           "arrowcolor": "#f2f5fa",
           "arrowhead": 0,
           "arrowwidth": 1
          },
          "autotypenumbers": "strict",
          "coloraxis": {
           "colorbar": {
            "outlinewidth": 0,
            "ticks": ""
           }
          },
          "colorscale": {
           "diverging": [
            [
             0,
             "#8e0152"
            ],
            [
             0.1,
             "#c51b7d"
            ],
            [
             0.2,
             "#de77ae"
            ],
            [
             0.3,
             "#f1b6da"
            ],
            [
             0.4,
             "#fde0ef"
            ],
            [
             0.5,
             "#f7f7f7"
            ],
            [
             0.6,
             "#e6f5d0"
            ],
            [
             0.7,
             "#b8e186"
            ],
            [
             0.8,
             "#7fbc41"
            ],
            [
             0.9,
             "#4d9221"
            ],
            [
             1,
             "#276419"
            ]
           ],
           "sequential": [
            [
             0,
             "#0d0887"
            ],
            [
             0.1111111111111111,
             "#46039f"
            ],
            [
             0.2222222222222222,
             "#7201a8"
            ],
            [
             0.3333333333333333,
             "#9c179e"
            ],
            [
             0.4444444444444444,
             "#bd3786"
            ],
            [
             0.5555555555555556,
             "#d8576b"
            ],
            [
             0.6666666666666666,
             "#ed7953"
            ],
            [
             0.7777777777777778,
             "#fb9f3a"
            ],
            [
             0.8888888888888888,
             "#fdca26"
            ],
            [
             1,
             "#f0f921"
            ]
           ],
           "sequentialminus": [
            [
             0,
             "#0d0887"
            ],
            [
             0.1111111111111111,
             "#46039f"
            ],
            [
             0.2222222222222222,
             "#7201a8"
            ],
            [
             0.3333333333333333,
             "#9c179e"
            ],
            [
             0.4444444444444444,
             "#bd3786"
            ],
            [
             0.5555555555555556,
             "#d8576b"
            ],
            [
             0.6666666666666666,
             "#ed7953"
            ],
            [
             0.7777777777777778,
             "#fb9f3a"
            ],
            [
             0.8888888888888888,
             "#fdca26"
            ],
            [
             1,
             "#f0f921"
            ]
           ]
          },
          "colorway": [
           "#636efa",
           "#EF553B",
           "#00cc96",
           "#ab63fa",
           "#FFA15A",
           "#19d3f3",
           "#FF6692",
           "#B6E880",
           "#FF97FF",
           "#FECB52"
          ],
          "font": {
           "color": "#f2f5fa"
          },
          "geo": {
           "bgcolor": "rgb(17,17,17)",
           "lakecolor": "rgb(17,17,17)",
           "landcolor": "rgb(17,17,17)",
           "showlakes": true,
           "showland": true,
           "subunitcolor": "#506784"
          },
          "hoverlabel": {
           "align": "left"
          },
          "hovermode": "closest",
          "mapbox": {
           "style": "dark"
          },
          "paper_bgcolor": "rgb(17,17,17)",
          "plot_bgcolor": "rgb(17,17,17)",
          "polar": {
           "angularaxis": {
            "gridcolor": "#506784",
            "linecolor": "#506784",
            "ticks": ""
           },
           "bgcolor": "rgb(17,17,17)",
           "radialaxis": {
            "gridcolor": "#506784",
            "linecolor": "#506784",
            "ticks": ""
           }
          },
          "scene": {
           "xaxis": {
            "backgroundcolor": "rgb(17,17,17)",
            "gridcolor": "#506784",
            "gridwidth": 2,
            "linecolor": "#506784",
            "showbackground": true,
            "ticks": "",
            "zerolinecolor": "#C8D4E3"
           },
           "yaxis": {
            "backgroundcolor": "rgb(17,17,17)",
            "gridcolor": "#506784",
            "gridwidth": 2,
            "linecolor": "#506784",
            "showbackground": true,
            "ticks": "",
            "zerolinecolor": "#C8D4E3"
           },
           "zaxis": {
            "backgroundcolor": "rgb(17,17,17)",
            "gridcolor": "#506784",
            "gridwidth": 2,
            "linecolor": "#506784",
            "showbackground": true,
            "ticks": "",
            "zerolinecolor": "#C8D4E3"
           }
          },
          "shapedefaults": {
           "line": {
            "color": "#f2f5fa"
           }
          },
          "sliderdefaults": {
           "bgcolor": "#C8D4E3",
           "bordercolor": "rgb(17,17,17)",
           "borderwidth": 1,
           "tickwidth": 0
          },
          "ternary": {
           "aaxis": {
            "gridcolor": "#506784",
            "linecolor": "#506784",
            "ticks": ""
           },
           "baxis": {
            "gridcolor": "#506784",
            "linecolor": "#506784",
            "ticks": ""
           },
           "bgcolor": "rgb(17,17,17)",
           "caxis": {
            "gridcolor": "#506784",
            "linecolor": "#506784",
            "ticks": ""
           }
          },
          "title": {
           "x": 0.05
          },
          "updatemenudefaults": {
           "bgcolor": "#506784",
           "borderwidth": 0
          },
          "xaxis": {
           "automargin": true,
           "gridcolor": "#283442",
           "linecolor": "#506784",
           "ticks": "",
           "title": {
            "standoff": 15
           },
           "zerolinecolor": "#283442",
           "zerolinewidth": 2
          },
          "yaxis": {
           "automargin": true,
           "gridcolor": "#283442",
           "linecolor": "#506784",
           "ticks": "",
           "title": {
            "standoff": 15
           },
           "zerolinecolor": "#283442",
           "zerolinewidth": 2
          }
         }
        },
        "title": {
         "text": "Clusters of positive and negative diagnosis"
        },
        "xaxis": {
         "anchor": "y",
         "domain": [
          0,
          1
         ],
         "showgrid": false,
         "title": {
          "text": "x"
         },
         "visible": false,
         "zeroline": false
        },
        "yaxis": {
         "anchor": "x",
         "domain": [
          0,
          1
         ],
         "showgrid": false,
         "title": {
          "text": "y"
         },
         "visible": false,
         "zeroline": false
        }
       }
      }
     },
     "metadata": {},
     "output_type": "display_data"
    }
   ],
   "source": [
    "model = KMeans(n_clusters=2)\n",
    "\n",
    "cluster_labels = model.fit_predict(pca_df)\n",
    "\n",
    "centroids = model.cluster_centers_\n",
    "\n",
    "centroids_x = centroids[:, 0]\n",
    "centroids_y = centroids[:, 1]\n",
    "\n",
    "label_dict = {0: 'Negative cases', 1: 'Positive cases'}\n",
    "\n",
    "fig = px.scatter(pca_df, x=pca_df[:, 0], y=pca_df[:, 1], color=cluster_labels, template='plotly_dark')\n",
    "fig.update_layout(title='Clusters of positive and negative diagnosis')\n",
    "fig.update_layout(xaxis_visible=False, yaxis_visible=False, \n",
    "                  xaxis=dict(showgrid=False, zeroline=False), \n",
    "                  yaxis=dict(showgrid=False, zeroline=False))\n",
    "fig.add_trace(go.Scatter(x=centroids_x, y=centroids_y, mode='markers', \n",
    "                         marker=dict(color='red', size=6)))\n",
    "fig.show()"
   ]
  },
  {
   "attachments": {},
   "cell_type": "markdown",
   "id": "12dd59e9",
   "metadata": {},
   "source": [
    "#### K-medoids clustering:"
   ]
  },
  {
   "cell_type": "code",
   "execution_count": 26,
   "id": "02e4d633",
   "metadata": {},
   "outputs": [
    {
     "data": {
      "application/vnd.plotly.v1+json": {
       "config": {
        "plotlyServerURL": "https://plot.ly"
       },
       "data": [
        {
         "hovertemplate": "x=%{x}<br>y=%{y}<extra></extra>",
         "legendgroup": "",
         "line": {
          "color": "#636efa",
          "dash": "solid"
         },
         "marker": {
          "symbol": "circle"
         },
         "mode": "lines+markers",
         "name": "",
         "orientation": "v",
         "showlegend": false,
         "type": "scatter",
         "x": [
          1,
          2,
          3,
          4,
          5
         ],
         "xaxis": "x",
         "y": [
          970.7027482356357,
          878.7196023139177,
          773.6180650480105,
          798.526171077327,
          741.681167966462
         ],
         "yaxis": "y"
        }
       ],
       "layout": {
        "legend": {
         "tracegroupgap": 0
        },
        "template": {
         "data": {
          "bar": [
           {
            "error_x": {
             "color": "#f2f5fa"
            },
            "error_y": {
             "color": "#f2f5fa"
            },
            "marker": {
             "line": {
              "color": "rgb(17,17,17)",
              "width": 0.5
             },
             "pattern": {
              "fillmode": "overlay",
              "size": 10,
              "solidity": 0.2
             }
            },
            "type": "bar"
           }
          ],
          "barpolar": [
           {
            "marker": {
             "line": {
              "color": "rgb(17,17,17)",
              "width": 0.5
             },
             "pattern": {
              "fillmode": "overlay",
              "size": 10,
              "solidity": 0.2
             }
            },
            "type": "barpolar"
           }
          ],
          "carpet": [
           {
            "aaxis": {
             "endlinecolor": "#A2B1C6",
             "gridcolor": "#506784",
             "linecolor": "#506784",
             "minorgridcolor": "#506784",
             "startlinecolor": "#A2B1C6"
            },
            "baxis": {
             "endlinecolor": "#A2B1C6",
             "gridcolor": "#506784",
             "linecolor": "#506784",
             "minorgridcolor": "#506784",
             "startlinecolor": "#A2B1C6"
            },
            "type": "carpet"
           }
          ],
          "choropleth": [
           {
            "colorbar": {
             "outlinewidth": 0,
             "ticks": ""
            },
            "type": "choropleth"
           }
          ],
          "contour": [
           {
            "colorbar": {
             "outlinewidth": 0,
             "ticks": ""
            },
            "colorscale": [
             [
              0,
              "#0d0887"
             ],
             [
              0.1111111111111111,
              "#46039f"
             ],
             [
              0.2222222222222222,
              "#7201a8"
             ],
             [
              0.3333333333333333,
              "#9c179e"
             ],
             [
              0.4444444444444444,
              "#bd3786"
             ],
             [
              0.5555555555555556,
              "#d8576b"
             ],
             [
              0.6666666666666666,
              "#ed7953"
             ],
             [
              0.7777777777777778,
              "#fb9f3a"
             ],
             [
              0.8888888888888888,
              "#fdca26"
             ],
             [
              1,
              "#f0f921"
             ]
            ],
            "type": "contour"
           }
          ],
          "contourcarpet": [
           {
            "colorbar": {
             "outlinewidth": 0,
             "ticks": ""
            },
            "type": "contourcarpet"
           }
          ],
          "heatmap": [
           {
            "colorbar": {
             "outlinewidth": 0,
             "ticks": ""
            },
            "colorscale": [
             [
              0,
              "#0d0887"
             ],
             [
              0.1111111111111111,
              "#46039f"
             ],
             [
              0.2222222222222222,
              "#7201a8"
             ],
             [
              0.3333333333333333,
              "#9c179e"
             ],
             [
              0.4444444444444444,
              "#bd3786"
             ],
             [
              0.5555555555555556,
              "#d8576b"
             ],
             [
              0.6666666666666666,
              "#ed7953"
             ],
             [
              0.7777777777777778,
              "#fb9f3a"
             ],
             [
              0.8888888888888888,
              "#fdca26"
             ],
             [
              1,
              "#f0f921"
             ]
            ],
            "type": "heatmap"
           }
          ],
          "heatmapgl": [
           {
            "colorbar": {
             "outlinewidth": 0,
             "ticks": ""
            },
            "colorscale": [
             [
              0,
              "#0d0887"
             ],
             [
              0.1111111111111111,
              "#46039f"
             ],
             [
              0.2222222222222222,
              "#7201a8"
             ],
             [
              0.3333333333333333,
              "#9c179e"
             ],
             [
              0.4444444444444444,
              "#bd3786"
             ],
             [
              0.5555555555555556,
              "#d8576b"
             ],
             [
              0.6666666666666666,
              "#ed7953"
             ],
             [
              0.7777777777777778,
              "#fb9f3a"
             ],
             [
              0.8888888888888888,
              "#fdca26"
             ],
             [
              1,
              "#f0f921"
             ]
            ],
            "type": "heatmapgl"
           }
          ],
          "histogram": [
           {
            "marker": {
             "pattern": {
              "fillmode": "overlay",
              "size": 10,
              "solidity": 0.2
             }
            },
            "type": "histogram"
           }
          ],
          "histogram2d": [
           {
            "colorbar": {
             "outlinewidth": 0,
             "ticks": ""
            },
            "colorscale": [
             [
              0,
              "#0d0887"
             ],
             [
              0.1111111111111111,
              "#46039f"
             ],
             [
              0.2222222222222222,
              "#7201a8"
             ],
             [
              0.3333333333333333,
              "#9c179e"
             ],
             [
              0.4444444444444444,
              "#bd3786"
             ],
             [
              0.5555555555555556,
              "#d8576b"
             ],
             [
              0.6666666666666666,
              "#ed7953"
             ],
             [
              0.7777777777777778,
              "#fb9f3a"
             ],
             [
              0.8888888888888888,
              "#fdca26"
             ],
             [
              1,
              "#f0f921"
             ]
            ],
            "type": "histogram2d"
           }
          ],
          "histogram2dcontour": [
           {
            "colorbar": {
             "outlinewidth": 0,
             "ticks": ""
            },
            "colorscale": [
             [
              0,
              "#0d0887"
             ],
             [
              0.1111111111111111,
              "#46039f"
             ],
             [
              0.2222222222222222,
              "#7201a8"
             ],
             [
              0.3333333333333333,
              "#9c179e"
             ],
             [
              0.4444444444444444,
              "#bd3786"
             ],
             [
              0.5555555555555556,
              "#d8576b"
             ],
             [
              0.6666666666666666,
              "#ed7953"
             ],
             [
              0.7777777777777778,
              "#fb9f3a"
             ],
             [
              0.8888888888888888,
              "#fdca26"
             ],
             [
              1,
              "#f0f921"
             ]
            ],
            "type": "histogram2dcontour"
           }
          ],
          "mesh3d": [
           {
            "colorbar": {
             "outlinewidth": 0,
             "ticks": ""
            },
            "type": "mesh3d"
           }
          ],
          "parcoords": [
           {
            "line": {
             "colorbar": {
              "outlinewidth": 0,
              "ticks": ""
             }
            },
            "type": "parcoords"
           }
          ],
          "pie": [
           {
            "automargin": true,
            "type": "pie"
           }
          ],
          "scatter": [
           {
            "marker": {
             "line": {
              "color": "#283442"
             }
            },
            "type": "scatter"
           }
          ],
          "scatter3d": [
           {
            "line": {
             "colorbar": {
              "outlinewidth": 0,
              "ticks": ""
             }
            },
            "marker": {
             "colorbar": {
              "outlinewidth": 0,
              "ticks": ""
             }
            },
            "type": "scatter3d"
           }
          ],
          "scattercarpet": [
           {
            "marker": {
             "colorbar": {
              "outlinewidth": 0,
              "ticks": ""
             }
            },
            "type": "scattercarpet"
           }
          ],
          "scattergeo": [
           {
            "marker": {
             "colorbar": {
              "outlinewidth": 0,
              "ticks": ""
             }
            },
            "type": "scattergeo"
           }
          ],
          "scattergl": [
           {
            "marker": {
             "line": {
              "color": "#283442"
             }
            },
            "type": "scattergl"
           }
          ],
          "scattermapbox": [
           {
            "marker": {
             "colorbar": {
              "outlinewidth": 0,
              "ticks": ""
             }
            },
            "type": "scattermapbox"
           }
          ],
          "scatterpolar": [
           {
            "marker": {
             "colorbar": {
              "outlinewidth": 0,
              "ticks": ""
             }
            },
            "type": "scatterpolar"
           }
          ],
          "scatterpolargl": [
           {
            "marker": {
             "colorbar": {
              "outlinewidth": 0,
              "ticks": ""
             }
            },
            "type": "scatterpolargl"
           }
          ],
          "scatterternary": [
           {
            "marker": {
             "colorbar": {
              "outlinewidth": 0,
              "ticks": ""
             }
            },
            "type": "scatterternary"
           }
          ],
          "surface": [
           {
            "colorbar": {
             "outlinewidth": 0,
             "ticks": ""
            },
            "colorscale": [
             [
              0,
              "#0d0887"
             ],
             [
              0.1111111111111111,
              "#46039f"
             ],
             [
              0.2222222222222222,
              "#7201a8"
             ],
             [
              0.3333333333333333,
              "#9c179e"
             ],
             [
              0.4444444444444444,
              "#bd3786"
             ],
             [
              0.5555555555555556,
              "#d8576b"
             ],
             [
              0.6666666666666666,
              "#ed7953"
             ],
             [
              0.7777777777777778,
              "#fb9f3a"
             ],
             [
              0.8888888888888888,
              "#fdca26"
             ],
             [
              1,
              "#f0f921"
             ]
            ],
            "type": "surface"
           }
          ],
          "table": [
           {
            "cells": {
             "fill": {
              "color": "#506784"
             },
             "line": {
              "color": "rgb(17,17,17)"
             }
            },
            "header": {
             "fill": {
              "color": "#2a3f5f"
             },
             "line": {
              "color": "rgb(17,17,17)"
             }
            },
            "type": "table"
           }
          ]
         },
         "layout": {
          "annotationdefaults": {
           "arrowcolor": "#f2f5fa",
           "arrowhead": 0,
           "arrowwidth": 1
          },
          "autotypenumbers": "strict",
          "coloraxis": {
           "colorbar": {
            "outlinewidth": 0,
            "ticks": ""
           }
          },
          "colorscale": {
           "diverging": [
            [
             0,
             "#8e0152"
            ],
            [
             0.1,
             "#c51b7d"
            ],
            [
             0.2,
             "#de77ae"
            ],
            [
             0.3,
             "#f1b6da"
            ],
            [
             0.4,
             "#fde0ef"
            ],
            [
             0.5,
             "#f7f7f7"
            ],
            [
             0.6,
             "#e6f5d0"
            ],
            [
             0.7,
             "#b8e186"
            ],
            [
             0.8,
             "#7fbc41"
            ],
            [
             0.9,
             "#4d9221"
            ],
            [
             1,
             "#276419"
            ]
           ],
           "sequential": [
            [
             0,
             "#0d0887"
            ],
            [
             0.1111111111111111,
             "#46039f"
            ],
            [
             0.2222222222222222,
             "#7201a8"
            ],
            [
             0.3333333333333333,
             "#9c179e"
            ],
            [
             0.4444444444444444,
             "#bd3786"
            ],
            [
             0.5555555555555556,
             "#d8576b"
            ],
            [
             0.6666666666666666,
             "#ed7953"
            ],
            [
             0.7777777777777778,
             "#fb9f3a"
            ],
            [
             0.8888888888888888,
             "#fdca26"
            ],
            [
             1,
             "#f0f921"
            ]
           ],
           "sequentialminus": [
            [
             0,
             "#0d0887"
            ],
            [
             0.1111111111111111,
             "#46039f"
            ],
            [
             0.2222222222222222,
             "#7201a8"
            ],
            [
             0.3333333333333333,
             "#9c179e"
            ],
            [
             0.4444444444444444,
             "#bd3786"
            ],
            [
             0.5555555555555556,
             "#d8576b"
            ],
            [
             0.6666666666666666,
             "#ed7953"
            ],
            [
             0.7777777777777778,
             "#fb9f3a"
            ],
            [
             0.8888888888888888,
             "#fdca26"
            ],
            [
             1,
             "#f0f921"
            ]
           ]
          },
          "colorway": [
           "#636efa",
           "#EF553B",
           "#00cc96",
           "#ab63fa",
           "#FFA15A",
           "#19d3f3",
           "#FF6692",
           "#B6E880",
           "#FF97FF",
           "#FECB52"
          ],
          "font": {
           "color": "#f2f5fa"
          },
          "geo": {
           "bgcolor": "rgb(17,17,17)",
           "lakecolor": "rgb(17,17,17)",
           "landcolor": "rgb(17,17,17)",
           "showlakes": true,
           "showland": true,
           "subunitcolor": "#506784"
          },
          "hoverlabel": {
           "align": "left"
          },
          "hovermode": "closest",
          "mapbox": {
           "style": "dark"
          },
          "paper_bgcolor": "rgb(17,17,17)",
          "plot_bgcolor": "rgb(17,17,17)",
          "polar": {
           "angularaxis": {
            "gridcolor": "#506784",
            "linecolor": "#506784",
            "ticks": ""
           },
           "bgcolor": "rgb(17,17,17)",
           "radialaxis": {
            "gridcolor": "#506784",
            "linecolor": "#506784",
            "ticks": ""
           }
          },
          "scene": {
           "xaxis": {
            "backgroundcolor": "rgb(17,17,17)",
            "gridcolor": "#506784",
            "gridwidth": 2,
            "linecolor": "#506784",
            "showbackground": true,
            "ticks": "",
            "zerolinecolor": "#C8D4E3"
           },
           "yaxis": {
            "backgroundcolor": "rgb(17,17,17)",
            "gridcolor": "#506784",
            "gridwidth": 2,
            "linecolor": "#506784",
            "showbackground": true,
            "ticks": "",
            "zerolinecolor": "#C8D4E3"
           },
           "zaxis": {
            "backgroundcolor": "rgb(17,17,17)",
            "gridcolor": "#506784",
            "gridwidth": 2,
            "linecolor": "#506784",
            "showbackground": true,
            "ticks": "",
            "zerolinecolor": "#C8D4E3"
           }
          },
          "shapedefaults": {
           "line": {
            "color": "#f2f5fa"
           }
          },
          "sliderdefaults": {
           "bgcolor": "#C8D4E3",
           "bordercolor": "rgb(17,17,17)",
           "borderwidth": 1,
           "tickwidth": 0
          },
          "ternary": {
           "aaxis": {
            "gridcolor": "#506784",
            "linecolor": "#506784",
            "ticks": ""
           },
           "baxis": {
            "gridcolor": "#506784",
            "linecolor": "#506784",
            "ticks": ""
           },
           "bgcolor": "rgb(17,17,17)",
           "caxis": {
            "gridcolor": "#506784",
            "linecolor": "#506784",
            "ticks": ""
           }
          },
          "title": {
           "x": 0.05
          },
          "updatemenudefaults": {
           "bgcolor": "#506784",
           "borderwidth": 0
          },
          "xaxis": {
           "automargin": true,
           "gridcolor": "#283442",
           "linecolor": "#506784",
           "ticks": "",
           "title": {
            "standoff": 15
           },
           "zerolinecolor": "#283442",
           "zerolinewidth": 2
          },
          "yaxis": {
           "automargin": true,
           "gridcolor": "#283442",
           "linecolor": "#506784",
           "ticks": "",
           "title": {
            "standoff": 15
           },
           "zerolinecolor": "#283442",
           "zerolinewidth": 2
          }
         }
        },
        "title": {
         "text": "Number of clusters vs Inertia (K-medoids)"
        },
        "xaxis": {
         "anchor": "y",
         "domain": [
          0,
          1
         ],
         "title": {
          "text": "Number of clusters"
         }
        },
        "yaxis": {
         "anchor": "x",
         "domain": [
          0,
          1
         ],
         "title": {
          "text": "Inertia"
         }
        }
       }
      }
     },
     "metadata": {},
     "output_type": "display_data"
    },
    {
     "data": {
      "application/vnd.plotly.v1+json": {
       "config": {
        "plotlyServerURL": "https://plot.ly"
       },
       "data": [
        {
         "hovertemplate": "x=%{x}<br>y=%{y}<br>color=%{marker.color}<extra></extra>",
         "legendgroup": "",
         "marker": {
          "color": [
           0,
           0,
           0,
           0,
           1,
           1,
           1,
           1,
           0,
           1,
           1,
           1,
           1,
           1,
           0,
           1,
           1,
           0,
           0,
           0,
           1,
           1,
           1,
           0,
           1,
           0,
           1,
           1,
           0,
           0,
           1,
           1,
           0,
           0,
           0,
           1,
           1,
           0,
           1,
           0,
           1,
           1,
           0,
           1,
           0,
           1,
           1,
           0,
           1,
           0,
           1,
           0,
           0,
           0,
           0,
           0,
           1,
           0,
           0,
           0,
           1,
           0,
           0,
           1,
           1,
           1,
           0,
           1,
           1,
           0,
           1,
           1,
           0,
           1,
           0,
           0,
           1,
           1,
           1,
           0,
           0,
           1,
           1,
           1,
           1,
           0,
           0,
           0,
           1,
           1,
           1,
           0,
           1,
           0,
           1,
           1,
           1,
           1,
           0,
           1,
           0,
           0,
           1,
           1,
           1,
           0,
           1,
           0,
           1,
           1,
           0,
           1,
           1,
           0,
           1,
           1,
           1,
           1,
           0,
           1,
           0,
           0,
           0,
           1,
           1,
           0,
           1,
           0,
           1,
           1,
           0,
           1,
           1,
           1,
           1,
           0,
           1,
           0,
           1,
           1,
           0,
           1,
           1,
           1,
           1,
           0,
           0,
           1,
           1,
           1,
           1,
           1,
           1,
           1,
           1,
           1,
           1,
           0,
           0,
           0,
           1,
           0,
           1,
           1,
           1,
           0,
           0,
           1,
           0,
           0,
           1,
           0,
           1,
           0,
           0,
           1,
           0,
           0,
           0,
           1,
           0,
           1,
           0,
           0,
           0,
           0,
           1,
           1,
           1,
           1,
           0,
           0,
           1,
           1,
           0,
           0,
           0,
           1,
           1,
           0,
           1,
           0,
           1,
           0,
           1,
           1,
           0,
           1,
           1,
           1,
           0,
           1,
           1,
           1,
           1,
           1,
           1,
           1,
           0,
           1,
           1,
           0,
           1,
           0,
           0,
           1,
           1,
           1,
           1,
           1,
           1,
           1,
           1,
           1,
           1,
           1,
           0,
           0,
           0,
           1,
           1,
           1,
           0,
           0,
           1,
           0,
           1,
           1,
           1,
           0,
           0,
           1,
           1,
           1,
           1,
           0,
           1,
           1,
           1,
           1,
           1,
           0,
           1,
           1,
           0,
           1,
           0,
           0,
           1,
           1,
           0,
           0,
           1,
           1,
           1,
           1,
           1,
           1,
           1,
           0,
           1,
           0,
           1,
           0,
           1,
           1,
           0,
           0,
           1,
           1,
           0,
           1,
           1,
           1,
           1,
           0,
           1,
           0
          ],
          "coloraxis": "coloraxis",
          "symbol": "circle"
         },
         "mode": "markers",
         "name": "",
         "orientation": "v",
         "showlegend": false,
         "type": "scatter",
         "x": [
          -0.3064454655794499,
          2.65655233506875,
          3.447667296489485,
          -0.7840072255605354,
          2.9856474476231813,
          0.013056082189751277,
          2.7367628044263843,
          1.566707927321065,
          -0.20194233940582607,
          3.908842121105084,
          0.4017675556643875,
          2.321585600085516,
          -3.819200836059154,
          4.6150521429504066,
          0.0021211625153320915,
          0.16420070291632652,
          3.435103647079999,
          -1.0504756189332287,
          -1.661408973852078,
          0.937181351560958,
          -0.9376507450601436,
          0.6212672651098786,
          -2.0807135780951826,
          -2.1151837517246794,
          1.4085313879124643,
          -2.27288007132385,
          -0.6152481431319917,
          0.2621264294043348,
          3.829675974389051,
          1.7499090227491498,
          1.8019565096989996,
          3.8778864068726704,
          -2.7695630581542185,
          1.2707211928707742,
          0.9348524266505713,
          -2.07611365939044,
          2.444531176487003,
          0.08563006203504414,
          -0.1760641321516604,
          -0.1652862595895456,
          -1.6226198661036504,
          -1.19268449862266,
          -2.4195050003688015,
          -1.233656234019718,
          1.6540074907464644,
          -0.1862798310924207,
          0.07430518037311595,
          -0.8550692968738988,
          1.2169870720552682,
          1.4671078457947537,
          5.4812106013128234,
          0.010700248232463527,
          -1.9858861650354016,
          0.31983991010191537,
          -1.1637288543034794,
          -3.9642154851188893,
          1.3115470734539125,
          -0.3776423324856057,
          -0.40530382195685805,
          -0.026964285576232504,
          1.1407993801811933,
          -2.6539782361639808,
          5.452507556083686,
          3.9069478179147317,
          1.7894782814274914,
          1.6087630341750068,
          -0.4946640061345776,
          -0.00167161961728311,
          -1.9612088321675158,
          -1.6411118507989368,
          3.2117686281105002,
          -1.2288322584284903,
          -0.6505275520214105,
          -0.5675431501288433,
          -2.2496326587771835,
          0.6251743667089608,
          2.8349698972717396,
          3.0545261740948684,
          -2.9172128941349897,
          -1.3471496565831282,
          -0.46077687513578913,
          -0.4672810680040448,
          -0.71089168028256,
          3.874313433942045,
          -1.2540280518235611,
          1.1100619651149852,
          -1.677436663460893,
          -1.5155847362419061,
          -2.2024902047376442,
          -3.7163513290765584,
          0.8230148637957507,
          -0.018176316559984078,
          2.590058905193293,
          -2.2146055593307756,
          0.5316217936426273,
          -3.0539413048366506,
          0.9611104627627874,
          1.8024938818558398,
          1.2928341899777083,
          0.9657212959446482,
          2.4153728018560776,
          -1.8860639584412096,
          3.213743571579885,
          -0.07311714583959003,
          3.36963778922656,
          -1.4837306837415196,
          0.22345328566580985,
          -0.6277631229883738,
          -1.4094080265417166,
          2.771221560103078,
          0.33790171273622766,
          -2.8575160424531805,
          3.4478045632890875,
          0.5188622665370142,
          1.082987107617715,
          -3.984401620367359,
          -2.159027678667974,
          1.0962709260845813,
          -1.147118587831994,
          -2.6111576477870693,
          -0.7293856790183463,
          -2.646223484903352,
          -1.2320641301654116,
          -0.5570798045070312,
          2.5481507370128242,
          -1.397066036594127,
          -0.02412904240214712,
          -2.8623283017742187,
          0.855093103367066,
          -0.7253856499694494,
          -0.4565498945133148,
          2.434050232785375,
          -0.31649096903947316,
          -0.8851835348538637,
          -1.937669183757152,
          -1.0124919466698334,
          3.2438005953685765,
          -0.7935058762734385,
          -4.205697753975661,
          1.9289199292512271,
          5.583782473294886,
          4.320239881515607,
          2.076924912807881,
          0.044571324486563924,
          0.7058773385083729,
          -2.350876723051673,
          -1.8167619567921072,
          2.603922471240832,
          2.071069255639514,
          -3.762402778945603,
          -1.7021808190909,
          0.6318420603858533,
          3.840072877368025,
          -1.820357513228509,
          -3.3064115526057316,
          -2.370082598916458,
          1.4674126773142087,
          -0.023220858367385633,
          -1.5754526397507025,
          -1.2656142152988608,
          2.13476920192974,
          -2.0211208764173807,
          2.6142237788744516,
          2.7249900287480737,
          -1.485157232530123,
          -1.6278664438299475,
          -0.49476396978375226,
          -1.729708318733734,
          -2.2795220869595703,
          -1.6223416829144317,
          2.976333197617031,
          -1.893088937116151,
          -2.001416513631658,
          -0.37564094609045845,
          1.0187076373866015,
          -0.7649939352453637,
          0.3665002333515477,
          -3.0752764531468393,
          -1.8275713309906305,
          1.6697221807837264,
          1.1840351434234786,
          0.5114907842560747,
          -2.243678944101933,
          0.6229167819195807,
          -2.3838371102559055,
          -2.308116887427069,
          2.8880494261579734,
          0.5147362952318503,
          -0.841046195852209,
          -2.6767503888725597,
          -1.9877656866609983,
          1.1181911558839155,
          -1.2473416232811654,
          -3.2395034929779505,
          -1.7452032815972305,
          -2.7037392038004153,
          -1.7923305877498652,
          -0.19451400266440844,
          -0.11369786584881712,
          -1.8835580693207958,
          3.706859632665039,
          1.0740731216061283,
          1.8199780711752844,
          -1.7460261580698342,
          -3.441710933416313,
          -1.8910512796754018,
          -1.9062639075235657,
          3.8178404202584377,
          0.2059440494975578,
          1.3431401756560886,
          -0.7195411335139952,
          -0.36289779208574513,
          -1.480038791870636,
          1.1053854117428237,
          1.8449438791888033,
          1.9390906893465145,
          3.433393550228936,
          0.2599513489265162,
          -0.18063399287905318,
          -1.3422884363624525,
          2.706152771369071,
          0.3537001745358453,
          0.8838596082496801,
          -0.4087051736818396,
          -1.0557595872768413,
          1.8941806448591065,
          0.3560784947547514,
          -0.5067842856893238,
          2.6960644884406464,
          -1.2276547565030378,
          1.207247142010941,
          -1.4680308737151526,
          -0.14459826586574384,
          -1.2523328533126157,
          -0.7591801489993302,
          -1.554363251426174,
          0.41802976938395814,
          0.38223792863679673,
          -1.1308208409200868,
          2.124924097567705,
          2.7088171174780267,
          0.6628400726378846,
          -0.7502815345511822,
          1.120148033597455,
          -0.8134577342675484,
          2.2219580989298993,
          -0.31733716882270835,
          -0.6503171387208859,
          0.8451988415957092,
          -1.5409304349059665,
          -1.2226496541330456,
          -2.788690240989742,
          2.689663367779147,
          -2.8504485231840686,
          3.5544746138909225,
          -2.9150642514512977,
          -2.305650500547353,
          3.6405931206740436,
          -1.598992471227706,
          2.105331656253614,
          -0.055201494405996816,
          -0.9092978297354128,
          3.315870097778219,
          -0.6201306548866035,
          -0.7132064638666584,
          -2.0277838168103544,
          -1.3733852006713796,
          3.1875370794352698,
          2.0484160039161425,
          -1.680106532704133,
          -0.36180834057275074,
          -2.6252021988581165,
          -0.8482461038964193,
          0.5046041095653733,
          -2.425694906875183,
          -2.197672840188616,
          -2.641445231898005,
          -1.7401860254868942,
          1.9372995822150025,
          -1.6055343316768422,
          -0.29970773949526136,
          2.2631520781327534,
          -2.0273979018517374,
          0.38656230430858557,
          -0.3443329416372523,
          3.1860103650147074,
          -0.15056608802881424,
          2.5263901759219514,
          -0.3749822624642994,
          -0.7501422143147868,
          0.3622968260673293,
          -0.9404177112784816,
          -1.2982154042985816,
          1.5686726443805252,
          -2.9943605922807723,
          -0.31281274047067004,
          -0.32317745642848067,
          1.8400523598883178
         ],
         "xaxis": "x",
         "y": [
          -1.04843696327686,
          -0.13969555270390774,
          0.7422969863352489,
          -0.9807669691136705,
          0.7479805528575647,
          3.065920321243504,
          3.3400579340279815,
          -0.875095212805483,
          -0.9502023025966799,
          0.20775448722741163,
          3.3321867504094187,
          0.5380504911880081,
          1.6495835720898226,
          0.7845183686855568,
          -1.0218034940454594,
          -1.00000295120913,
          0.12372568568544491,
          -1.309592766769795,
          -1.7618557008840416,
          -0.36842982712390504,
          2.643487476454308,
          3.4677506856659925,
          -0.8880673598945921,
          -1.35746807358779,
          -0.7069432466224659,
          -0.07467542957567211,
          -0.8345887365640654,
          -0.012239644283210064,
          -1.2017359292658814,
          0.5435569949968597,
          1.9982267150042428,
          -0.27480794164967076,
          0.8635424751703009,
          -0.36656958322791816,
          -0.6321069684591407,
          -0.8145119975507651,
          -0.19482556882452878,
          -1.3305323247947873,
          -2.1059334838412656,
          -1.3281365309224122,
          -0.6123311706271735,
          -0.43764618881633216,
          -1.021239414133579,
          0.7622008040276619,
          -1.6887357616382412,
          -1.4556875596801906,
          2.144060812961021,
          -2.300010998000573,
          0.04101961050294474,
          -0.13203726851388445,
          1.4815938951212866,
          -1.1038242368674058,
          -0.3596647475996504,
          -1.1789072694854263,
          -1.490346263251413,
          -0.49540790329624296,
          3.1445289188088563,
          -1.5106839792668547,
          -2.2728746344299444,
          0.20662912499653358,
          1.080849128594222,
          -1.4333175036066859,
          0.527151551598768,
          -0.6743324212317949,
          0.026295601782502006,
          -1.0528074585128573,
          -0.34428072514269903,
          0.058253312885885436,
          -0.5061264643414922,
          -2.2379026402544366,
          0.4696200639903193,
          0.24605168727377813,
          -0.8578349807977558,
          2.902311106089701,
          -1.347004171618629,
          -1.1887735333215335,
          -0.28030980753675805,
          -0.11995549031247485,
          1.4419666031036382,
          -1.3376839798510276,
          -1.6939263130933775,
          0.5062787178925263,
          -1.7567117489249238,
          0.5021540107854463,
          2.046195292342384,
          0.022265130439582826,
          -1.2562792229032933,
          -1.5451594672862894,
          1.7993404550486587,
          1.3282114478448586,
          3.2653255211448164,
          -0.870909491151843,
          -0.3344585094342885,
          -1.3260006410009681,
          3.5359189314810395,
          2.1720162371239735,
          0.12092473286697238,
          2.9676803237895077,
          -1.0160016092668747,
          0.44075818717514037,
          0.6289594796962882,
          -1.5285923317173642,
          -0.1261941045217842,
          -2.257062877272459,
          -0.05057883451357138,
          -1.8394165651165673,
          -1.341719698105503,
          -0.21012387930801238,
          -0.17460281178973472,
          -0.9097818840917677,
          -2.742103378935585,
          2.2814991757732046,
          0.5092484416593906,
          -0.31015907211012683,
          0.4716145247551529,
          1.6485097974227094,
          2.610655986933799,
          4.061789689348041,
          -1.732424334212777,
          2.5467572622817083,
          -2.28137561300635,
          -1.8900178531712746,
          -3.945662225798786,
          -1.8140523413777143,
          0.3376467367363361,
          -0.8085021942799543,
          0.7919959704812053,
          -1.2178841876693733,
          -1.5602113181298465,
          3.0632288626015147,
          -1.4077829306969971,
          2.0035793972175533,
          -1.4012167743558448,
          -0.07965233580980699,
          2.9427480433731277,
          -1.0957097981069746,
          1.1610951907364422,
          -1.3092549361128927,
          2.2773487539872685,
          3.6710189815507013,
          -2.1022366016171996,
          0.5613734706575585,
          0.27890143017510005,
          2.526224235670084,
          -1.0248528069853406,
          0.4228837188163468,
          -2.0410477244982084,
          -1.147282883925916,
          -0.8474783544059393,
          1.4570733045038868,
          -0.14952282941827783,
          -1.7385469178192074,
          -0.10970493162853272,
          2.5264130218091783,
          1.4113974797071784,
          1.6687883565958637,
          0.22341128547320288,
          -1.8928351782589186,
          -1.716807029631242,
          -2.044634240351307,
          -0.1841521151643989,
          -0.2637230960062909,
          0.8681534152304505,
          0.39756562003191537,
          -0.1875732138994855,
          -1.3475050975326786,
          -1.355001654544572,
          2.0889513576826078,
          -2.2353049239611615,
          -1.53796000819859,
          -0.40666753278375833,
          -1.7276155262117214,
          -0.08573460019019678,
          -1.26671339316883,
          -0.6144900122531431,
          -0.5462589351234275,
          -1.8132560613277202,
          -0.4543851338207616,
          0.1377677166686639,
          0.7756484514085157,
          0.4503924356121364,
          -1.2665424501829976,
          0.25418128318991157,
          -0.8414672265424356,
          -1.50503309361578,
          -1.6779493349776247,
          0.5661694033615688,
          0.06551632246402442,
          1.517912026002775,
          2.35024122073262,
          -1.6462950331329065,
          -0.8125874145034289,
          0.264002291746358,
          2.414045682258755,
          -0.04334807669175556,
          -1.1653266493695704,
          0.10096546982657997,
          -1.1474588680312465,
          -1.8517730135236088,
          -2.1825463774028995,
          -0.17120072742288103,
          -1.0771448588654031,
          -0.2479539092128862,
          -1.8677920624338145,
          2.088336597632155,
          2.713771755394881,
          -0.15668560655449723,
          0.42096892081628196,
          -0.9782640764628052,
          -0.863037180989088,
          -0.9482294365393248,
          0.34892341387250836,
          0.04244198536959789,
          -0.43273233809277106,
          -0.46821672007484433,
          -0.07729242939984368,
          1.1125076703312515,
          2.5522374880349648,
          0.2502011750126112,
          2.3542678592798088,
          1.4636607366677878,
          -1.335409949663578,
          0.7240168456852086,
          -1.552159048146376,
          -2.054058174547604,
          1.048173988404443,
          3.4839259331650934,
          0.32372329456218035,
          -0.04107295277371785,
          -0.15795719768563746,
          0.6462744515139417,
          -0.8656996247221624,
          2.204342827231566,
          2.4457358299153724,
          2.2996717882857762,
          2.933514378451166,
          -1.3015582248361288,
          -0.18625768184556246,
          -0.8533651755525233,
          0.9739517437058556,
          0.5068378360555225,
          2.977029982233775,
          -1.1603897193639778,
          -1.2110790488782117,
          2.4351855718435464,
          -2.9755362324191648,
          -1.5317551490554988,
          3.0762254160776927,
          0.7504711482742825,
          -1.5530725196633477,
          -1.122026796985178,
          1.9808608352695358,
          0.0032495265859931164,
          1.6416169412347217,
          0.08686833281093037,
          -0.5944960546902779,
          2.2321705609404514,
          -0.870739959422088,
          -0.16273161661523564,
          -0.7117443037087258,
          1.0890187114112162,
          0.2579262444501831,
          -0.00019046383354950262,
          0.20885341722027226,
          -0.6865354993181133,
          2.028220041644073,
          -2.005389117630115,
          -1.3801792110979836,
          -0.7306651750408306,
          -0.1537699033198951,
          -0.9618743442324776,
          -1.5327331300804585,
          1.658735317812463,
          -1.7394650131650644,
          1.9311659128379681,
          -1.2126943565666548,
          2.208392097876888,
          -0.12867490297666806,
          -0.038186857540674066,
          -1.0958497287265576,
          2.775460023069725,
          0.12999007519036074,
          1.8376564055620483,
          -0.9571405620253863,
          -1.2129373954039324,
          1.7457111192107804,
          -0.5768762006143322,
          -0.1537648848610288,
          -0.066500269809492,
          2.8969147565017344,
          -0.5672759670227149,
          2.276887784587119,
          -1.664211051412071,
          -0.5058153888211082,
          2.3922793776600666,
          -1.2177631729062377,
          -1.5930516289890688,
          0.36280963713256975
         ],
         "yaxis": "y"
        },
        {
         "marker": {
          "color": "red",
          "size": 6
         },
         "mode": "markers",
         "type": "scatter",
         "x": [
          -0.7935058762734385,
          -0.36289779208574513
         ],
         "y": [
          -1.3092549361128927,
          0.34892341387250836
         ]
        }
       ],
       "layout": {
        "coloraxis": {
         "colorbar": {
          "title": {
           "text": "color"
          }
         },
         "colorscale": [
          [
           0,
           "#0d0887"
          ],
          [
           0.1111111111111111,
           "#46039f"
          ],
          [
           0.2222222222222222,
           "#7201a8"
          ],
          [
           0.3333333333333333,
           "#9c179e"
          ],
          [
           0.4444444444444444,
           "#bd3786"
          ],
          [
           0.5555555555555556,
           "#d8576b"
          ],
          [
           0.6666666666666666,
           "#ed7953"
          ],
          [
           0.7777777777777778,
           "#fb9f3a"
          ],
          [
           0.8888888888888888,
           "#fdca26"
          ],
          [
           1,
           "#f0f921"
          ]
         ]
        },
        "legend": {
         "tracegroupgap": 0
        },
        "margin": {
         "t": 60
        },
        "template": {
         "data": {
          "bar": [
           {
            "error_x": {
             "color": "#f2f5fa"
            },
            "error_y": {
             "color": "#f2f5fa"
            },
            "marker": {
             "line": {
              "color": "rgb(17,17,17)",
              "width": 0.5
             },
             "pattern": {
              "fillmode": "overlay",
              "size": 10,
              "solidity": 0.2
             }
            },
            "type": "bar"
           }
          ],
          "barpolar": [
           {
            "marker": {
             "line": {
              "color": "rgb(17,17,17)",
              "width": 0.5
             },
             "pattern": {
              "fillmode": "overlay",
              "size": 10,
              "solidity": 0.2
             }
            },
            "type": "barpolar"
           }
          ],
          "carpet": [
           {
            "aaxis": {
             "endlinecolor": "#A2B1C6",
             "gridcolor": "#506784",
             "linecolor": "#506784",
             "minorgridcolor": "#506784",
             "startlinecolor": "#A2B1C6"
            },
            "baxis": {
             "endlinecolor": "#A2B1C6",
             "gridcolor": "#506784",
             "linecolor": "#506784",
             "minorgridcolor": "#506784",
             "startlinecolor": "#A2B1C6"
            },
            "type": "carpet"
           }
          ],
          "choropleth": [
           {
            "colorbar": {
             "outlinewidth": 0,
             "ticks": ""
            },
            "type": "choropleth"
           }
          ],
          "contour": [
           {
            "colorbar": {
             "outlinewidth": 0,
             "ticks": ""
            },
            "colorscale": [
             [
              0,
              "#0d0887"
             ],
             [
              0.1111111111111111,
              "#46039f"
             ],
             [
              0.2222222222222222,
              "#7201a8"
             ],
             [
              0.3333333333333333,
              "#9c179e"
             ],
             [
              0.4444444444444444,
              "#bd3786"
             ],
             [
              0.5555555555555556,
              "#d8576b"
             ],
             [
              0.6666666666666666,
              "#ed7953"
             ],
             [
              0.7777777777777778,
              "#fb9f3a"
             ],
             [
              0.8888888888888888,
              "#fdca26"
             ],
             [
              1,
              "#f0f921"
             ]
            ],
            "type": "contour"
           }
          ],
          "contourcarpet": [
           {
            "colorbar": {
             "outlinewidth": 0,
             "ticks": ""
            },
            "type": "contourcarpet"
           }
          ],
          "heatmap": [
           {
            "colorbar": {
             "outlinewidth": 0,
             "ticks": ""
            },
            "colorscale": [
             [
              0,
              "#0d0887"
             ],
             [
              0.1111111111111111,
              "#46039f"
             ],
             [
              0.2222222222222222,
              "#7201a8"
             ],
             [
              0.3333333333333333,
              "#9c179e"
             ],
             [
              0.4444444444444444,
              "#bd3786"
             ],
             [
              0.5555555555555556,
              "#d8576b"
             ],
             [
              0.6666666666666666,
              "#ed7953"
             ],
             [
              0.7777777777777778,
              "#fb9f3a"
             ],
             [
              0.8888888888888888,
              "#fdca26"
             ],
             [
              1,
              "#f0f921"
             ]
            ],
            "type": "heatmap"
           }
          ],
          "heatmapgl": [
           {
            "colorbar": {
             "outlinewidth": 0,
             "ticks": ""
            },
            "colorscale": [
             [
              0,
              "#0d0887"
             ],
             [
              0.1111111111111111,
              "#46039f"
             ],
             [
              0.2222222222222222,
              "#7201a8"
             ],
             [
              0.3333333333333333,
              "#9c179e"
             ],
             [
              0.4444444444444444,
              "#bd3786"
             ],
             [
              0.5555555555555556,
              "#d8576b"
             ],
             [
              0.6666666666666666,
              "#ed7953"
             ],
             [
              0.7777777777777778,
              "#fb9f3a"
             ],
             [
              0.8888888888888888,
              "#fdca26"
             ],
             [
              1,
              "#f0f921"
             ]
            ],
            "type": "heatmapgl"
           }
          ],
          "histogram": [
           {
            "marker": {
             "pattern": {
              "fillmode": "overlay",
              "size": 10,
              "solidity": 0.2
             }
            },
            "type": "histogram"
           }
          ],
          "histogram2d": [
           {
            "colorbar": {
             "outlinewidth": 0,
             "ticks": ""
            },
            "colorscale": [
             [
              0,
              "#0d0887"
             ],
             [
              0.1111111111111111,
              "#46039f"
             ],
             [
              0.2222222222222222,
              "#7201a8"
             ],
             [
              0.3333333333333333,
              "#9c179e"
             ],
             [
              0.4444444444444444,
              "#bd3786"
             ],
             [
              0.5555555555555556,
              "#d8576b"
             ],
             [
              0.6666666666666666,
              "#ed7953"
             ],
             [
              0.7777777777777778,
              "#fb9f3a"
             ],
             [
              0.8888888888888888,
              "#fdca26"
             ],
             [
              1,
              "#f0f921"
             ]
            ],
            "type": "histogram2d"
           }
          ],
          "histogram2dcontour": [
           {
            "colorbar": {
             "outlinewidth": 0,
             "ticks": ""
            },
            "colorscale": [
             [
              0,
              "#0d0887"
             ],
             [
              0.1111111111111111,
              "#46039f"
             ],
             [
              0.2222222222222222,
              "#7201a8"
             ],
             [
              0.3333333333333333,
              "#9c179e"
             ],
             [
              0.4444444444444444,
              "#bd3786"
             ],
             [
              0.5555555555555556,
              "#d8576b"
             ],
             [
              0.6666666666666666,
              "#ed7953"
             ],
             [
              0.7777777777777778,
              "#fb9f3a"
             ],
             [
              0.8888888888888888,
              "#fdca26"
             ],
             [
              1,
              "#f0f921"
             ]
            ],
            "type": "histogram2dcontour"
           }
          ],
          "mesh3d": [
           {
            "colorbar": {
             "outlinewidth": 0,
             "ticks": ""
            },
            "type": "mesh3d"
           }
          ],
          "parcoords": [
           {
            "line": {
             "colorbar": {
              "outlinewidth": 0,
              "ticks": ""
             }
            },
            "type": "parcoords"
           }
          ],
          "pie": [
           {
            "automargin": true,
            "type": "pie"
           }
          ],
          "scatter": [
           {
            "marker": {
             "line": {
              "color": "#283442"
             }
            },
            "type": "scatter"
           }
          ],
          "scatter3d": [
           {
            "line": {
             "colorbar": {
              "outlinewidth": 0,
              "ticks": ""
             }
            },
            "marker": {
             "colorbar": {
              "outlinewidth": 0,
              "ticks": ""
             }
            },
            "type": "scatter3d"
           }
          ],
          "scattercarpet": [
           {
            "marker": {
             "colorbar": {
              "outlinewidth": 0,
              "ticks": ""
             }
            },
            "type": "scattercarpet"
           }
          ],
          "scattergeo": [
           {
            "marker": {
             "colorbar": {
              "outlinewidth": 0,
              "ticks": ""
             }
            },
            "type": "scattergeo"
           }
          ],
          "scattergl": [
           {
            "marker": {
             "line": {
              "color": "#283442"
             }
            },
            "type": "scattergl"
           }
          ],
          "scattermapbox": [
           {
            "marker": {
             "colorbar": {
              "outlinewidth": 0,
              "ticks": ""
             }
            },
            "type": "scattermapbox"
           }
          ],
          "scatterpolar": [
           {
            "marker": {
             "colorbar": {
              "outlinewidth": 0,
              "ticks": ""
             }
            },
            "type": "scatterpolar"
           }
          ],
          "scatterpolargl": [
           {
            "marker": {
             "colorbar": {
              "outlinewidth": 0,
              "ticks": ""
             }
            },
            "type": "scatterpolargl"
           }
          ],
          "scatterternary": [
           {
            "marker": {
             "colorbar": {
              "outlinewidth": 0,
              "ticks": ""
             }
            },
            "type": "scatterternary"
           }
          ],
          "surface": [
           {
            "colorbar": {
             "outlinewidth": 0,
             "ticks": ""
            },
            "colorscale": [
             [
              0,
              "#0d0887"
             ],
             [
              0.1111111111111111,
              "#46039f"
             ],
             [
              0.2222222222222222,
              "#7201a8"
             ],
             [
              0.3333333333333333,
              "#9c179e"
             ],
             [
              0.4444444444444444,
              "#bd3786"
             ],
             [
              0.5555555555555556,
              "#d8576b"
             ],
             [
              0.6666666666666666,
              "#ed7953"
             ],
             [
              0.7777777777777778,
              "#fb9f3a"
             ],
             [
              0.8888888888888888,
              "#fdca26"
             ],
             [
              1,
              "#f0f921"
             ]
            ],
            "type": "surface"
           }
          ],
          "table": [
           {
            "cells": {
             "fill": {
              "color": "#506784"
             },
             "line": {
              "color": "rgb(17,17,17)"
             }
            },
            "header": {
             "fill": {
              "color": "#2a3f5f"
             },
             "line": {
              "color": "rgb(17,17,17)"
             }
            },
            "type": "table"
           }
          ]
         },
         "layout": {
          "annotationdefaults": {
           "arrowcolor": "#f2f5fa",
           "arrowhead": 0,
           "arrowwidth": 1
          },
          "autotypenumbers": "strict",
          "coloraxis": {
           "colorbar": {
            "outlinewidth": 0,
            "ticks": ""
           }
          },
          "colorscale": {
           "diverging": [
            [
             0,
             "#8e0152"
            ],
            [
             0.1,
             "#c51b7d"
            ],
            [
             0.2,
             "#de77ae"
            ],
            [
             0.3,
             "#f1b6da"
            ],
            [
             0.4,
             "#fde0ef"
            ],
            [
             0.5,
             "#f7f7f7"
            ],
            [
             0.6,
             "#e6f5d0"
            ],
            [
             0.7,
             "#b8e186"
            ],
            [
             0.8,
             "#7fbc41"
            ],
            [
             0.9,
             "#4d9221"
            ],
            [
             1,
             "#276419"
            ]
           ],
           "sequential": [
            [
             0,
             "#0d0887"
            ],
            [
             0.1111111111111111,
             "#46039f"
            ],
            [
             0.2222222222222222,
             "#7201a8"
            ],
            [
             0.3333333333333333,
             "#9c179e"
            ],
            [
             0.4444444444444444,
             "#bd3786"
            ],
            [
             0.5555555555555556,
             "#d8576b"
            ],
            [
             0.6666666666666666,
             "#ed7953"
            ],
            [
             0.7777777777777778,
             "#fb9f3a"
            ],
            [
             0.8888888888888888,
             "#fdca26"
            ],
            [
             1,
             "#f0f921"
            ]
           ],
           "sequentialminus": [
            [
             0,
             "#0d0887"
            ],
            [
             0.1111111111111111,
             "#46039f"
            ],
            [
             0.2222222222222222,
             "#7201a8"
            ],
            [
             0.3333333333333333,
             "#9c179e"
            ],
            [
             0.4444444444444444,
             "#bd3786"
            ],
            [
             0.5555555555555556,
             "#d8576b"
            ],
            [
             0.6666666666666666,
             "#ed7953"
            ],
            [
             0.7777777777777778,
             "#fb9f3a"
            ],
            [
             0.8888888888888888,
             "#fdca26"
            ],
            [
             1,
             "#f0f921"
            ]
           ]
          },
          "colorway": [
           "#636efa",
           "#EF553B",
           "#00cc96",
           "#ab63fa",
           "#FFA15A",
           "#19d3f3",
           "#FF6692",
           "#B6E880",
           "#FF97FF",
           "#FECB52"
          ],
          "font": {
           "color": "#f2f5fa"
          },
          "geo": {
           "bgcolor": "rgb(17,17,17)",
           "lakecolor": "rgb(17,17,17)",
           "landcolor": "rgb(17,17,17)",
           "showlakes": true,
           "showland": true,
           "subunitcolor": "#506784"
          },
          "hoverlabel": {
           "align": "left"
          },
          "hovermode": "closest",
          "mapbox": {
           "style": "dark"
          },
          "paper_bgcolor": "rgb(17,17,17)",
          "plot_bgcolor": "rgb(17,17,17)",
          "polar": {
           "angularaxis": {
            "gridcolor": "#506784",
            "linecolor": "#506784",
            "ticks": ""
           },
           "bgcolor": "rgb(17,17,17)",
           "radialaxis": {
            "gridcolor": "#506784",
            "linecolor": "#506784",
            "ticks": ""
           }
          },
          "scene": {
           "xaxis": {
            "backgroundcolor": "rgb(17,17,17)",
            "gridcolor": "#506784",
            "gridwidth": 2,
            "linecolor": "#506784",
            "showbackground": true,
            "ticks": "",
            "zerolinecolor": "#C8D4E3"
           },
           "yaxis": {
            "backgroundcolor": "rgb(17,17,17)",
            "gridcolor": "#506784",
            "gridwidth": 2,
            "linecolor": "#506784",
            "showbackground": true,
            "ticks": "",
            "zerolinecolor": "#C8D4E3"
           },
           "zaxis": {
            "backgroundcolor": "rgb(17,17,17)",
            "gridcolor": "#506784",
            "gridwidth": 2,
            "linecolor": "#506784",
            "showbackground": true,
            "ticks": "",
            "zerolinecolor": "#C8D4E3"
           }
          },
          "shapedefaults": {
           "line": {
            "color": "#f2f5fa"
           }
          },
          "sliderdefaults": {
           "bgcolor": "#C8D4E3",
           "bordercolor": "rgb(17,17,17)",
           "borderwidth": 1,
           "tickwidth": 0
          },
          "ternary": {
           "aaxis": {
            "gridcolor": "#506784",
            "linecolor": "#506784",
            "ticks": ""
           },
           "baxis": {
            "gridcolor": "#506784",
            "linecolor": "#506784",
            "ticks": ""
           },
           "bgcolor": "rgb(17,17,17)",
           "caxis": {
            "gridcolor": "#506784",
            "linecolor": "#506784",
            "ticks": ""
           }
          },
          "title": {
           "x": 0.05
          },
          "updatemenudefaults": {
           "bgcolor": "#506784",
           "borderwidth": 0
          },
          "xaxis": {
           "automargin": true,
           "gridcolor": "#283442",
           "linecolor": "#506784",
           "ticks": "",
           "title": {
            "standoff": 15
           },
           "zerolinecolor": "#283442",
           "zerolinewidth": 2
          },
          "yaxis": {
           "automargin": true,
           "gridcolor": "#283442",
           "linecolor": "#506784",
           "ticks": "",
           "title": {
            "standoff": 15
           },
           "zerolinecolor": "#283442",
           "zerolinewidth": 2
          }
         }
        },
        "title": {
         "text": "K-medoids clusters of positive and negative diagnosis"
        },
        "xaxis": {
         "anchor": "y",
         "domain": [
          0,
          1
         ],
         "showgrid": false,
         "title": {
          "text": "x"
         },
         "visible": false,
         "zeroline": false
        },
        "yaxis": {
         "anchor": "x",
         "domain": [
          0,
          1
         ],
         "showgrid": false,
         "title": {
          "text": "y"
         },
         "visible": false,
         "zeroline": false
        }
       }
      }
     },
     "metadata": {},
     "output_type": "display_data"
    }
   ],
   "source": [
    "from sklearn_extra.cluster import KMedoids\n",
    "import plotly.express as px\n",
    "import plotly.graph_objects as go\n",
    "\n",
    "ks = range(1, 6)\n",
    "inertias_kmedoids = []\n",
    "\n",
    "for k in ks:\n",
    "    model = KMedoids(n_clusters=k)\n",
    "    model.fit(pca_df)\n",
    "    inertias_kmedoids.append(model.inertia_)\n",
    "\n",
    "fig = px.line(x=ks, y=inertias_kmedoids, markers=True, title='Optimal number of clusters for K-medoids', template='plotly_dark')\n",
    "fig.update_layout(title='Number of clusters vs Inertia (K-medoids)')\n",
    "fig.update_xaxes(title_text=\"Number of clusters\")\n",
    "fig.update_yaxes(title_text=\"Inertia\")\n",
    "fig.show()\n",
    "\n",
    "model = KMedoids(n_clusters=2)\n",
    "cluster_labels = model.fit_predict(pca_df)\n",
    "centroids = model.cluster_centers_\n",
    "\n",
    "centroids_x = centroids[:, 0]\n",
    "centroids_y = centroids[:, 1]\n",
    "\n",
    "fig = px.scatter(pca_df, x=pca_df[:, 0], y=pca_df[:, 1], color=cluster_labels, template='plotly_dark')\n",
    "fig.update_layout(title='K-medoids clusters of positive and negative diagnosis')\n",
    "fig.update_layout(xaxis_visible=False, yaxis_visible=False, \n",
    "                  xaxis=dict(showgrid=False, zeroline=False), \n",
    "                  yaxis=dict(showgrid=False, zeroline=False))\n",
    "fig.add_trace(go.Scatter(x=centroids_x, y=centroids_y, mode='markers', \n",
    "                         marker=dict(color='red', size=6)))\n",
    "fig.show()\n"
   ]
  },
  {
   "attachments": {},
   "cell_type": "markdown",
   "id": "db4dea17",
   "metadata": {},
   "source": [
    "#### Hierarchical clustering:"
   ]
  },
  {
   "cell_type": "code",
   "execution_count": 28,
   "id": "2ccfcc61",
   "metadata": {},
   "outputs": [
    {
     "data": {
      "application/vnd.plotly.v1+json": {
       "config": {
        "plotlyServerURL": "https://plot.ly"
       },
       "data": [
        {
         "hovertemplate": "x=%{x}<br>y=%{y}<br>color=%{marker.color}<extra></extra>",
         "legendgroup": "",
         "marker": {
          "color": [
           0,
           1,
           1,
           0,
           1,
           0,
           0,
           1,
           0,
           1,
           0,
           1,
           0,
           1,
           1,
           0,
           1,
           0,
           0,
           1,
           0,
           0,
           0,
           0,
           1,
           0,
           0,
           1,
           1,
           1,
           1,
           1,
           0,
           1,
           1,
           0,
           1,
           0,
           0,
           0,
           0,
           0,
           0,
           1,
           1,
           0,
           0,
           0,
           1,
           1,
           1,
           1,
           0,
           0,
           0,
           0,
           0,
           1,
           0,
           1,
           1,
           0,
           1,
           1,
           1,
           1,
           0,
           1,
           0,
           0,
           1,
           0,
           0,
           0,
           0,
           0,
           1,
           1,
           0,
           0,
           0,
           0,
           0,
           1,
           0,
           1,
           0,
           0,
           0,
           0,
           0,
           0,
           1,
           0,
           0,
           0,
           1,
           0,
           1,
           1,
           1,
           0,
           1,
           0,
           1,
           0,
           0,
           1,
           0,
           1,
           0,
           0,
           1,
           1,
           1,
           0,
           0,
           0,
           0,
           0,
           0,
           0,
           0,
           0,
           1,
           0,
           1,
           0,
           0,
           0,
           0,
           1,
           0,
           0,
           0,
           0,
           1,
           0,
           0,
           0,
           1,
           1,
           1,
           0,
           1,
           0,
           0,
           1,
           1,
           0,
           0,
           1,
           1,
           0,
           0,
           0,
           1,
           0,
           0,
           0,
           1,
           0,
           1,
           1,
           0,
           0,
           0,
           0,
           0,
           0,
           1,
           0,
           0,
           0,
           1,
           0,
           1,
           0,
           0,
           1,
           1,
           1,
           0,
           1,
           0,
           0,
           1,
           1,
           0,
           0,
           0,
           1,
           0,
           0,
           0,
           0,
           0,
           0,
           0,
           0,
           1,
           1,
           1,
           0,
           0,
           0,
           0,
           1,
           0,
           1,
           1,
           1,
           0,
           1,
           1,
           1,
           1,
           0,
           1,
           0,
           1,
           0,
           1,
           0,
           0,
           1,
           0,
           0,
           1,
           0,
           1,
           0,
           1,
           0,
           0,
           0,
           0,
           1,
           0,
           1,
           1,
           0,
           0,
           1,
           0,
           1,
           0,
           0,
           1,
           0,
           1,
           0,
           1,
           0,
           1,
           0,
           0,
           1,
           0,
           1,
           1,
           1,
           1,
           0,
           0,
           0,
           0,
           1,
           1,
           0,
           1,
           0,
           0,
           0,
           0,
           0,
           0,
           0,
           1,
           0,
           0,
           1,
           0,
           1,
           0,
           1,
           1,
           1,
           0,
           0,
           1,
           0,
           0,
           1,
           0,
           0,
           0,
           1
          ],
          "coloraxis": "coloraxis",
          "symbol": "circle"
         },
         "mode": "markers",
         "name": "",
         "orientation": "v",
         "showlegend": false,
         "type": "scatter",
         "x": [
          -0.3064454655794499,
          2.65655233506875,
          3.447667296489485,
          -0.7840072255605354,
          2.9856474476231813,
          0.013056082189751277,
          2.7367628044263843,
          1.566707927321065,
          -0.20194233940582607,
          3.908842121105084,
          0.4017675556643875,
          2.321585600085516,
          -3.819200836059154,
          4.6150521429504066,
          0.0021211625153320915,
          0.16420070291632652,
          3.435103647079999,
          -1.0504756189332287,
          -1.661408973852078,
          0.937181351560958,
          -0.9376507450601436,
          0.6212672651098786,
          -2.0807135780951826,
          -2.1151837517246794,
          1.4085313879124643,
          -2.27288007132385,
          -0.6152481431319917,
          0.2621264294043348,
          3.829675974389051,
          1.7499090227491498,
          1.8019565096989996,
          3.8778864068726704,
          -2.7695630581542185,
          1.2707211928707742,
          0.9348524266505713,
          -2.07611365939044,
          2.444531176487003,
          0.08563006203504414,
          -0.1760641321516604,
          -0.1652862595895456,
          -1.6226198661036504,
          -1.19268449862266,
          -2.4195050003688015,
          -1.233656234019718,
          1.6540074907464644,
          -0.1862798310924207,
          0.07430518037311595,
          -0.8550692968738988,
          1.2169870720552682,
          1.4671078457947537,
          5.4812106013128234,
          0.010700248232463527,
          -1.9858861650354016,
          0.31983991010191537,
          -1.1637288543034794,
          -3.9642154851188893,
          1.3115470734539125,
          -0.3776423324856057,
          -0.40530382195685805,
          -0.026964285576232504,
          1.1407993801811933,
          -2.6539782361639808,
          5.452507556083686,
          3.9069478179147317,
          1.7894782814274914,
          1.6087630341750068,
          -0.4946640061345776,
          -0.00167161961728311,
          -1.9612088321675158,
          -1.6411118507989368,
          3.2117686281105002,
          -1.2288322584284903,
          -0.6505275520214105,
          -0.5675431501288433,
          -2.2496326587771835,
          0.6251743667089608,
          2.8349698972717396,
          3.0545261740948684,
          -2.9172128941349897,
          -1.3471496565831282,
          -0.46077687513578913,
          -0.4672810680040448,
          -0.71089168028256,
          3.874313433942045,
          -1.2540280518235611,
          1.1100619651149852,
          -1.677436663460893,
          -1.5155847362419061,
          -2.2024902047376442,
          -3.7163513290765584,
          0.8230148637957507,
          -0.018176316559984078,
          2.590058905193293,
          -2.2146055593307756,
          0.5316217936426273,
          -3.0539413048366506,
          0.9611104627627874,
          1.8024938818558398,
          1.2928341899777083,
          0.9657212959446482,
          2.4153728018560776,
          -1.8860639584412096,
          3.213743571579885,
          -0.07311714583959003,
          3.36963778922656,
          -1.4837306837415196,
          0.22345328566580985,
          -0.6277631229883738,
          -1.4094080265417166,
          2.771221560103078,
          0.33790171273622766,
          -2.8575160424531805,
          3.4478045632890875,
          0.5188622665370142,
          1.082987107617715,
          -3.984401620367359,
          -2.159027678667974,
          1.0962709260845813,
          -1.147118587831994,
          -2.6111576477870693,
          -0.7293856790183463,
          -2.646223484903352,
          -1.2320641301654116,
          -0.5570798045070312,
          2.5481507370128242,
          -1.397066036594127,
          -0.02412904240214712,
          -2.8623283017742187,
          0.855093103367066,
          -0.7253856499694494,
          -0.4565498945133148,
          2.434050232785375,
          -0.31649096903947316,
          -0.8851835348538637,
          -1.937669183757152,
          -1.0124919466698334,
          3.2438005953685765,
          -0.7935058762734385,
          -4.205697753975661,
          1.9289199292512271,
          5.583782473294886,
          4.320239881515607,
          2.076924912807881,
          0.044571324486563924,
          0.7058773385083729,
          -2.350876723051673,
          -1.8167619567921072,
          2.603922471240832,
          2.071069255639514,
          -3.762402778945603,
          -1.7021808190909,
          0.6318420603858533,
          3.840072877368025,
          -1.820357513228509,
          -3.3064115526057316,
          -2.370082598916458,
          1.4674126773142087,
          -0.023220858367385633,
          -1.5754526397507025,
          -1.2656142152988608,
          2.13476920192974,
          -2.0211208764173807,
          2.6142237788744516,
          2.7249900287480737,
          -1.485157232530123,
          -1.6278664438299475,
          -0.49476396978375226,
          -1.729708318733734,
          -2.2795220869595703,
          -1.6223416829144317,
          2.976333197617031,
          -1.893088937116151,
          -2.001416513631658,
          -0.37564094609045845,
          1.0187076373866015,
          -0.7649939352453637,
          0.3665002333515477,
          -3.0752764531468393,
          -1.8275713309906305,
          1.6697221807837264,
          1.1840351434234786,
          0.5114907842560747,
          -2.243678944101933,
          0.6229167819195807,
          -2.3838371102559055,
          -2.308116887427069,
          2.8880494261579734,
          0.5147362952318503,
          -0.841046195852209,
          -2.6767503888725597,
          -1.9877656866609983,
          1.1181911558839155,
          -1.2473416232811654,
          -3.2395034929779505,
          -1.7452032815972305,
          -2.7037392038004153,
          -1.7923305877498652,
          -0.19451400266440844,
          -0.11369786584881712,
          -1.8835580693207958,
          3.706859632665039,
          1.0740731216061283,
          1.8199780711752844,
          -1.7460261580698342,
          -3.441710933416313,
          -1.8910512796754018,
          -1.9062639075235657,
          3.8178404202584377,
          0.2059440494975578,
          1.3431401756560886,
          -0.7195411335139952,
          -0.36289779208574513,
          -1.480038791870636,
          1.1053854117428237,
          1.8449438791888033,
          1.9390906893465145,
          3.433393550228936,
          0.2599513489265162,
          -0.18063399287905318,
          -1.3422884363624525,
          2.706152771369071,
          0.3537001745358453,
          0.8838596082496801,
          -0.4087051736818396,
          -1.0557595872768413,
          1.8941806448591065,
          0.3560784947547514,
          -0.5067842856893238,
          2.6960644884406464,
          -1.2276547565030378,
          1.207247142010941,
          -1.4680308737151526,
          -0.14459826586574384,
          -1.2523328533126157,
          -0.7591801489993302,
          -1.554363251426174,
          0.41802976938395814,
          0.38223792863679673,
          -1.1308208409200868,
          2.124924097567705,
          2.7088171174780267,
          0.6628400726378846,
          -0.7502815345511822,
          1.120148033597455,
          -0.8134577342675484,
          2.2219580989298993,
          -0.31733716882270835,
          -0.6503171387208859,
          0.8451988415957092,
          -1.5409304349059665,
          -1.2226496541330456,
          -2.788690240989742,
          2.689663367779147,
          -2.8504485231840686,
          3.5544746138909225,
          -2.9150642514512977,
          -2.305650500547353,
          3.6405931206740436,
          -1.598992471227706,
          2.105331656253614,
          -0.055201494405996816,
          -0.9092978297354128,
          3.315870097778219,
          -0.6201306548866035,
          -0.7132064638666584,
          -2.0277838168103544,
          -1.3733852006713796,
          3.1875370794352698,
          2.0484160039161425,
          -1.680106532704133,
          -0.36180834057275074,
          -2.6252021988581165,
          -0.8482461038964193,
          0.5046041095653733,
          -2.425694906875183,
          -2.197672840188616,
          -2.641445231898005,
          -1.7401860254868942,
          1.9372995822150025,
          -1.6055343316768422,
          -0.29970773949526136,
          2.2631520781327534,
          -2.0273979018517374,
          0.38656230430858557,
          -0.3443329416372523,
          3.1860103650147074,
          -0.15056608802881424,
          2.5263901759219514,
          -0.3749822624642994,
          -0.7501422143147868,
          0.3622968260673293,
          -0.9404177112784816,
          -1.2982154042985816,
          1.5686726443805252,
          -2.9943605922807723,
          -0.31281274047067004,
          -0.32317745642848067,
          1.8400523598883178
         ],
         "xaxis": "x",
         "y": [
          -1.04843696327686,
          -0.13969555270390774,
          0.7422969863352489,
          -0.9807669691136705,
          0.7479805528575647,
          3.065920321243504,
          3.3400579340279815,
          -0.875095212805483,
          -0.9502023025966799,
          0.20775448722741163,
          3.3321867504094187,
          0.5380504911880081,
          1.6495835720898226,
          0.7845183686855568,
          -1.0218034940454594,
          -1.00000295120913,
          0.12372568568544491,
          -1.309592766769795,
          -1.7618557008840416,
          -0.36842982712390504,
          2.643487476454308,
          3.4677506856659925,
          -0.8880673598945921,
          -1.35746807358779,
          -0.7069432466224659,
          -0.07467542957567211,
          -0.8345887365640654,
          -0.012239644283210064,
          -1.2017359292658814,
          0.5435569949968597,
          1.9982267150042428,
          -0.27480794164967076,
          0.8635424751703009,
          -0.36656958322791816,
          -0.6321069684591407,
          -0.8145119975507651,
          -0.19482556882452878,
          -1.3305323247947873,
          -2.1059334838412656,
          -1.3281365309224122,
          -0.6123311706271735,
          -0.43764618881633216,
          -1.021239414133579,
          0.7622008040276619,
          -1.6887357616382412,
          -1.4556875596801906,
          2.144060812961021,
          -2.300010998000573,
          0.04101961050294474,
          -0.13203726851388445,
          1.4815938951212866,
          -1.1038242368674058,
          -0.3596647475996504,
          -1.1789072694854263,
          -1.490346263251413,
          -0.49540790329624296,
          3.1445289188088563,
          -1.5106839792668547,
          -2.2728746344299444,
          0.20662912499653358,
          1.080849128594222,
          -1.4333175036066859,
          0.527151551598768,
          -0.6743324212317949,
          0.026295601782502006,
          -1.0528074585128573,
          -0.34428072514269903,
          0.058253312885885436,
          -0.5061264643414922,
          -2.2379026402544366,
          0.4696200639903193,
          0.24605168727377813,
          -0.8578349807977558,
          2.902311106089701,
          -1.347004171618629,
          -1.1887735333215335,
          -0.28030980753675805,
          -0.11995549031247485,
          1.4419666031036382,
          -1.3376839798510276,
          -1.6939263130933775,
          0.5062787178925263,
          -1.7567117489249238,
          0.5021540107854463,
          2.046195292342384,
          0.022265130439582826,
          -1.2562792229032933,
          -1.5451594672862894,
          1.7993404550486587,
          1.3282114478448586,
          3.2653255211448164,
          -0.870909491151843,
          -0.3344585094342885,
          -1.3260006410009681,
          3.5359189314810395,
          2.1720162371239735,
          0.12092473286697238,
          2.9676803237895077,
          -1.0160016092668747,
          0.44075818717514037,
          0.6289594796962882,
          -1.5285923317173642,
          -0.1261941045217842,
          -2.257062877272459,
          -0.05057883451357138,
          -1.8394165651165673,
          -1.341719698105503,
          -0.21012387930801238,
          -0.17460281178973472,
          -0.9097818840917677,
          -2.742103378935585,
          2.2814991757732046,
          0.5092484416593906,
          -0.31015907211012683,
          0.4716145247551529,
          1.6485097974227094,
          2.610655986933799,
          4.061789689348041,
          -1.732424334212777,
          2.5467572622817083,
          -2.28137561300635,
          -1.8900178531712746,
          -3.945662225798786,
          -1.8140523413777143,
          0.3376467367363361,
          -0.8085021942799543,
          0.7919959704812053,
          -1.2178841876693733,
          -1.5602113181298465,
          3.0632288626015147,
          -1.4077829306969971,
          2.0035793972175533,
          -1.4012167743558448,
          -0.07965233580980699,
          2.9427480433731277,
          -1.0957097981069746,
          1.1610951907364422,
          -1.3092549361128927,
          2.2773487539872685,
          3.6710189815507013,
          -2.1022366016171996,
          0.5613734706575585,
          0.27890143017510005,
          2.526224235670084,
          -1.0248528069853406,
          0.4228837188163468,
          -2.0410477244982084,
          -1.147282883925916,
          -0.8474783544059393,
          1.4570733045038868,
          -0.14952282941827783,
          -1.7385469178192074,
          -0.10970493162853272,
          2.5264130218091783,
          1.4113974797071784,
          1.6687883565958637,
          0.22341128547320288,
          -1.8928351782589186,
          -1.716807029631242,
          -2.044634240351307,
          -0.1841521151643989,
          -0.2637230960062909,
          0.8681534152304505,
          0.39756562003191537,
          -0.1875732138994855,
          -1.3475050975326786,
          -1.355001654544572,
          2.0889513576826078,
          -2.2353049239611615,
          -1.53796000819859,
          -0.40666753278375833,
          -1.7276155262117214,
          -0.08573460019019678,
          -1.26671339316883,
          -0.6144900122531431,
          -0.5462589351234275,
          -1.8132560613277202,
          -0.4543851338207616,
          0.1377677166686639,
          0.7756484514085157,
          0.4503924356121364,
          -1.2665424501829976,
          0.25418128318991157,
          -0.8414672265424356,
          -1.50503309361578,
          -1.6779493349776247,
          0.5661694033615688,
          0.06551632246402442,
          1.517912026002775,
          2.35024122073262,
          -1.6462950331329065,
          -0.8125874145034289,
          0.264002291746358,
          2.414045682258755,
          -0.04334807669175556,
          -1.1653266493695704,
          0.10096546982657997,
          -1.1474588680312465,
          -1.8517730135236088,
          -2.1825463774028995,
          -0.17120072742288103,
          -1.0771448588654031,
          -0.2479539092128862,
          -1.8677920624338145,
          2.088336597632155,
          2.713771755394881,
          -0.15668560655449723,
          0.42096892081628196,
          -0.9782640764628052,
          -0.863037180989088,
          -0.9482294365393248,
          0.34892341387250836,
          0.04244198536959789,
          -0.43273233809277106,
          -0.46821672007484433,
          -0.07729242939984368,
          1.1125076703312515,
          2.5522374880349648,
          0.2502011750126112,
          2.3542678592798088,
          1.4636607366677878,
          -1.335409949663578,
          0.7240168456852086,
          -1.552159048146376,
          -2.054058174547604,
          1.048173988404443,
          3.4839259331650934,
          0.32372329456218035,
          -0.04107295277371785,
          -0.15795719768563746,
          0.6462744515139417,
          -0.8656996247221624,
          2.204342827231566,
          2.4457358299153724,
          2.2996717882857762,
          2.933514378451166,
          -1.3015582248361288,
          -0.18625768184556246,
          -0.8533651755525233,
          0.9739517437058556,
          0.5068378360555225,
          2.977029982233775,
          -1.1603897193639778,
          -1.2110790488782117,
          2.4351855718435464,
          -2.9755362324191648,
          -1.5317551490554988,
          3.0762254160776927,
          0.7504711482742825,
          -1.5530725196633477,
          -1.122026796985178,
          1.9808608352695358,
          0.0032495265859931164,
          1.6416169412347217,
          0.08686833281093037,
          -0.5944960546902779,
          2.2321705609404514,
          -0.870739959422088,
          -0.16273161661523564,
          -0.7117443037087258,
          1.0890187114112162,
          0.2579262444501831,
          -0.00019046383354950262,
          0.20885341722027226,
          -0.6865354993181133,
          2.028220041644073,
          -2.005389117630115,
          -1.3801792110979836,
          -0.7306651750408306,
          -0.1537699033198951,
          -0.9618743442324776,
          -1.5327331300804585,
          1.658735317812463,
          -1.7394650131650644,
          1.9311659128379681,
          -1.2126943565666548,
          2.208392097876888,
          -0.12867490297666806,
          -0.038186857540674066,
          -1.0958497287265576,
          2.775460023069725,
          0.12999007519036074,
          1.8376564055620483,
          -0.9571405620253863,
          -1.2129373954039324,
          1.7457111192107804,
          -0.5768762006143322,
          -0.1537648848610288,
          -0.066500269809492,
          2.8969147565017344,
          -0.5672759670227149,
          2.276887784587119,
          -1.664211051412071,
          -0.5058153888211082,
          2.3922793776600666,
          -1.2177631729062377,
          -1.5930516289890688,
          0.36280963713256975
         ],
         "yaxis": "y"
        }
       ],
       "layout": {
        "coloraxis": {
         "colorbar": {
          "title": {
           "text": "color"
          }
         },
         "colorscale": [
          [
           0,
           "#0d0887"
          ],
          [
           0.1111111111111111,
           "#46039f"
          ],
          [
           0.2222222222222222,
           "#7201a8"
          ],
          [
           0.3333333333333333,
           "#9c179e"
          ],
          [
           0.4444444444444444,
           "#bd3786"
          ],
          [
           0.5555555555555556,
           "#d8576b"
          ],
          [
           0.6666666666666666,
           "#ed7953"
          ],
          [
           0.7777777777777778,
           "#fb9f3a"
          ],
          [
           0.8888888888888888,
           "#fdca26"
          ],
          [
           1,
           "#f0f921"
          ]
         ]
        },
        "legend": {
         "tracegroupgap": 0
        },
        "margin": {
         "t": 60
        },
        "template": {
         "data": {
          "bar": [
           {
            "error_x": {
             "color": "#f2f5fa"
            },
            "error_y": {
             "color": "#f2f5fa"
            },
            "marker": {
             "line": {
              "color": "rgb(17,17,17)",
              "width": 0.5
             },
             "pattern": {
              "fillmode": "overlay",
              "size": 10,
              "solidity": 0.2
             }
            },
            "type": "bar"
           }
          ],
          "barpolar": [
           {
            "marker": {
             "line": {
              "color": "rgb(17,17,17)",
              "width": 0.5
             },
             "pattern": {
              "fillmode": "overlay",
              "size": 10,
              "solidity": 0.2
             }
            },
            "type": "barpolar"
           }
          ],
          "carpet": [
           {
            "aaxis": {
             "endlinecolor": "#A2B1C6",
             "gridcolor": "#506784",
             "linecolor": "#506784",
             "minorgridcolor": "#506784",
             "startlinecolor": "#A2B1C6"
            },
            "baxis": {
             "endlinecolor": "#A2B1C6",
             "gridcolor": "#506784",
             "linecolor": "#506784",
             "minorgridcolor": "#506784",
             "startlinecolor": "#A2B1C6"
            },
            "type": "carpet"
           }
          ],
          "choropleth": [
           {
            "colorbar": {
             "outlinewidth": 0,
             "ticks": ""
            },
            "type": "choropleth"
           }
          ],
          "contour": [
           {
            "colorbar": {
             "outlinewidth": 0,
             "ticks": ""
            },
            "colorscale": [
             [
              0,
              "#0d0887"
             ],
             [
              0.1111111111111111,
              "#46039f"
             ],
             [
              0.2222222222222222,
              "#7201a8"
             ],
             [
              0.3333333333333333,
              "#9c179e"
             ],
             [
              0.4444444444444444,
              "#bd3786"
             ],
             [
              0.5555555555555556,
              "#d8576b"
             ],
             [
              0.6666666666666666,
              "#ed7953"
             ],
             [
              0.7777777777777778,
              "#fb9f3a"
             ],
             [
              0.8888888888888888,
              "#fdca26"
             ],
             [
              1,
              "#f0f921"
             ]
            ],
            "type": "contour"
           }
          ],
          "contourcarpet": [
           {
            "colorbar": {
             "outlinewidth": 0,
             "ticks": ""
            },
            "type": "contourcarpet"
           }
          ],
          "heatmap": [
           {
            "colorbar": {
             "outlinewidth": 0,
             "ticks": ""
            },
            "colorscale": [
             [
              0,
              "#0d0887"
             ],
             [
              0.1111111111111111,
              "#46039f"
             ],
             [
              0.2222222222222222,
              "#7201a8"
             ],
             [
              0.3333333333333333,
              "#9c179e"
             ],
             [
              0.4444444444444444,
              "#bd3786"
             ],
             [
              0.5555555555555556,
              "#d8576b"
             ],
             [
              0.6666666666666666,
              "#ed7953"
             ],
             [
              0.7777777777777778,
              "#fb9f3a"
             ],
             [
              0.8888888888888888,
              "#fdca26"
             ],
             [
              1,
              "#f0f921"
             ]
            ],
            "type": "heatmap"
           }
          ],
          "heatmapgl": [
           {
            "colorbar": {
             "outlinewidth": 0,
             "ticks": ""
            },
            "colorscale": [
             [
              0,
              "#0d0887"
             ],
             [
              0.1111111111111111,
              "#46039f"
             ],
             [
              0.2222222222222222,
              "#7201a8"
             ],
             [
              0.3333333333333333,
              "#9c179e"
             ],
             [
              0.4444444444444444,
              "#bd3786"
             ],
             [
              0.5555555555555556,
              "#d8576b"
             ],
             [
              0.6666666666666666,
              "#ed7953"
             ],
             [
              0.7777777777777778,
              "#fb9f3a"
             ],
             [
              0.8888888888888888,
              "#fdca26"
             ],
             [
              1,
              "#f0f921"
             ]
            ],
            "type": "heatmapgl"
           }
          ],
          "histogram": [
           {
            "marker": {
             "pattern": {
              "fillmode": "overlay",
              "size": 10,
              "solidity": 0.2
             }
            },
            "type": "histogram"
           }
          ],
          "histogram2d": [
           {
            "colorbar": {
             "outlinewidth": 0,
             "ticks": ""
            },
            "colorscale": [
             [
              0,
              "#0d0887"
             ],
             [
              0.1111111111111111,
              "#46039f"
             ],
             [
              0.2222222222222222,
              "#7201a8"
             ],
             [
              0.3333333333333333,
              "#9c179e"
             ],
             [
              0.4444444444444444,
              "#bd3786"
             ],
             [
              0.5555555555555556,
              "#d8576b"
             ],
             [
              0.6666666666666666,
              "#ed7953"
             ],
             [
              0.7777777777777778,
              "#fb9f3a"
             ],
             [
              0.8888888888888888,
              "#fdca26"
             ],
             [
              1,
              "#f0f921"
             ]
            ],
            "type": "histogram2d"
           }
          ],
          "histogram2dcontour": [
           {
            "colorbar": {
             "outlinewidth": 0,
             "ticks": ""
            },
            "colorscale": [
             [
              0,
              "#0d0887"
             ],
             [
              0.1111111111111111,
              "#46039f"
             ],
             [
              0.2222222222222222,
              "#7201a8"
             ],
             [
              0.3333333333333333,
              "#9c179e"
             ],
             [
              0.4444444444444444,
              "#bd3786"
             ],
             [
              0.5555555555555556,
              "#d8576b"
             ],
             [
              0.6666666666666666,
              "#ed7953"
             ],
             [
              0.7777777777777778,
              "#fb9f3a"
             ],
             [
              0.8888888888888888,
              "#fdca26"
             ],
             [
              1,
              "#f0f921"
             ]
            ],
            "type": "histogram2dcontour"
           }
          ],
          "mesh3d": [
           {
            "colorbar": {
             "outlinewidth": 0,
             "ticks": ""
            },
            "type": "mesh3d"
           }
          ],
          "parcoords": [
           {
            "line": {
             "colorbar": {
              "outlinewidth": 0,
              "ticks": ""
             }
            },
            "type": "parcoords"
           }
          ],
          "pie": [
           {
            "automargin": true,
            "type": "pie"
           }
          ],
          "scatter": [
           {
            "marker": {
             "line": {
              "color": "#283442"
             }
            },
            "type": "scatter"
           }
          ],
          "scatter3d": [
           {
            "line": {
             "colorbar": {
              "outlinewidth": 0,
              "ticks": ""
             }
            },
            "marker": {
             "colorbar": {
              "outlinewidth": 0,
              "ticks": ""
             }
            },
            "type": "scatter3d"
           }
          ],
          "scattercarpet": [
           {
            "marker": {
             "colorbar": {
              "outlinewidth": 0,
              "ticks": ""
             }
            },
            "type": "scattercarpet"
           }
          ],
          "scattergeo": [
           {
            "marker": {
             "colorbar": {
              "outlinewidth": 0,
              "ticks": ""
             }
            },
            "type": "scattergeo"
           }
          ],
          "scattergl": [
           {
            "marker": {
             "line": {
              "color": "#283442"
             }
            },
            "type": "scattergl"
           }
          ],
          "scattermapbox": [
           {
            "marker": {
             "colorbar": {
              "outlinewidth": 0,
              "ticks": ""
             }
            },
            "type": "scattermapbox"
           }
          ],
          "scatterpolar": [
           {
            "marker": {
             "colorbar": {
              "outlinewidth": 0,
              "ticks": ""
             }
            },
            "type": "scatterpolar"
           }
          ],
          "scatterpolargl": [
           {
            "marker": {
             "colorbar": {
              "outlinewidth": 0,
              "ticks": ""
             }
            },
            "type": "scatterpolargl"
           }
          ],
          "scatterternary": [
           {
            "marker": {
             "colorbar": {
              "outlinewidth": 0,
              "ticks": ""
             }
            },
            "type": "scatterternary"
           }
          ],
          "surface": [
           {
            "colorbar": {
             "outlinewidth": 0,
             "ticks": ""
            },
            "colorscale": [
             [
              0,
              "#0d0887"
             ],
             [
              0.1111111111111111,
              "#46039f"
             ],
             [
              0.2222222222222222,
              "#7201a8"
             ],
             [
              0.3333333333333333,
              "#9c179e"
             ],
             [
              0.4444444444444444,
              "#bd3786"
             ],
             [
              0.5555555555555556,
              "#d8576b"
             ],
             [
              0.6666666666666666,
              "#ed7953"
             ],
             [
              0.7777777777777778,
              "#fb9f3a"
             ],
             [
              0.8888888888888888,
              "#fdca26"
             ],
             [
              1,
              "#f0f921"
             ]
            ],
            "type": "surface"
           }
          ],
          "table": [
           {
            "cells": {
             "fill": {
              "color": "#506784"
             },
             "line": {
              "color": "rgb(17,17,17)"
             }
            },
            "header": {
             "fill": {
              "color": "#2a3f5f"
             },
             "line": {
              "color": "rgb(17,17,17)"
             }
            },
            "type": "table"
           }
          ]
         },
         "layout": {
          "annotationdefaults": {
           "arrowcolor": "#f2f5fa",
           "arrowhead": 0,
           "arrowwidth": 1
          },
          "autotypenumbers": "strict",
          "coloraxis": {
           "colorbar": {
            "outlinewidth": 0,
            "ticks": ""
           }
          },
          "colorscale": {
           "diverging": [
            [
             0,
             "#8e0152"
            ],
            [
             0.1,
             "#c51b7d"
            ],
            [
             0.2,
             "#de77ae"
            ],
            [
             0.3,
             "#f1b6da"
            ],
            [
             0.4,
             "#fde0ef"
            ],
            [
             0.5,
             "#f7f7f7"
            ],
            [
             0.6,
             "#e6f5d0"
            ],
            [
             0.7,
             "#b8e186"
            ],
            [
             0.8,
             "#7fbc41"
            ],
            [
             0.9,
             "#4d9221"
            ],
            [
             1,
             "#276419"
            ]
           ],
           "sequential": [
            [
             0,
             "#0d0887"
            ],
            [
             0.1111111111111111,
             "#46039f"
            ],
            [
             0.2222222222222222,
             "#7201a8"
            ],
            [
             0.3333333333333333,
             "#9c179e"
            ],
            [
             0.4444444444444444,
             "#bd3786"
            ],
            [
             0.5555555555555556,
             "#d8576b"
            ],
            [
             0.6666666666666666,
             "#ed7953"
            ],
            [
             0.7777777777777778,
             "#fb9f3a"
            ],
            [
             0.8888888888888888,
             "#fdca26"
            ],
            [
             1,
             "#f0f921"
            ]
           ],
           "sequentialminus": [
            [
             0,
             "#0d0887"
            ],
            [
             0.1111111111111111,
             "#46039f"
            ],
            [
             0.2222222222222222,
             "#7201a8"
            ],
            [
             0.3333333333333333,
             "#9c179e"
            ],
            [
             0.4444444444444444,
             "#bd3786"
            ],
            [
             0.5555555555555556,
             "#d8576b"
            ],
            [
             0.6666666666666666,
             "#ed7953"
            ],
            [
             0.7777777777777778,
             "#fb9f3a"
            ],
            [
             0.8888888888888888,
             "#fdca26"
            ],
            [
             1,
             "#f0f921"
            ]
           ]
          },
          "colorway": [
           "#636efa",
           "#EF553B",
           "#00cc96",
           "#ab63fa",
           "#FFA15A",
           "#19d3f3",
           "#FF6692",
           "#B6E880",
           "#FF97FF",
           "#FECB52"
          ],
          "font": {
           "color": "#f2f5fa"
          },
          "geo": {
           "bgcolor": "rgb(17,17,17)",
           "lakecolor": "rgb(17,17,17)",
           "landcolor": "rgb(17,17,17)",
           "showlakes": true,
           "showland": true,
           "subunitcolor": "#506784"
          },
          "hoverlabel": {
           "align": "left"
          },
          "hovermode": "closest",
          "mapbox": {
           "style": "dark"
          },
          "paper_bgcolor": "rgb(17,17,17)",
          "plot_bgcolor": "rgb(17,17,17)",
          "polar": {
           "angularaxis": {
            "gridcolor": "#506784",
            "linecolor": "#506784",
            "ticks": ""
           },
           "bgcolor": "rgb(17,17,17)",
           "radialaxis": {
            "gridcolor": "#506784",
            "linecolor": "#506784",
            "ticks": ""
           }
          },
          "scene": {
           "xaxis": {
            "backgroundcolor": "rgb(17,17,17)",
            "gridcolor": "#506784",
            "gridwidth": 2,
            "linecolor": "#506784",
            "showbackground": true,
            "ticks": "",
            "zerolinecolor": "#C8D4E3"
           },
           "yaxis": {
            "backgroundcolor": "rgb(17,17,17)",
            "gridcolor": "#506784",
            "gridwidth": 2,
            "linecolor": "#506784",
            "showbackground": true,
            "ticks": "",
            "zerolinecolor": "#C8D4E3"
           },
           "zaxis": {
            "backgroundcolor": "rgb(17,17,17)",
            "gridcolor": "#506784",
            "gridwidth": 2,
            "linecolor": "#506784",
            "showbackground": true,
            "ticks": "",
            "zerolinecolor": "#C8D4E3"
           }
          },
          "shapedefaults": {
           "line": {
            "color": "#f2f5fa"
           }
          },
          "sliderdefaults": {
           "bgcolor": "#C8D4E3",
           "bordercolor": "rgb(17,17,17)",
           "borderwidth": 1,
           "tickwidth": 0
          },
          "ternary": {
           "aaxis": {
            "gridcolor": "#506784",
            "linecolor": "#506784",
            "ticks": ""
           },
           "baxis": {
            "gridcolor": "#506784",
            "linecolor": "#506784",
            "ticks": ""
           },
           "bgcolor": "rgb(17,17,17)",
           "caxis": {
            "gridcolor": "#506784",
            "linecolor": "#506784",
            "ticks": ""
           }
          },
          "title": {
           "x": 0.05
          },
          "updatemenudefaults": {
           "bgcolor": "#506784",
           "borderwidth": 0
          },
          "xaxis": {
           "automargin": true,
           "gridcolor": "#283442",
           "linecolor": "#506784",
           "ticks": "",
           "title": {
            "standoff": 15
           },
           "zerolinecolor": "#283442",
           "zerolinewidth": 2
          },
          "yaxis": {
           "automargin": true,
           "gridcolor": "#283442",
           "linecolor": "#506784",
           "ticks": "",
           "title": {
            "standoff": 15
           },
           "zerolinecolor": "#283442",
           "zerolinewidth": 2
          }
         }
        },
        "title": {
         "text": "Hierarchical Clusters of positive and negative diagnosis"
        },
        "xaxis": {
         "anchor": "y",
         "domain": [
          0,
          1
         ],
         "showgrid": false,
         "title": {
          "text": "x"
         },
         "visible": false,
         "zeroline": false
        },
        "yaxis": {
         "anchor": "x",
         "domain": [
          0,
          1
         ],
         "showgrid": false,
         "title": {
          "text": "y"
         },
         "visible": false,
         "zeroline": false
        }
       }
      }
     },
     "metadata": {},
     "output_type": "display_data"
    }
   ],
   "source": [
    "# Hierarchical Clustering\n",
    "hierarchical_model = AgglomerativeClustering(n_clusters=2)\n",
    "hierarchical_labels = hierarchical_model.fit_predict(pca_df)\n",
    "\n",
    "fig = px.scatter(x=pca_df[:, 0], y=pca_df[:, 1], color=hierarchical_labels, template='plotly_dark')\n",
    "fig.update_layout(title='Hierarchical Clusters of positive and negative diagnosis')\n",
    "fig.update_layout(xaxis_visible=False, yaxis_visible=False, xaxis=dict(showgrid=False, zeroline=False), yaxis=dict(showgrid=False, zeroline=False))\n",
    "fig.show()"
   ]
  },
  {
   "cell_type": "code",
   "execution_count": 1,
   "id": "2bacad90",
   "metadata": {},
   "outputs": [
    {
     "name": "stdout",
     "output_type": "stream",
     "text": [
      "           Decision Tree  Random Forest  K-Nearest Neighbors  Neural Network\n",
      "Accuracy        0.750000       0.766667             0.783333        0.850000\n",
      "Precision       0.762514       0.775556             0.789062        0.849714\n",
      "Recall          0.750000       0.766667             0.783333        0.850000\n",
      "F1_Score        0.751044       0.767708             0.784242        0.849616\n",
      "(4, 4)\n"
     ]
    }
   ],
   "source": [
    "import pandas as pd\n",
    "from sklearn.model_selection import train_test_split, GridSearchCV\n",
    "from sklearn.preprocessing import StandardScaler, MinMaxScaler\n",
    "from sklearn.feature_selection import SelectKBest, f_classif\n",
    "from sklearn.metrics import precision_recall_fscore_support\n",
    "from sklearn.tree import DecisionTreeClassifier\n",
    "from sklearn.ensemble import RandomForestClassifier\n",
    "from sklearn.neighbors import KNeighborsClassifier\n",
    "from sklearn.neural_network import MLPClassifier\n",
    "\n",
    "# Load the dataset\n",
    "data = pd.read_csv('C:\\\\Users\\\\user\\\\Desktop\\\\zz\\\\heart.csv')\n",
    "\n",
    "# Data cleaning\n",
    "# Check for missing values\n",
    "missing_values = data.isnull().sum()\n",
    "\n",
    "# Data preprocessing\n",
    "# Replace missing values with the mean of the respective column\n",
    "data.fillna(data.mean(), inplace=True)\n",
    "\n",
    "# Feature Selection\n",
    "X = data.drop('target', axis=1)\n",
    "y = data['target']\n",
    "\n",
    "# Selecting the top 5 features\n",
    "best_features = SelectKBest(score_func=f_classif, k=5)\n",
    "X = best_features.fit_transform(X, y)\n",
    "\n",
    "# Data Split\n",
    "X_train, X_test, y_train, y_test = train_test_split(X, y, test_size=0.2, random_state=42)\n",
    "\n",
    "# Data Scaling\n",
    "scaler = StandardScaler()\n",
    "X_train = scaler.fit_transform(X_train)\n",
    "X_test = scaler.transform(X_test)\n",
    "\n",
    "# Model 1: Decision Tree\n",
    "param_grid_tree = {\n",
    "    'criterion': ['gini', 'entropy'],\n",
    "    'splitter': ['best', 'random'],\n",
    "    'max_depth': [10, 20, 30],\n",
    "    'min_samples_split': [2, 5, 10],\n",
    "    'min_samples_leaf': [2, 4]\n",
    "}\n",
    "\n",
    "grid_search_tree = GridSearchCV(DecisionTreeClassifier(random_state=122), param_grid_tree, cv=5, scoring='accuracy', n_jobs=-1)\n",
    "grid_search_tree.fit(X_train, y_train)\n",
    "best_tree = grid_search_tree.best_estimator_\n",
    "\n",
    "# Model 2: Random Forest\n",
    "param_grid_forest = {\n",
    "    'n_estimators': [100, 200, 300],\n",
    "    'criterion': ['gini', 'entropy'],\n",
    "    'max_depth': [10, 20, 30],\n",
    "    'min_samples_split': [2, 5, 10],\n",
    "    'min_samples_leaf': [2, 4],\n",
    "    'max_features': ['sqrt', 'log2']\n",
    "}\n",
    "\n",
    "grid_search_forest = GridSearchCV(RandomForestClassifier(random_state=122), param_grid_forest, cv=5, scoring='accuracy', n_jobs=-1)\n",
    "grid_search_forest.fit(X_train, y_train)\n",
    "best_forest = grid_search_forest.best_estimator_\n",
    "\n",
    "# Model 3: K-Nearest Neighbors\n",
    "param_grid_knn = {\n",
    "    'n_neighbors': range(1, 21),\n",
    "    'p': [1, 2]\n",
    "}\n",
    "\n",
    "grid_search_knn = GridSearchCV(KNeighborsClassifier(), param_grid_knn, cv=5, scoring='accuracy', n_jobs=-1)\n",
    "grid_search_knn.fit(X_train, y_train)\n",
    "best_knn = grid_search_knn.best_estimator_\n",
    "\n",
    "# Model 4: Neural Network\n",
    "param_grid_mlp = {\n",
    "    'hidden_layer_sizes': [(50,), (100,), (150,)],\n",
    "    'activation': ['relu', 'tanh', 'logistic'],\n",
    "    'solver': ['adam', 'sgd'],\n",
    "    'max_iter': [200, 300]\n",
    "}\n",
    "\n",
    "grid_search_mlp = GridSearchCV(MLPClassifier(random_state=122), param_grid_mlp, cv=5, scoring='accuracy', n_jobs=-1)\n",
    "grid_search_mlp.fit(X_train, y_train)\n",
    "best_mlp = grid_search_mlp.best_estimator_\n",
    "\n",
    "# Performance Evaluation\n",
    "def performance_evaluation(X, y, clf, classifier_name=''):\n",
    "    y_pred = clf.predict(X)\n",
    "    accuracy = clf.score(X, y)\n",
    "    precision, recall, fscore, support = precision_recall_fscore_support(y, y_pred, average='weighted', zero_division=0)\n",
    "    metricName = ['Accuracy', 'Precision', 'Recall', 'F1_Score']\n",
    "    metricValue = [accuracy, precision, recall, fscore]\n",
    "    res = pd.DataFrame(metricValue, index=metricName, columns=[classifier_name])\n",
    "    return res\n",
    "\n",
    "tree_summary = performance_evaluation(X_test, y_test, best_tree, 'Decision Tree')\n",
    "forest_summary = performance_evaluation(X_test, y_test, best_forest, 'Random Forest')\n",
    "knn_summary = performance_evaluation(X_test, y_test, best_knn, 'K-Nearest Neighbors')\n",
    "mlp_summary = performance_evaluation(X_test, y_test, best_mlp, 'Neural Network')\n",
    "\n",
    "# Combine the summary of each model into a dataframe\n",
    "comparison_df = pd.concat([tree_summary, forest_summary, knn_summary, mlp_summary], axis=1)\n",
    "\n",
    "# Display the summary dataframe\n",
    "print(comparison_df)"
   ]
  }
 ],
 "metadata": {
  "kernelspec": {
   "display_name": "Python 3",
   "language": "python",
   "name": "python3"
  },
  "language_info": {
   "codemirror_mode": {
    "name": "ipython",
    "version": 3
   },
   "file_extension": ".py",
   "mimetype": "text/x-python",
   "name": "python",
   "nbconvert_exporter": "python",
   "pygments_lexer": "ipython3",
   "version": "3.10.5"
  },
  "papermill": {
   "default_parameters": {},
   "duration": 20.95698,
   "end_time": "2023-04-04T22:22:24.963757",
   "environment_variables": {},
   "exception": null,
   "input_path": "__notebook__.ipynb",
   "output_path": "__notebook__.ipynb",
   "parameters": {},
   "start_time": "2023-04-04T22:22:04.006777",
   "version": "2.4.0"
  }
 },
 "nbformat": 4,
 "nbformat_minor": 5
}
